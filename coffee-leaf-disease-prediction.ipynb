{
 "cells": [
  {
   "cell_type": "code",
   "execution_count": 1,
   "id": "ce46f3c2",
   "metadata": {
    "_cell_guid": "b1076dfc-b9ad-4769-8c92-a6c4dae69d19",
    "_uuid": "8f2839f25d086af736a60e9eeb907d3b93b6e0e5",
    "execution": {
     "iopub.execute_input": "2022-01-09T14:46:23.687453Z",
     "iopub.status.busy": "2022-01-09T14:46:23.686277Z",
     "iopub.status.idle": "2022-01-09T14:46:29.382467Z",
     "shell.execute_reply": "2022-01-09T14:46:29.383018Z",
     "shell.execute_reply.started": "2022-01-09T14:29:15.725885Z"
    },
    "papermill": {
     "duration": 5.70512,
     "end_time": "2022-01-09T14:46:29.383347",
     "exception": false,
     "start_time": "2022-01-09T14:46:23.678227",
     "status": "completed"
    },
    "tags": []
   },
   "outputs": [],
   "source": [
    "# This Python 3 environment comes with many helpful analytics libraries installed\n",
    "# It is defined by the kaggle/python Docker image: https://github.com/kaggle/docker-python\n",
    "# For example, here's several helpful packages to load\n",
    "\n",
    "import numpy as np # linear algebra\n",
    "import pandas as pd # data processing, CSV file I/O (e.g. pd.read_csv)\n",
    "\n",
    "import keras\n",
    "\n",
    "# Input data files are available in the read-only \"../input/\" directory\n",
    "# For example, running this (by clicking run or pressing Shift+Enter) will list all files under the input directory\n",
    "\n",
    "import os\n",
    "\n",
    "from keras.preprocessing import image\n",
    "\n",
    "import tensorflow as tf\n",
    "\n",
    "# You can write up to 20GB to the current directory (/kaggle/working/) that gets preserved as output when you create a version using \"Save & Run All\" \n",
    "# You can also write temporary files to /kaggle/temp/, but they won't be saved outside of the current session"
   ]
  },
  {
   "cell_type": "code",
   "execution_count": 2,
   "id": "08925ba8",
   "metadata": {
    "execution": {
     "iopub.execute_input": "2022-01-09T14:46:29.395647Z",
     "iopub.status.busy": "2022-01-09T14:46:29.394931Z",
     "iopub.status.idle": "2022-01-09T14:46:46.166268Z",
     "shell.execute_reply": "2022-01-09T14:46:46.165524Z",
     "shell.execute_reply.started": "2022-01-09T14:29:15.737901Z"
    },
    "papermill": {
     "duration": 16.777615,
     "end_time": "2022-01-09T14:46:46.166446",
     "exception": false,
     "start_time": "2022-01-09T14:46:29.388831",
     "status": "completed"
    },
    "tags": []
   },
   "outputs": [
    {
     "name": "stderr",
     "output_type": "stream",
     "text": [
      "\n",
      "User settings:\n",
      "\n",
      "   KMP_AFFINITY=granularity=fine,verbose,compact,1,0\n",
      "   KMP_BLOCKTIME=0\n",
      "   KMP_SETTINGS=1\n",
      "   KMP_WARNINGS=0\n",
      "\n",
      "Effective settings:\n",
      "\n",
      "   KMP_ABORT_DELAY=0\n",
      "   KMP_ADAPTIVE_LOCK_PROPS='1,1024'\n",
      "   KMP_ALIGN_ALLOC=64\n",
      "   KMP_ALL_THREADPRIVATE=128\n",
      "   KMP_ATOMIC_MODE=2\n",
      "   KMP_BLOCKTIME=0\n",
      "   KMP_CPUINFO_FILE: value is not defined\n",
      "   KMP_DETERMINISTIC_REDUCTION=false\n",
      "   KMP_DEVICE_THREAD_LIMIT=2147483647\n",
      "   KMP_DISP_NUM_BUFFERS=7\n",
      "   KMP_DUPLICATE_LIB_OK=false\n",
      "   KMP_ENABLE_TASK_THROTTLING=true\n",
      "   KMP_FORCE_REDUCTION: value is not defined\n",
      "   KMP_FOREIGN_THREADS_THREADPRIVATE=true\n",
      "   KMP_FORKJOIN_BARRIER='2,2'\n",
      "   KMP_FORKJOIN_BARRIER_PATTERN='hyper,hyper'\n",
      "   KMP_GTID_MODE=3\n",
      "   KMP_HANDLE_SIGNALS=false\n",
      "   KMP_HOT_TEAMS_MAX_LEVEL=1\n",
      "   KMP_HOT_TEAMS_MODE=0\n",
      "   KMP_INIT_AT_FORK=true\n",
      "   KMP_LIBRARY=throughput\n",
      "   KMP_LOCK_KIND=queuing\n",
      "   KMP_MALLOC_POOL_INCR=1M\n",
      "   KMP_NUM_LOCKS_IN_BLOCK=1\n",
      "   KMP_PLAIN_BARRIER='2,2'\n",
      "   KMP_PLAIN_BARRIER_PATTERN='hyper,hyper'\n",
      "   KMP_REDUCTION_BARRIER='1,1'\n",
      "   KMP_REDUCTION_BARRIER_PATTERN='hyper,hyper'\n",
      "   KMP_SCHEDULE='static,balanced;guided,iterative'\n",
      "   KMP_SETTINGS=true\n",
      "   KMP_SPIN_BACKOFF_PARAMS='4096,100'\n",
      "   KMP_STACKOFFSET=64\n",
      "   KMP_STACKPAD=0\n",
      "   KMP_STACKSIZE=8M\n",
      "   KMP_STORAGE_MAP=false\n",
      "   KMP_TASKING=2\n",
      "   KMP_TASKLOOP_MIN_TASKS=0\n",
      "   KMP_TASK_STEALING_CONSTRAINT=1\n",
      "   KMP_TEAMS_THREAD_LIMIT=4\n",
      "   KMP_TOPOLOGY_METHOD=all\n",
      "   KMP_USE_YIELD=1\n",
      "   KMP_VERSION=false\n",
      "   KMP_WARNINGS=false\n",
      "   OMP_AFFINITY_FORMAT='OMP: pid %P tid %i thread %n bound to OS proc set {%A}'\n",
      "   OMP_ALLOCATOR=omp_default_mem_alloc\n",
      "   OMP_CANCELLATION=false\n",
      "   OMP_DEFAULT_DEVICE=0\n",
      "   OMP_DISPLAY_AFFINITY=false\n",
      "   OMP_DISPLAY_ENV=false\n",
      "   OMP_DYNAMIC=false\n",
      "   OMP_MAX_ACTIVE_LEVELS=1\n",
      "   OMP_MAX_TASK_PRIORITY=0\n",
      "   OMP_NESTED: deprecated; max-active-levels-var=1\n",
      "   OMP_NUM_THREADS: value is not defined\n",
      "   OMP_PLACES: value is not defined\n",
      "   OMP_PROC_BIND='intel'\n",
      "   OMP_SCHEDULE='static'\n",
      "   OMP_STACKSIZE=8M\n",
      "   OMP_TARGET_OFFLOAD=DEFAULT\n",
      "   OMP_THREAD_LIMIT=2147483647\n",
      "   OMP_WAIT_POLICY=PASSIVE\n",
      "   KMP_AFFINITY='verbose,warnings,respect,granularity=fine,compact,1,0'\n",
      "\n",
      "2022-01-09 14:46:29.474071: I tensorflow/core/common_runtime/process_util.cc:146] Creating new thread pool with default inter op setting: 2. Tune using inter_op_parallelism_threads for best performance.\n"
     ]
    }
   ],
   "source": [
    "#Load models\n",
    "binminer = keras.models.load_model('/kaggle/input/coffee-disease-trained-models/binminer.h5')\n",
    "binrust = keras.models.load_model('/kaggle/input/coffee-disease-trained-models/binrust.h5')\n",
    "binphoma = keras.models.load_model('/kaggle/input/coffee-disease-trained-models/binphoma.h5')"
   ]
  },
  {
   "cell_type": "code",
   "execution_count": 3,
   "id": "2f2fc219",
   "metadata": {
    "execution": {
     "iopub.execute_input": "2022-01-09T14:46:46.177523Z",
     "iopub.status.busy": "2022-01-09T14:46:46.176880Z",
     "iopub.status.idle": "2022-01-09T15:15:03.114245Z",
     "shell.execute_reply": "2022-01-09T15:15:03.114724Z"
    },
    "papermill": {
     "duration": 1696.944328,
     "end_time": "2022-01-09T15:15:03.114921",
     "exception": false,
     "start_time": "2022-01-09T14:46:46.170593",
     "status": "completed"
    },
    "tags": []
   },
   "outputs": [
    {
     "name": "stdout",
     "output_type": "stream",
     "text": [
      "Truth\n"
     ]
    },
    {
     "data": {
      "text/plain": [
       "id       64\n",
       "miner     1\n",
       "rust      0\n",
       "phoma     0\n",
       "Name: 0, dtype: int64"
      ]
     },
     "metadata": {},
     "output_type": "display_data"
    },
    {
     "name": "stderr",
     "output_type": "stream",
     "text": [
      "2022-01-09 14:46:46.331328: I tensorflow/compiler/mlir/mlir_graph_optimization_pass.cc:185] None of the MLIR Optimization Passes are enabled (registered 2)\n"
     ]
    },
    {
     "name": "stdout",
     "output_type": "stream",
     "text": [
      "Prediction 1 0 0\n",
      "Prediction -89.665955 -13.041667 -23.900549\n",
      "\u001b[1;30;32m CORRECT\n",
      "\n",
      "\u001b[0;30;30m --------------------------\n",
      "\n",
      "Truth\n"
     ]
    },
    {
     "data": {
      "text/plain": [
       "id       65\n",
       "miner     1\n",
       "rust      0\n",
       "phoma     0\n",
       "Name: 1, dtype: int64"
      ]
     },
     "metadata": {},
     "output_type": "display_data"
    },
    {
     "name": "stdout",
     "output_type": "stream",
     "text": [
      "Prediction 1 0 0\n",
      "Prediction -79.32606 -7.7909408 -23.266024\n",
      "\u001b[1;30;32m CORRECT\n",
      "\n",
      "\u001b[0;30;30m --------------------------\n",
      "\n",
      "Truth\n"
     ]
    },
    {
     "data": {
      "text/plain": [
       "id       66\n",
       "miner     1\n",
       "rust      0\n",
       "phoma     0\n",
       "Name: 2, dtype: int64"
      ]
     },
     "metadata": {},
     "output_type": "display_data"
    },
    {
     "name": "stdout",
     "output_type": "stream",
     "text": [
      "Prediction 1 0 0\n",
      "Prediction -83.00167 -13.433775 -23.029673\n",
      "\u001b[1;30;32m CORRECT\n",
      "\n",
      "\u001b[0;30;30m --------------------------\n",
      "\n",
      "Truth\n"
     ]
    },
    {
     "data": {
      "text/plain": [
       "id       67\n",
       "miner     1\n",
       "rust      0\n",
       "phoma     0\n",
       "Name: 3, dtype: int64"
      ]
     },
     "metadata": {},
     "output_type": "display_data"
    },
    {
     "name": "stdout",
     "output_type": "stream",
     "text": [
      "Prediction 1 0 0\n",
      "Prediction -80.053894 -10.554539 -21.0225\n",
      "\u001b[1;30;32m CORRECT\n",
      "\n",
      "\u001b[0;30;30m --------------------------\n",
      "\n",
      "Truth\n"
     ]
    },
    {
     "data": {
      "text/plain": [
       "id       68\n",
       "miner     1\n",
       "rust      0\n",
       "phoma     0\n",
       "Name: 4, dtype: int64"
      ]
     },
     "metadata": {},
     "output_type": "display_data"
    },
    {
     "name": "stdout",
     "output_type": "stream",
     "text": [
      "Prediction 1 0 0\n",
      "Prediction -29.078405 -9.869035 -22.214264\n",
      "\u001b[1;30;32m CORRECT\n",
      "\n",
      "\u001b[0;30;30m --------------------------\n",
      "\n",
      "Truth\n"
     ]
    },
    {
     "data": {
      "text/plain": [
       "id       69\n",
       "miner     1\n",
       "rust      0\n",
       "phoma     0\n",
       "Name: 5, dtype: int64"
      ]
     },
     "metadata": {},
     "output_type": "display_data"
    },
    {
     "name": "stdout",
     "output_type": "stream",
     "text": [
      "Prediction 1 0 0\n",
      "Prediction -32.730133 -11.871232 -21.22087\n",
      "\u001b[1;30;32m CORRECT\n",
      "\n",
      "\u001b[0;30;30m --------------------------\n",
      "\n",
      "Truth\n"
     ]
    },
    {
     "data": {
      "text/plain": [
       "id       70\n",
       "miner     1\n",
       "rust      0\n",
       "phoma     0\n",
       "Name: 6, dtype: int64"
      ]
     },
     "metadata": {},
     "output_type": "display_data"
    },
    {
     "name": "stdout",
     "output_type": "stream",
     "text": [
      "Prediction 1 0 0\n",
      "Prediction -28.744501 -9.785055 -21.234406\n",
      "\u001b[1;30;32m CORRECT\n",
      "\n",
      "\u001b[0;30;30m --------------------------\n",
      "\n",
      "Truth\n"
     ]
    },
    {
     "data": {
      "text/plain": [
       "id       71\n",
       "miner     1\n",
       "rust      0\n",
       "phoma     0\n",
       "Name: 7, dtype: int64"
      ]
     },
     "metadata": {},
     "output_type": "display_data"
    },
    {
     "name": "stdout",
     "output_type": "stream",
     "text": [
      "Prediction 1 0 0\n",
      "Prediction -31.753109 -11.414886 -22.405806\n",
      "\u001b[1;30;32m CORRECT\n",
      "\n",
      "\u001b[0;30;30m --------------------------\n",
      "\n",
      "Truth\n"
     ]
    },
    {
     "data": {
      "text/plain": [
       "id       72\n",
       "miner     1\n",
       "rust      0\n",
       "phoma     0\n",
       "Name: 8, dtype: int64"
      ]
     },
     "metadata": {},
     "output_type": "display_data"
    },
    {
     "name": "stdout",
     "output_type": "stream",
     "text": [
      "Prediction 1 0 0\n",
      "Prediction -107.44887 -15.69867 -20.283838\n",
      "\u001b[1;30;32m CORRECT\n",
      "\n",
      "\u001b[0;30;30m --------------------------\n",
      "\n",
      "Truth\n"
     ]
    },
    {
     "data": {
      "text/plain": [
       "id       73\n",
       "miner     1\n",
       "rust      0\n",
       "phoma     0\n",
       "Name: 9, dtype: int64"
      ]
     },
     "metadata": {},
     "output_type": "display_data"
    },
    {
     "name": "stdout",
     "output_type": "stream",
     "text": [
      "Prediction 1 0 0\n",
      "Prediction -99.638374 -14.60378 -24.309761\n",
      "\u001b[1;30;32m CORRECT\n",
      "\n",
      "\u001b[0;30;30m --------------------------\n",
      "\n",
      "Truth\n"
     ]
    },
    {
     "data": {
      "text/plain": [
       "id       74\n",
       "miner     1\n",
       "rust      0\n",
       "phoma     0\n",
       "Name: 10, dtype: int64"
      ]
     },
     "metadata": {},
     "output_type": "display_data"
    },
    {
     "name": "stdout",
     "output_type": "stream",
     "text": [
      "Prediction 1 0 0\n",
      "Prediction -93.21431 -16.142878 -21.836866\n",
      "\u001b[1;30;32m CORRECT\n",
      "\n",
      "\u001b[0;30;30m --------------------------\n",
      "\n",
      "Truth\n"
     ]
    },
    {
     "data": {
      "text/plain": [
       "id       75\n",
       "miner     1\n",
       "rust      0\n",
       "phoma     0\n",
       "Name: 11, dtype: int64"
      ]
     },
     "metadata": {},
     "output_type": "display_data"
    },
    {
     "name": "stdout",
     "output_type": "stream",
     "text": [
      "Prediction 1 0 0\n",
      "Prediction -101.82938 -16.374311 -22.075134\n",
      "\u001b[1;30;32m CORRECT\n",
      "\n",
      "\u001b[0;30;30m --------------------------\n",
      "\n",
      "Truth\n"
     ]
    },
    {
     "data": {
      "text/plain": [
       "id       76\n",
       "miner     1\n",
       "rust      0\n",
       "phoma     0\n",
       "Name: 12, dtype: int64"
      ]
     },
     "metadata": {},
     "output_type": "display_data"
    },
    {
     "name": "stdout",
     "output_type": "stream",
     "text": [
      "Prediction 1 0 0\n",
      "Prediction -11.190953 -9.530483 -21.773613\n",
      "\u001b[1;30;32m CORRECT\n",
      "\n",
      "\u001b[0;30;30m --------------------------\n",
      "\n",
      "Truth\n"
     ]
    },
    {
     "data": {
      "text/plain": [
       "id       77\n",
       "miner     1\n",
       "rust      0\n",
       "phoma     0\n",
       "Name: 13, dtype: int64"
      ]
     },
     "metadata": {},
     "output_type": "display_data"
    },
    {
     "name": "stdout",
     "output_type": "stream",
     "text": [
      "Prediction 1 0 0\n",
      "Prediction -16.672333 -11.586386 -25.018328\n",
      "\u001b[1;30;32m CORRECT\n",
      "\n",
      "\u001b[0;30;30m --------------------------\n",
      "\n",
      "Truth\n"
     ]
    },
    {
     "data": {
      "text/plain": [
       "id       78\n",
       "miner     1\n",
       "rust      0\n",
       "phoma     0\n",
       "Name: 14, dtype: int64"
      ]
     },
     "metadata": {},
     "output_type": "display_data"
    },
    {
     "name": "stdout",
     "output_type": "stream",
     "text": [
      "Prediction 1 0 0\n",
      "Prediction -16.836145 -10.336494 -22.771782\n",
      "\u001b[1;30;32m CORRECT\n",
      "\n",
      "\u001b[0;30;30m --------------------------\n",
      "\n",
      "Truth\n"
     ]
    },
    {
     "data": {
      "text/plain": [
       "id       79\n",
       "miner     1\n",
       "rust      0\n",
       "phoma     0\n",
       "Name: 15, dtype: int64"
      ]
     },
     "metadata": {},
     "output_type": "display_data"
    },
    {
     "name": "stdout",
     "output_type": "stream",
     "text": [
      "Prediction 1 0 0\n",
      "Prediction -19.455 -12.013554 -25.108164\n",
      "\u001b[1;30;32m CORRECT\n",
      "\n",
      "\u001b[0;30;30m --------------------------\n",
      "\n",
      "Truth\n"
     ]
    },
    {
     "data": {
      "text/plain": [
       "id       80\n",
       "miner     1\n",
       "rust      0\n",
       "phoma     0\n",
       "Name: 16, dtype: int64"
      ]
     },
     "metadata": {},
     "output_type": "display_data"
    },
    {
     "name": "stdout",
     "output_type": "stream",
     "text": [
      "Prediction 1 0 0\n",
      "Prediction -43.810337 -11.740736 -27.253553\n",
      "\u001b[1;30;32m CORRECT\n",
      "\n",
      "\u001b[0;30;30m --------------------------\n",
      "\n",
      "Truth\n"
     ]
    },
    {
     "data": {
      "text/plain": [
       "id       81\n",
       "miner     1\n",
       "rust      0\n",
       "phoma     0\n",
       "Name: 17, dtype: int64"
      ]
     },
     "metadata": {},
     "output_type": "display_data"
    },
    {
     "name": "stdout",
     "output_type": "stream",
     "text": [
      "Prediction 1 0 0\n",
      "Prediction -43.00258 -11.639412 -29.348051\n",
      "\u001b[1;30;32m CORRECT\n",
      "\n",
      "\u001b[0;30;30m --------------------------\n",
      "\n",
      "Truth\n"
     ]
    },
    {
     "data": {
      "text/plain": [
       "id       82\n",
       "miner     1\n",
       "rust      0\n",
       "phoma     0\n",
       "Name: 18, dtype: int64"
      ]
     },
     "metadata": {},
     "output_type": "display_data"
    },
    {
     "name": "stdout",
     "output_type": "stream",
     "text": [
      "Prediction 1 0 0\n",
      "Prediction -41.34379 -12.227791 -26.242088\n",
      "\u001b[1;30;32m CORRECT\n",
      "\n",
      "\u001b[0;30;30m --------------------------\n",
      "\n",
      "Truth\n"
     ]
    },
    {
     "data": {
      "text/plain": [
       "id       83\n",
       "miner     1\n",
       "rust      0\n",
       "phoma     0\n",
       "Name: 19, dtype: int64"
      ]
     },
     "metadata": {},
     "output_type": "display_data"
    },
    {
     "name": "stdout",
     "output_type": "stream",
     "text": [
      "Prediction 1 0 0\n",
      "Prediction -39.898067 -12.399188 -27.91563\n",
      "\u001b[1;30;32m CORRECT\n",
      "\n",
      "\u001b[0;30;30m --------------------------\n",
      "\n",
      "Truth\n"
     ]
    },
    {
     "data": {
      "text/plain": [
       "id       84\n",
       "miner     1\n",
       "rust      0\n",
       "phoma     0\n",
       "Name: 20, dtype: int64"
      ]
     },
     "metadata": {},
     "output_type": "display_data"
    },
    {
     "name": "stdout",
     "output_type": "stream",
     "text": [
      "Prediction 1 0 0\n",
      "Prediction -56.072464 -19.332874 -16.433264\n",
      "\u001b[1;30;32m CORRECT\n",
      "\n",
      "\u001b[0;30;30m --------------------------\n",
      "\n",
      "Truth\n"
     ]
    },
    {
     "data": {
      "text/plain": [
       "id       85\n",
       "miner     1\n",
       "rust      0\n",
       "phoma     0\n",
       "Name: 21, dtype: int64"
      ]
     },
     "metadata": {},
     "output_type": "display_data"
    },
    {
     "name": "stdout",
     "output_type": "stream",
     "text": [
      "Prediction 1 0 0\n",
      "Prediction -52.57671 -19.994009 -16.4895\n",
      "\u001b[1;30;32m CORRECT\n",
      "\n",
      "\u001b[0;30;30m --------------------------\n",
      "\n",
      "Truth\n"
     ]
    },
    {
     "data": {
      "text/plain": [
       "id       86\n",
       "miner     1\n",
       "rust      0\n",
       "phoma     0\n",
       "Name: 22, dtype: int64"
      ]
     },
     "metadata": {},
     "output_type": "display_data"
    },
    {
     "name": "stdout",
     "output_type": "stream",
     "text": [
      "Prediction 1 0 0\n",
      "Prediction -61.308212 -19.513052 -16.289278\n",
      "\u001b[1;30;32m CORRECT\n",
      "\n",
      "\u001b[0;30;30m --------------------------\n",
      "\n",
      "Truth\n"
     ]
    },
    {
     "data": {
      "text/plain": [
       "id       87\n",
       "miner     1\n",
       "rust      0\n",
       "phoma     0\n",
       "Name: 23, dtype: int64"
      ]
     },
     "metadata": {},
     "output_type": "display_data"
    },
    {
     "name": "stdout",
     "output_type": "stream",
     "text": [
      "Prediction 1 0 0\n",
      "Prediction -52.795498 -18.63784 -18.1513\n",
      "\u001b[1;30;32m CORRECT\n",
      "\n",
      "\u001b[0;30;30m --------------------------\n",
      "\n",
      "Truth\n"
     ]
    },
    {
     "data": {
      "text/plain": [
       "id       88\n",
       "miner     1\n",
       "rust      0\n",
       "phoma     0\n",
       "Name: 24, dtype: int64"
      ]
     },
     "metadata": {},
     "output_type": "display_data"
    },
    {
     "name": "stdout",
     "output_type": "stream",
     "text": [
      "Prediction 1 0 0\n",
      "Prediction -88.65359 -19.962564 -27.33047\n",
      "\u001b[1;30;32m CORRECT\n",
      "\n",
      "\u001b[0;30;30m --------------------------\n",
      "\n",
      "Truth\n"
     ]
    },
    {
     "data": {
      "text/plain": [
       "id       89\n",
       "miner     1\n",
       "rust      0\n",
       "phoma     0\n",
       "Name: 25, dtype: int64"
      ]
     },
     "metadata": {},
     "output_type": "display_data"
    },
    {
     "name": "stdout",
     "output_type": "stream",
     "text": [
      "Prediction 1 0 0\n",
      "Prediction -90.1013 -17.338446 -27.179832\n",
      "\u001b[1;30;32m CORRECT\n",
      "\n",
      "\u001b[0;30;30m --------------------------\n",
      "\n",
      "Truth\n"
     ]
    },
    {
     "data": {
      "text/plain": [
       "id       90\n",
       "miner     1\n",
       "rust      0\n",
       "phoma     0\n",
       "Name: 26, dtype: int64"
      ]
     },
     "metadata": {},
     "output_type": "display_data"
    },
    {
     "name": "stdout",
     "output_type": "stream",
     "text": [
      "Prediction 1 0 0\n",
      "Prediction -91.257385 -20.76139 -26.669254\n",
      "\u001b[1;30;32m CORRECT\n",
      "\n",
      "\u001b[0;30;30m --------------------------\n",
      "\n",
      "Truth\n"
     ]
    },
    {
     "data": {
      "text/plain": [
       "id       91\n",
       "miner     1\n",
       "rust      0\n",
       "phoma     0\n",
       "Name: 27, dtype: int64"
      ]
     },
     "metadata": {},
     "output_type": "display_data"
    },
    {
     "name": "stdout",
     "output_type": "stream",
     "text": [
      "Prediction 1 0 0\n",
      "Prediction -82.38484 -18.975254 -26.852364\n",
      "\u001b[1;30;32m CORRECT\n",
      "\n",
      "\u001b[0;30;30m --------------------------\n",
      "\n",
      "Truth\n"
     ]
    },
    {
     "data": {
      "text/plain": [
       "id       92\n",
       "miner     1\n",
       "rust      0\n",
       "phoma     0\n",
       "Name: 28, dtype: int64"
      ]
     },
     "metadata": {},
     "output_type": "display_data"
    },
    {
     "name": "stdout",
     "output_type": "stream",
     "text": [
      "Prediction 1 0 0\n",
      "Prediction -78.36062 -13.209772 -20.713923\n",
      "\u001b[1;30;32m CORRECT\n",
      "\n",
      "\u001b[0;30;30m --------------------------\n",
      "\n",
      "Truth\n"
     ]
    },
    {
     "data": {
      "text/plain": [
       "id       93\n",
       "miner     1\n",
       "rust      0\n",
       "phoma     0\n",
       "Name: 29, dtype: int64"
      ]
     },
     "metadata": {},
     "output_type": "display_data"
    },
    {
     "name": "stdout",
     "output_type": "stream",
     "text": [
      "Prediction 1 0 0\n",
      "Prediction -66.356804 -12.241599 -20.262638\n",
      "\u001b[1;30;32m CORRECT\n",
      "\n",
      "\u001b[0;30;30m --------------------------\n",
      "\n",
      "Truth\n"
     ]
    },
    {
     "data": {
      "text/plain": [
       "id       94\n",
       "miner     1\n",
       "rust      0\n",
       "phoma     0\n",
       "Name: 30, dtype: int64"
      ]
     },
     "metadata": {},
     "output_type": "display_data"
    },
    {
     "name": "stdout",
     "output_type": "stream",
     "text": [
      "Prediction 1 0 0\n",
      "Prediction -77.50667 -12.299741 -22.557459\n",
      "\u001b[1;30;32m CORRECT\n",
      "\n",
      "\u001b[0;30;30m --------------------------\n",
      "\n",
      "Truth\n"
     ]
    },
    {
     "data": {
      "text/plain": [
       "id       95\n",
       "miner     1\n",
       "rust      0\n",
       "phoma     0\n",
       "Name: 31, dtype: int64"
      ]
     },
     "metadata": {},
     "output_type": "display_data"
    },
    {
     "name": "stdout",
     "output_type": "stream",
     "text": [
      "Prediction 1 0 0\n",
      "Prediction -72.10586 -13.592415 -22.119747\n",
      "\u001b[1;30;32m CORRECT\n",
      "\n",
      "\u001b[0;30;30m --------------------------\n",
      "\n",
      "Truth\n"
     ]
    },
    {
     "data": {
      "text/plain": [
       "id       96\n",
       "miner     1\n",
       "rust      0\n",
       "phoma     0\n",
       "Name: 32, dtype: int64"
      ]
     },
     "metadata": {},
     "output_type": "display_data"
    },
    {
     "name": "stdout",
     "output_type": "stream",
     "text": [
      "Prediction 1 0 0\n",
      "Prediction -29.41966 -9.923064 -27.62111\n",
      "\u001b[1;30;32m CORRECT\n",
      "\n",
      "\u001b[0;30;30m --------------------------\n",
      "\n",
      "Truth\n"
     ]
    },
    {
     "data": {
      "text/plain": [
       "id       97\n",
       "miner     1\n",
       "rust      0\n",
       "phoma     0\n",
       "Name: 33, dtype: int64"
      ]
     },
     "metadata": {},
     "output_type": "display_data"
    },
    {
     "name": "stdout",
     "output_type": "stream",
     "text": [
      "Prediction 1 0 0\n",
      "Prediction -33.900833 -10.518818 -28.630247\n",
      "\u001b[1;30;32m CORRECT\n",
      "\n",
      "\u001b[0;30;30m --------------------------\n",
      "\n",
      "Truth\n"
     ]
    },
    {
     "data": {
      "text/plain": [
       "id       98\n",
       "miner     1\n",
       "rust      0\n",
       "phoma     0\n",
       "Name: 34, dtype: int64"
      ]
     },
     "metadata": {},
     "output_type": "display_data"
    },
    {
     "name": "stdout",
     "output_type": "stream",
     "text": [
      "Prediction 1 0 0\n",
      "Prediction -28.716982 -9.65626 -29.747583\n",
      "\u001b[1;30;32m CORRECT\n",
      "\n",
      "\u001b[0;30;30m --------------------------\n",
      "\n",
      "Truth\n"
     ]
    },
    {
     "data": {
      "text/plain": [
       "id       99\n",
       "miner     1\n",
       "rust      0\n",
       "phoma     0\n",
       "Name: 35, dtype: int64"
      ]
     },
     "metadata": {},
     "output_type": "display_data"
    },
    {
     "name": "stdout",
     "output_type": "stream",
     "text": [
      "Prediction 1 0 0\n",
      "Prediction -33.009087 -11.093292 -28.369638\n",
      "\u001b[1;30;32m CORRECT\n",
      "\n",
      "\u001b[0;30;30m --------------------------\n",
      "\n",
      "Truth\n"
     ]
    },
    {
     "data": {
      "text/plain": [
       "id       500\n",
       "miner      0\n",
       "rust       0\n",
       "phoma      1\n",
       "Name: 36, dtype: int64"
      ]
     },
     "metadata": {},
     "output_type": "display_data"
    },
    {
     "name": "stdout",
     "output_type": "stream",
     "text": [
      "Prediction 0 0 1\n",
      "Prediction 16.760967 -16.559296 28.117378\n",
      "\u001b[1;30;32m CORRECT\n",
      "\n",
      "\u001b[0;30;30m --------------------------\n",
      "\n",
      "Truth\n"
     ]
    },
    {
     "data": {
      "text/plain": [
       "id       501\n",
       "miner      0\n",
       "rust       0\n",
       "phoma      1\n",
       "Name: 37, dtype: int64"
      ]
     },
     "metadata": {},
     "output_type": "display_data"
    },
    {
     "name": "stdout",
     "output_type": "stream",
     "text": [
      "Prediction 0 0 1\n",
      "Prediction 17.352627 -16.157804 28.40618\n",
      "\u001b[1;30;32m CORRECT\n",
      "\n",
      "\u001b[0;30;30m --------------------------\n",
      "\n",
      "Truth\n"
     ]
    },
    {
     "data": {
      "text/plain": [
       "id       502\n",
       "miner      0\n",
       "rust       0\n",
       "phoma      1\n",
       "Name: 38, dtype: int64"
      ]
     },
     "metadata": {},
     "output_type": "display_data"
    },
    {
     "name": "stdout",
     "output_type": "stream",
     "text": [
      "Prediction 0 0 1\n",
      "Prediction 14.481613 -17.926802 29.209074\n",
      "\u001b[1;30;32m CORRECT\n",
      "\n",
      "\u001b[0;30;30m --------------------------\n",
      "\n",
      "Truth\n"
     ]
    },
    {
     "data": {
      "text/plain": [
       "id       503\n",
       "miner      0\n",
       "rust       0\n",
       "phoma      1\n",
       "Name: 39, dtype: int64"
      ]
     },
     "metadata": {},
     "output_type": "display_data"
    },
    {
     "name": "stdout",
     "output_type": "stream",
     "text": [
      "Prediction 0 0 1\n",
      "Prediction 16.327875 -16.098978 27.736414\n",
      "\u001b[1;30;32m CORRECT\n",
      "\n",
      "\u001b[0;30;30m --------------------------\n",
      "\n",
      "Truth\n"
     ]
    },
    {
     "data": {
      "text/plain": [
       "id       504\n",
       "miner      0\n",
       "rust       0\n",
       "phoma      1\n",
       "Name: 40, dtype: int64"
      ]
     },
     "metadata": {},
     "output_type": "display_data"
    },
    {
     "name": "stdout",
     "output_type": "stream",
     "text": [
      "Prediction 0 0 1\n",
      "Prediction 20.06912 -14.170235 36.859913\n",
      "\u001b[1;30;32m CORRECT\n",
      "\n",
      "\u001b[0;30;30m --------------------------\n",
      "\n",
      "Truth\n"
     ]
    },
    {
     "data": {
      "text/plain": [
       "id       505\n",
       "miner      0\n",
       "rust       0\n",
       "phoma      1\n",
       "Name: 41, dtype: int64"
      ]
     },
     "metadata": {},
     "output_type": "display_data"
    },
    {
     "name": "stdout",
     "output_type": "stream",
     "text": [
      "Prediction 0 0 1\n",
      "Prediction 19.326542 -13.9729185 43.652275\n",
      "\u001b[1;30;32m CORRECT\n",
      "\n",
      "\u001b[0;30;30m --------------------------\n",
      "\n",
      "Truth\n"
     ]
    },
    {
     "data": {
      "text/plain": [
       "id       506\n",
       "miner      0\n",
       "rust       0\n",
       "phoma      1\n",
       "Name: 42, dtype: int64"
      ]
     },
     "metadata": {},
     "output_type": "display_data"
    },
    {
     "name": "stdout",
     "output_type": "stream",
     "text": [
      "Prediction 0 0 1\n",
      "Prediction 19.34033 -15.657252 42.66407\n",
      "\u001b[1;30;32m CORRECT\n",
      "\n",
      "\u001b[0;30;30m --------------------------\n",
      "\n",
      "Truth\n"
     ]
    },
    {
     "data": {
      "text/plain": [
       "id       507\n",
       "miner      0\n",
       "rust       0\n",
       "phoma      1\n",
       "Name: 43, dtype: int64"
      ]
     },
     "metadata": {},
     "output_type": "display_data"
    },
    {
     "name": "stdout",
     "output_type": "stream",
     "text": [
      "Prediction 0 0 1\n",
      "Prediction 18.232277 -15.489355 48.714256\n",
      "\u001b[1;30;32m CORRECT\n",
      "\n",
      "\u001b[0;30;30m --------------------------\n",
      "\n",
      "Truth\n"
     ]
    },
    {
     "data": {
      "text/plain": [
       "id       508\n",
       "miner      0\n",
       "rust       0\n",
       "phoma      1\n",
       "Name: 44, dtype: int64"
      ]
     },
     "metadata": {},
     "output_type": "display_data"
    },
    {
     "name": "stdout",
     "output_type": "stream",
     "text": [
      "Prediction 0 0 1\n",
      "Prediction 19.312277 -17.593328 56.524292\n",
      "\u001b[1;30;32m CORRECT\n",
      "\n",
      "\u001b[0;30;30m --------------------------\n",
      "\n",
      "Truth\n"
     ]
    },
    {
     "data": {
      "text/plain": [
       "id       509\n",
       "miner      0\n",
       "rust       0\n",
       "phoma      1\n",
       "Name: 45, dtype: int64"
      ]
     },
     "metadata": {},
     "output_type": "display_data"
    },
    {
     "name": "stdout",
     "output_type": "stream",
     "text": [
      "Prediction 0 0 1\n",
      "Prediction 19.25209 -20.242147 57.32411\n",
      "\u001b[1;30;32m CORRECT\n",
      "\n",
      "\u001b[0;30;30m --------------------------\n",
      "\n",
      "Truth\n"
     ]
    },
    {
     "data": {
      "text/plain": [
       "id       510\n",
       "miner      0\n",
       "rust       0\n",
       "phoma      1\n",
       "Name: 46, dtype: int64"
      ]
     },
     "metadata": {},
     "output_type": "display_data"
    },
    {
     "name": "stdout",
     "output_type": "stream",
     "text": [
      "Prediction 0 0 1\n",
      "Prediction 19.459564 -18.327995 54.344173\n",
      "\u001b[1;30;32m CORRECT\n",
      "\n",
      "\u001b[0;30;30m --------------------------\n",
      "\n",
      "Truth\n"
     ]
    },
    {
     "data": {
      "text/plain": [
       "id       511\n",
       "miner      0\n",
       "rust       0\n",
       "phoma      1\n",
       "Name: 47, dtype: int64"
      ]
     },
     "metadata": {},
     "output_type": "display_data"
    },
    {
     "name": "stdout",
     "output_type": "stream",
     "text": [
      "Prediction 0 0 1\n",
      "Prediction 17.931925 -17.341652 52.31419\n",
      "\u001b[1;30;32m CORRECT\n",
      "\n",
      "\u001b[0;30;30m --------------------------\n",
      "\n",
      "Truth\n"
     ]
    },
    {
     "data": {
      "text/plain": [
       "id       512\n",
       "miner      0\n",
       "rust       0\n",
       "phoma      1\n",
       "Name: 48, dtype: int64"
      ]
     },
     "metadata": {},
     "output_type": "display_data"
    },
    {
     "name": "stdout",
     "output_type": "stream",
     "text": [
      "Prediction 0 0 1\n",
      "Prediction 16.102005 -16.184704 30.267422\n",
      "\u001b[1;30;32m CORRECT\n",
      "\n",
      "\u001b[0;30;30m --------------------------\n",
      "\n",
      "Truth\n"
     ]
    },
    {
     "data": {
      "text/plain": [
       "id       513\n",
       "miner      0\n",
       "rust       0\n",
       "phoma      1\n",
       "Name: 49, dtype: int64"
      ]
     },
     "metadata": {},
     "output_type": "display_data"
    },
    {
     "name": "stdout",
     "output_type": "stream",
     "text": [
      "Prediction 0 0 1\n",
      "Prediction 16.69644 -15.06479 31.606329\n",
      "\u001b[1;30;32m CORRECT\n",
      "\n",
      "\u001b[0;30;30m --------------------------\n",
      "\n",
      "Truth\n"
     ]
    },
    {
     "data": {
      "text/plain": [
       "id       514\n",
       "miner      0\n",
       "rust       0\n",
       "phoma      1\n",
       "Name: 50, dtype: int64"
      ]
     },
     "metadata": {},
     "output_type": "display_data"
    },
    {
     "name": "stdout",
     "output_type": "stream",
     "text": [
      "Prediction 0 0 1\n",
      "Prediction 12.453888 -17.73003 33.327297\n",
      "\u001b[1;30;32m CORRECT\n",
      "\n",
      "\u001b[0;30;30m --------------------------\n",
      "\n",
      "Truth\n"
     ]
    },
    {
     "data": {
      "text/plain": [
       "id       515\n",
       "miner      0\n",
       "rust       0\n",
       "phoma      1\n",
       "Name: 51, dtype: int64"
      ]
     },
     "metadata": {},
     "output_type": "display_data"
    },
    {
     "name": "stdout",
     "output_type": "stream",
     "text": [
      "Prediction 0 0 1\n",
      "Prediction 14.014647 -15.428928 32.088284\n",
      "\u001b[1;30;32m CORRECT\n",
      "\n",
      "\u001b[0;30;30m --------------------------\n",
      "\n",
      "Truth\n"
     ]
    },
    {
     "data": {
      "text/plain": [
       "id       516\n",
       "miner      0\n",
       "rust       0\n",
       "phoma      1\n",
       "Name: 52, dtype: int64"
      ]
     },
     "metadata": {},
     "output_type": "display_data"
    },
    {
     "name": "stdout",
     "output_type": "stream",
     "text": [
      "Prediction 0 0 1\n",
      "Prediction 17.686827 -15.892376 48.908447\n",
      "\u001b[1;30;32m CORRECT\n",
      "\n",
      "\u001b[0;30;30m --------------------------\n",
      "\n",
      "Truth\n"
     ]
    },
    {
     "data": {
      "text/plain": [
       "id       517\n",
       "miner      0\n",
       "rust       0\n",
       "phoma      1\n",
       "Name: 53, dtype: int64"
      ]
     },
     "metadata": {},
     "output_type": "display_data"
    },
    {
     "name": "stdout",
     "output_type": "stream",
     "text": [
      "Prediction 0 0 1\n",
      "Prediction 17.12128 -16.207415 54.689537\n",
      "\u001b[1;30;32m CORRECT\n",
      "\n",
      "\u001b[0;30;30m --------------------------\n",
      "\n",
      "Truth\n"
     ]
    },
    {
     "data": {
      "text/plain": [
       "id       518\n",
       "miner      0\n",
       "rust       0\n",
       "phoma      1\n",
       "Name: 54, dtype: int64"
      ]
     },
     "metadata": {},
     "output_type": "display_data"
    },
    {
     "name": "stdout",
     "output_type": "stream",
     "text": [
      "Prediction 0 0 1\n",
      "Prediction 16.531128 -15.999682 50.71909\n",
      "\u001b[1;30;32m CORRECT\n",
      "\n",
      "\u001b[0;30;30m --------------------------\n",
      "\n",
      "Truth\n"
     ]
    },
    {
     "data": {
      "text/plain": [
       "id       519\n",
       "miner      0\n",
       "rust       0\n",
       "phoma      1\n",
       "Name: 55, dtype: int64"
      ]
     },
     "metadata": {},
     "output_type": "display_data"
    },
    {
     "name": "stdout",
     "output_type": "stream",
     "text": [
      "Prediction 0 0 1\n",
      "Prediction 15.7446575 -17.491787 55.55111\n",
      "\u001b[1;30;32m CORRECT\n",
      "\n",
      "\u001b[0;30;30m --------------------------\n",
      "\n",
      "Truth\n"
     ]
    },
    {
     "data": {
      "text/plain": [
       "id       520\n",
       "miner      0\n",
       "rust       0\n",
       "phoma      1\n",
       "Name: 56, dtype: int64"
      ]
     },
     "metadata": {},
     "output_type": "display_data"
    },
    {
     "name": "stdout",
     "output_type": "stream",
     "text": [
      "Prediction 0 0 1\n",
      "Prediction 10.865818 -16.242613 36.856327\n",
      "\u001b[1;30;32m CORRECT\n",
      "\n",
      "\u001b[0;30;30m --------------------------\n",
      "\n",
      "Truth\n"
     ]
    },
    {
     "data": {
      "text/plain": [
       "id       521\n",
       "miner      0\n",
       "rust       0\n",
       "phoma      1\n",
       "Name: 57, dtype: int64"
      ]
     },
     "metadata": {},
     "output_type": "display_data"
    },
    {
     "name": "stdout",
     "output_type": "stream",
     "text": [
      "Prediction 0 0 1\n",
      "Prediction 7.61101 -17.006468 35.594612\n",
      "\u001b[1;30;32m CORRECT\n",
      "\n",
      "\u001b[0;30;30m --------------------------\n",
      "\n",
      "Truth\n"
     ]
    },
    {
     "data": {
      "text/plain": [
       "id       522\n",
       "miner      0\n",
       "rust       0\n",
       "phoma      1\n",
       "Name: 58, dtype: int64"
      ]
     },
     "metadata": {},
     "output_type": "display_data"
    },
    {
     "name": "stdout",
     "output_type": "stream",
     "text": [
      "Prediction 0 0 1\n",
      "Prediction 11.205922 -17.244278 39.10137\n",
      "\u001b[1;30;32m CORRECT\n",
      "\n",
      "\u001b[0;30;30m --------------------------\n",
      "\n",
      "Truth\n"
     ]
    },
    {
     "data": {
      "text/plain": [
       "id       523\n",
       "miner      0\n",
       "rust       0\n",
       "phoma      1\n",
       "Name: 59, dtype: int64"
      ]
     },
     "metadata": {},
     "output_type": "display_data"
    },
    {
     "name": "stdout",
     "output_type": "stream",
     "text": [
      "Prediction 0 0 1\n",
      "Prediction 10.681643 -17.45266 32.950043\n",
      "\u001b[1;30;32m CORRECT\n",
      "\n",
      "\u001b[0;30;30m --------------------------\n",
      "\n",
      "Truth\n"
     ]
    },
    {
     "data": {
      "text/plain": [
       "id       524\n",
       "miner      0\n",
       "rust       0\n",
       "phoma      1\n",
       "Name: 60, dtype: int64"
      ]
     },
     "metadata": {},
     "output_type": "display_data"
    },
    {
     "name": "stdout",
     "output_type": "stream",
     "text": [
      "Prediction 0 0 1\n",
      "Prediction 15.91151 -13.2772255 24.576092\n",
      "\u001b[1;30;32m CORRECT\n",
      "\n",
      "\u001b[0;30;30m --------------------------\n",
      "\n",
      "Truth\n"
     ]
    },
    {
     "data": {
      "text/plain": [
       "id       525\n",
       "miner      0\n",
       "rust       0\n",
       "phoma      1\n",
       "Name: 61, dtype: int64"
      ]
     },
     "metadata": {},
     "output_type": "display_data"
    },
    {
     "name": "stdout",
     "output_type": "stream",
     "text": [
      "Prediction 0 0 1\n",
      "Prediction 15.603799 -13.581172 20.065954\n",
      "\u001b[1;30;32m CORRECT\n",
      "\n",
      "\u001b[0;30;30m --------------------------\n",
      "\n",
      "Truth\n"
     ]
    },
    {
     "data": {
      "text/plain": [
       "id       526\n",
       "miner      0\n",
       "rust       0\n",
       "phoma      1\n",
       "Name: 62, dtype: int64"
      ]
     },
     "metadata": {},
     "output_type": "display_data"
    },
    {
     "name": "stdout",
     "output_type": "stream",
     "text": [
      "Prediction 0 0 1\n",
      "Prediction 14.994732 -14.180066 22.332355\n",
      "\u001b[1;30;32m CORRECT\n",
      "\n",
      "\u001b[0;30;30m --------------------------\n",
      "\n",
      "Truth\n"
     ]
    },
    {
     "data": {
      "text/plain": [
       "id       527\n",
       "miner      0\n",
       "rust       0\n",
       "phoma      1\n",
       "Name: 63, dtype: int64"
      ]
     },
     "metadata": {},
     "output_type": "display_data"
    },
    {
     "name": "stdout",
     "output_type": "stream",
     "text": [
      "Prediction 0 0 1\n",
      "Prediction 15.414209 -13.467439 21.980648\n",
      "\u001b[1;30;32m CORRECT\n",
      "\n",
      "\u001b[0;30;30m --------------------------\n",
      "\n",
      "Truth\n"
     ]
    },
    {
     "data": {
      "text/plain": [
       "id       528\n",
       "miner      0\n",
       "rust       0\n",
       "phoma      1\n",
       "Name: 64, dtype: int64"
      ]
     },
     "metadata": {},
     "output_type": "display_data"
    },
    {
     "name": "stdout",
     "output_type": "stream",
     "text": [
      "Prediction 0 0 1\n",
      "Prediction 17.18711 -13.273701 35.99766\n",
      "\u001b[1;30;32m CORRECT\n",
      "\n",
      "\u001b[0;30;30m --------------------------\n",
      "\n",
      "Truth\n"
     ]
    },
    {
     "data": {
      "text/plain": [
       "id       529\n",
       "miner      0\n",
       "rust       0\n",
       "phoma      1\n",
       "Name: 65, dtype: int64"
      ]
     },
     "metadata": {},
     "output_type": "display_data"
    },
    {
     "name": "stdout",
     "output_type": "stream",
     "text": [
      "Prediction 0 0 1\n",
      "Prediction 16.595612 -15.094054 38.75233\n",
      "\u001b[1;30;32m CORRECT\n",
      "\n",
      "\u001b[0;30;30m --------------------------\n",
      "\n",
      "Truth\n"
     ]
    },
    {
     "data": {
      "text/plain": [
       "id       530\n",
       "miner      0\n",
       "rust       0\n",
       "phoma      1\n",
       "Name: 66, dtype: int64"
      ]
     },
     "metadata": {},
     "output_type": "display_data"
    },
    {
     "name": "stdout",
     "output_type": "stream",
     "text": [
      "Prediction 0 0 1\n",
      "Prediction 17.387358 -13.093639 36.913383\n",
      "\u001b[1;30;32m CORRECT\n",
      "\n",
      "\u001b[0;30;30m --------------------------\n",
      "\n",
      "Truth\n"
     ]
    },
    {
     "data": {
      "text/plain": [
       "id       531\n",
       "miner      0\n",
       "rust       0\n",
       "phoma      1\n",
       "Name: 67, dtype: int64"
      ]
     },
     "metadata": {},
     "output_type": "display_data"
    },
    {
     "name": "stdout",
     "output_type": "stream",
     "text": [
      "Prediction 0 0 1\n",
      "Prediction 17.027384 -15.986142 40.38776\n",
      "\u001b[1;30;32m CORRECT\n",
      "\n",
      "\u001b[0;30;30m --------------------------\n",
      "\n",
      "Truth\n"
     ]
    },
    {
     "data": {
      "text/plain": [
       "id       532\n",
       "miner      0\n",
       "rust       0\n",
       "phoma      1\n",
       "Name: 68, dtype: int64"
      ]
     },
     "metadata": {},
     "output_type": "display_data"
    },
    {
     "name": "stdout",
     "output_type": "stream",
     "text": [
      "Prediction 0 0 1\n",
      "Prediction 17.133726 -15.833043 33.67646\n",
      "\u001b[1;30;32m CORRECT\n",
      "\n",
      "\u001b[0;30;30m --------------------------\n",
      "\n",
      "Truth\n"
     ]
    },
    {
     "data": {
      "text/plain": [
       "id       533\n",
       "miner      0\n",
       "rust       0\n",
       "phoma      1\n",
       "Name: 69, dtype: int64"
      ]
     },
     "metadata": {},
     "output_type": "display_data"
    },
    {
     "name": "stdout",
     "output_type": "stream",
     "text": [
      "Prediction 0 0 1\n",
      "Prediction 17.370619 -13.789226 28.573841\n",
      "\u001b[1;30;32m CORRECT\n",
      "\n",
      "\u001b[0;30;30m --------------------------\n",
      "\n",
      "Truth\n"
     ]
    },
    {
     "data": {
      "text/plain": [
       "id       534\n",
       "miner      0\n",
       "rust       0\n",
       "phoma      1\n",
       "Name: 70, dtype: int64"
      ]
     },
     "metadata": {},
     "output_type": "display_data"
    },
    {
     "name": "stdout",
     "output_type": "stream",
     "text": [
      "Prediction 0 0 1\n",
      "Prediction 17.366266 -15.869689 33.370285\n",
      "\u001b[1;30;32m CORRECT\n",
      "\n",
      "\u001b[0;30;30m --------------------------\n",
      "\n",
      "Truth\n"
     ]
    },
    {
     "data": {
      "text/plain": [
       "id       535\n",
       "miner      0\n",
       "rust       0\n",
       "phoma      1\n",
       "Name: 71, dtype: int64"
      ]
     },
     "metadata": {},
     "output_type": "display_data"
    },
    {
     "name": "stdout",
     "output_type": "stream",
     "text": [
      "Prediction 0 0 1\n",
      "Prediction 17.58309 -13.766357 31.692541\n",
      "\u001b[1;30;32m CORRECT\n",
      "\n",
      "\u001b[0;30;30m --------------------------\n",
      "\n",
      "Truth\n"
     ]
    },
    {
     "data": {
      "text/plain": [
       "id       536\n",
       "miner      0\n",
       "rust       0\n",
       "phoma      1\n",
       "Name: 72, dtype: int64"
      ]
     },
     "metadata": {},
     "output_type": "display_data"
    },
    {
     "name": "stdout",
     "output_type": "stream",
     "text": [
      "Prediction 0 0 1\n",
      "Prediction 16.771492 -12.447362 25.72159\n",
      "\u001b[1;30;32m CORRECT\n",
      "\n",
      "\u001b[0;30;30m --------------------------\n",
      "\n",
      "Truth\n"
     ]
    },
    {
     "data": {
      "text/plain": [
       "id       537\n",
       "miner      0\n",
       "rust       0\n",
       "phoma      1\n",
       "Name: 73, dtype: int64"
      ]
     },
     "metadata": {},
     "output_type": "display_data"
    },
    {
     "name": "stdout",
     "output_type": "stream",
     "text": [
      "Prediction 0 0 1\n",
      "Prediction 17.689234 -13.74705 30.724148\n",
      "\u001b[1;30;32m CORRECT\n",
      "\n",
      "\u001b[0;30;30m --------------------------\n",
      "\n",
      "Truth\n"
     ]
    },
    {
     "data": {
      "text/plain": [
       "id       538\n",
       "miner      0\n",
       "rust       0\n",
       "phoma      1\n",
       "Name: 74, dtype: int64"
      ]
     },
     "metadata": {},
     "output_type": "display_data"
    },
    {
     "name": "stdout",
     "output_type": "stream",
     "text": [
      "Prediction 0 0 1\n",
      "Prediction 17.036293 -12.935184 28.018093\n",
      "\u001b[1;30;32m CORRECT\n",
      "\n",
      "\u001b[0;30;30m --------------------------\n",
      "\n",
      "Truth\n"
     ]
    },
    {
     "data": {
      "text/plain": [
       "id       539\n",
       "miner      0\n",
       "rust       0\n",
       "phoma      1\n",
       "Name: 75, dtype: int64"
      ]
     },
     "metadata": {},
     "output_type": "display_data"
    },
    {
     "name": "stdout",
     "output_type": "stream",
     "text": [
      "Prediction 0 0 1\n",
      "Prediction 17.781147 -14.616108 31.219772\n",
      "\u001b[1;30;32m CORRECT\n",
      "\n",
      "\u001b[0;30;30m --------------------------\n",
      "\n",
      "Truth\n"
     ]
    },
    {
     "data": {
      "text/plain": [
       "id       540\n",
       "miner      0\n",
       "rust       0\n",
       "phoma      1\n",
       "Name: 76, dtype: int64"
      ]
     },
     "metadata": {},
     "output_type": "display_data"
    },
    {
     "name": "stdout",
     "output_type": "stream",
     "text": [
      "Prediction 0 0 1\n",
      "Prediction 17.780495 -16.180824 22.358234\n",
      "\u001b[1;30;32m CORRECT\n",
      "\n",
      "\u001b[0;30;30m --------------------------\n",
      "\n",
      "Truth\n"
     ]
    },
    {
     "data": {
      "text/plain": [
       "id       541\n",
       "miner      0\n",
       "rust       0\n",
       "phoma      1\n",
       "Name: 77, dtype: int64"
      ]
     },
     "metadata": {},
     "output_type": "display_data"
    },
    {
     "name": "stdout",
     "output_type": "stream",
     "text": [
      "Prediction 0 0 1\n",
      "Prediction 18.261642 -15.997018 21.90417\n",
      "\u001b[1;30;32m CORRECT\n",
      "\n",
      "\u001b[0;30;30m --------------------------\n",
      "\n",
      "Truth\n"
     ]
    },
    {
     "data": {
      "text/plain": [
       "id       542\n",
       "miner      0\n",
       "rust       0\n",
       "phoma      1\n",
       "Name: 78, dtype: int64"
      ]
     },
     "metadata": {},
     "output_type": "display_data"
    },
    {
     "name": "stdout",
     "output_type": "stream",
     "text": [
      "Prediction 0 0 1\n",
      "Prediction 18.006277 -16.633936 21.243364\n",
      "\u001b[1;30;32m CORRECT\n",
      "\n",
      "\u001b[0;30;30m --------------------------\n",
      "\n",
      "Truth\n"
     ]
    },
    {
     "data": {
      "text/plain": [
       "id       543\n",
       "miner      0\n",
       "rust       0\n",
       "phoma      1\n",
       "Name: 79, dtype: int64"
      ]
     },
     "metadata": {},
     "output_type": "display_data"
    },
    {
     "name": "stdout",
     "output_type": "stream",
     "text": [
      "Prediction 0 0 1\n",
      "Prediction 18.138649 -16.65864 23.043781\n",
      "\u001b[1;30;32m CORRECT\n",
      "\n",
      "\u001b[0;30;30m --------------------------\n",
      "\n",
      "Truth\n"
     ]
    },
    {
     "data": {
      "text/plain": [
       "id       544\n",
       "miner      0\n",
       "rust       0\n",
       "phoma      1\n",
       "Name: 80, dtype: int64"
      ]
     },
     "metadata": {},
     "output_type": "display_data"
    },
    {
     "name": "stdout",
     "output_type": "stream",
     "text": [
      "Prediction 0 0 1\n",
      "Prediction 20.868286 -16.459442 48.96085\n",
      "\u001b[1;30;32m CORRECT\n",
      "\n",
      "\u001b[0;30;30m --------------------------\n",
      "\n",
      "Truth\n"
     ]
    },
    {
     "data": {
      "text/plain": [
       "id       545\n",
       "miner      0\n",
       "rust       0\n",
       "phoma      1\n",
       "Name: 81, dtype: int64"
      ]
     },
     "metadata": {},
     "output_type": "display_data"
    },
    {
     "name": "stdout",
     "output_type": "stream",
     "text": [
      "Prediction 0 0 1\n",
      "Prediction 21.354454 -14.417078 52.27087\n",
      "\u001b[1;30;32m CORRECT\n",
      "\n",
      "\u001b[0;30;30m --------------------------\n",
      "\n",
      "Truth\n"
     ]
    },
    {
     "data": {
      "text/plain": [
       "id       546\n",
       "miner      0\n",
       "rust       0\n",
       "phoma      1\n",
       "Name: 82, dtype: int64"
      ]
     },
     "metadata": {},
     "output_type": "display_data"
    },
    {
     "name": "stdout",
     "output_type": "stream",
     "text": [
      "Prediction 0 0 1\n",
      "Prediction 21.893034 -16.75621 52.531296\n",
      "\u001b[1;30;32m CORRECT\n",
      "\n",
      "\u001b[0;30;30m --------------------------\n",
      "\n",
      "Truth\n"
     ]
    },
    {
     "data": {
      "text/plain": [
       "id       547\n",
       "miner      0\n",
       "rust       0\n",
       "phoma      1\n",
       "Name: 83, dtype: int64"
      ]
     },
     "metadata": {},
     "output_type": "display_data"
    },
    {
     "name": "stdout",
     "output_type": "stream",
     "text": [
      "Prediction 0 0 1\n",
      "Prediction 21.642782 -16.266811 54.44091\n",
      "\u001b[1;30;32m CORRECT\n",
      "\n",
      "\u001b[0;30;30m --------------------------\n",
      "\n",
      "Truth\n"
     ]
    },
    {
     "data": {
      "text/plain": [
       "id       548\n",
       "miner      0\n",
       "rust       0\n",
       "phoma      1\n",
       "Name: 84, dtype: int64"
      ]
     },
     "metadata": {},
     "output_type": "display_data"
    },
    {
     "name": "stdout",
     "output_type": "stream",
     "text": [
      "Prediction 0 0 1\n",
      "Prediction 16.31148 -13.072955 21.045792\n",
      "\u001b[1;30;32m CORRECT\n",
      "\n",
      "\u001b[0;30;30m --------------------------\n",
      "\n",
      "Truth\n"
     ]
    },
    {
     "data": {
      "text/plain": [
       "id       549\n",
       "miner      0\n",
       "rust       0\n",
       "phoma      1\n",
       "Name: 85, dtype: int64"
      ]
     },
     "metadata": {},
     "output_type": "display_data"
    },
    {
     "name": "stdout",
     "output_type": "stream",
     "text": [
      "Prediction 0 0 1\n",
      "Prediction 17.140715 -12.346139 21.510284\n",
      "\u001b[1;30;32m CORRECT\n",
      "\n",
      "\u001b[0;30;30m --------------------------\n",
      "\n",
      "Truth\n"
     ]
    },
    {
     "data": {
      "text/plain": [
       "id       550\n",
       "miner      0\n",
       "rust       0\n",
       "phoma      1\n",
       "Name: 86, dtype: int64"
      ]
     },
     "metadata": {},
     "output_type": "display_data"
    },
    {
     "name": "stdout",
     "output_type": "stream",
     "text": [
      "Prediction 0 0 1\n",
      "Prediction 16.277143 -14.231941 22.882294\n",
      "\u001b[1;30;32m CORRECT\n",
      "\n",
      "\u001b[0;30;30m --------------------------\n",
      "\n",
      "Truth\n"
     ]
    },
    {
     "data": {
      "text/plain": [
       "id       551\n",
       "miner      0\n",
       "rust       0\n",
       "phoma      1\n",
       "Name: 87, dtype: int64"
      ]
     },
     "metadata": {},
     "output_type": "display_data"
    },
    {
     "name": "stdout",
     "output_type": "stream",
     "text": [
      "Prediction 0 0 1\n",
      "Prediction 17.47981 -12.33384 20.266985\n",
      "\u001b[1;30;32m CORRECT\n",
      "\n",
      "\u001b[0;30;30m --------------------------\n",
      "\n",
      "Truth\n"
     ]
    },
    {
     "data": {
      "text/plain": [
       "id       552\n",
       "miner      0\n",
       "rust       0\n",
       "phoma      1\n",
       "Name: 88, dtype: int64"
      ]
     },
     "metadata": {},
     "output_type": "display_data"
    },
    {
     "name": "stdout",
     "output_type": "stream",
     "text": [
      "Prediction 0 0 1\n",
      "Prediction 19.464285 -16.399399 42.00237\n",
      "\u001b[1;30;32m CORRECT\n",
      "\n",
      "\u001b[0;30;30m --------------------------\n",
      "\n",
      "Truth\n"
     ]
    },
    {
     "data": {
      "text/plain": [
       "id       553\n",
       "miner      0\n",
       "rust       0\n",
       "phoma      1\n",
       "Name: 89, dtype: int64"
      ]
     },
     "metadata": {},
     "output_type": "display_data"
    },
    {
     "name": "stdout",
     "output_type": "stream",
     "text": [
      "Prediction 0 0 1\n",
      "Prediction 18.062313 -18.652927 43.58868\n",
      "\u001b[1;30;32m CORRECT\n",
      "\n",
      "\u001b[0;30;30m --------------------------\n",
      "\n",
      "Truth\n"
     ]
    },
    {
     "data": {
      "text/plain": [
       "id       554\n",
       "miner      0\n",
       "rust       0\n",
       "phoma      1\n",
       "Name: 90, dtype: int64"
      ]
     },
     "metadata": {},
     "output_type": "display_data"
    },
    {
     "name": "stdout",
     "output_type": "stream",
     "text": [
      "Prediction 0 0 1\n",
      "Prediction 19.520334 -17.83322 43.847393\n",
      "\u001b[1;30;32m CORRECT\n",
      "\n",
      "\u001b[0;30;30m --------------------------\n",
      "\n",
      "Truth\n"
     ]
    },
    {
     "data": {
      "text/plain": [
       "id       555\n",
       "miner      0\n",
       "rust       0\n",
       "phoma      1\n",
       "Name: 91, dtype: int64"
      ]
     },
     "metadata": {},
     "output_type": "display_data"
    },
    {
     "name": "stdout",
     "output_type": "stream",
     "text": [
      "Prediction 0 0 1\n",
      "Prediction 18.655529 -18.978315 44.24723\n",
      "\u001b[1;30;32m CORRECT\n",
      "\n",
      "\u001b[0;30;30m --------------------------\n",
      "\n",
      "Truth\n"
     ]
    },
    {
     "data": {
      "text/plain": [
       "id       556\n",
       "miner      0\n",
       "rust       0\n",
       "phoma      1\n",
       "Name: 92, dtype: int64"
      ]
     },
     "metadata": {},
     "output_type": "display_data"
    },
    {
     "name": "stdout",
     "output_type": "stream",
     "text": [
      "Prediction 0 0 1\n",
      "Prediction 18.628702 -12.413246 32.73438\n",
      "\u001b[1;30;32m CORRECT\n",
      "\n",
      "\u001b[0;30;30m --------------------------\n",
      "\n",
      "Truth\n"
     ]
    },
    {
     "data": {
      "text/plain": [
       "id       557\n",
       "miner      0\n",
       "rust       0\n",
       "phoma      1\n",
       "Name: 93, dtype: int64"
      ]
     },
     "metadata": {},
     "output_type": "display_data"
    },
    {
     "name": "stdout",
     "output_type": "stream",
     "text": [
      "Prediction 0 0 1\n",
      "Prediction 17.59779 -12.402518 29.97631\n",
      "\u001b[1;30;32m CORRECT\n",
      "\n",
      "\u001b[0;30;30m --------------------------\n",
      "\n",
      "Truth\n"
     ]
    },
    {
     "data": {
      "text/plain": [
       "id       558\n",
       "miner      0\n",
       "rust       0\n",
       "phoma      1\n",
       "Name: 94, dtype: int64"
      ]
     },
     "metadata": {},
     "output_type": "display_data"
    },
    {
     "name": "stdout",
     "output_type": "stream",
     "text": [
      "Prediction 0 0 1\n",
      "Prediction 17.680151 -13.258129 29.396654\n",
      "\u001b[1;30;32m CORRECT\n",
      "\n",
      "\u001b[0;30;30m --------------------------\n",
      "\n",
      "Truth\n"
     ]
    },
    {
     "data": {
      "text/plain": [
       "id       559\n",
       "miner      0\n",
       "rust       0\n",
       "phoma      1\n",
       "Name: 95, dtype: int64"
      ]
     },
     "metadata": {},
     "output_type": "display_data"
    },
    {
     "name": "stdout",
     "output_type": "stream",
     "text": [
      "Prediction 0 0 1\n",
      "Prediction 17.507227 -12.236466 26.32649\n",
      "\u001b[1;30;32m CORRECT\n",
      "\n",
      "\u001b[0;30;30m --------------------------\n",
      "\n",
      "Truth\n"
     ]
    },
    {
     "data": {
      "text/plain": [
       "id       560\n",
       "miner      0\n",
       "rust       0\n",
       "phoma      1\n",
       "Name: 96, dtype: int64"
      ]
     },
     "metadata": {},
     "output_type": "display_data"
    },
    {
     "name": "stdout",
     "output_type": "stream",
     "text": [
      "Prediction 0 0 1\n",
      "Prediction 17.645947 -17.905935 34.817867\n",
      "\u001b[1;30;32m CORRECT\n",
      "\n",
      "\u001b[0;30;30m --------------------------\n",
      "\n",
      "Truth\n"
     ]
    },
    {
     "data": {
      "text/plain": [
       "id       561\n",
       "miner      0\n",
       "rust       0\n",
       "phoma      1\n",
       "Name: 97, dtype: int64"
      ]
     },
     "metadata": {},
     "output_type": "display_data"
    },
    {
     "name": "stdout",
     "output_type": "stream",
     "text": [
      "Prediction 0 0 1\n",
      "Prediction 17.17688 -14.066748 32.42275\n",
      "\u001b[1;30;32m CORRECT\n",
      "\n",
      "\u001b[0;30;30m --------------------------\n",
      "\n",
      "Truth\n"
     ]
    },
    {
     "data": {
      "text/plain": [
       "id       562\n",
       "miner      0\n",
       "rust       0\n",
       "phoma      1\n",
       "Name: 98, dtype: int64"
      ]
     },
     "metadata": {},
     "output_type": "display_data"
    },
    {
     "name": "stdout",
     "output_type": "stream",
     "text": [
      "Prediction 0 0 1\n",
      "Prediction 18.382364 -18.089773 31.953766\n",
      "\u001b[1;30;32m CORRECT\n",
      "\n",
      "\u001b[0;30;30m --------------------------\n",
      "\n",
      "Truth\n"
     ]
    },
    {
     "data": {
      "text/plain": [
       "id       563\n",
       "miner      0\n",
       "rust       0\n",
       "phoma      1\n",
       "Name: 99, dtype: int64"
      ]
     },
     "metadata": {},
     "output_type": "display_data"
    },
    {
     "name": "stdout",
     "output_type": "stream",
     "text": [
      "Prediction 0 0 1\n",
      "Prediction 18.140617 -14.948017 34.278862\n",
      "\u001b[1;30;32m CORRECT\n",
      "\n",
      "\u001b[0;30;30m --------------------------\n",
      "\n",
      "Truth\n"
     ]
    },
    {
     "data": {
      "text/plain": [
       "id       564\n",
       "miner      0\n",
       "rust       0\n",
       "phoma      1\n",
       "Name: 100, dtype: int64"
      ]
     },
     "metadata": {},
     "output_type": "display_data"
    },
    {
     "name": "stdout",
     "output_type": "stream",
     "text": [
      "Prediction 0 0 1\n",
      "Prediction 17.463736 -15.055681 29.467838\n",
      "\u001b[1;30;32m CORRECT\n",
      "\n",
      "\u001b[0;30;30m --------------------------\n",
      "\n",
      "Truth\n"
     ]
    },
    {
     "data": {
      "text/plain": [
       "id       565\n",
       "miner      0\n",
       "rust       0\n",
       "phoma      1\n",
       "Name: 101, dtype: int64"
      ]
     },
     "metadata": {},
     "output_type": "display_data"
    },
    {
     "name": "stdout",
     "output_type": "stream",
     "text": [
      "Prediction 0 0 1\n",
      "Prediction 17.025042 -14.224875 33.40225\n",
      "\u001b[1;30;32m CORRECT\n",
      "\n",
      "\u001b[0;30;30m --------------------------\n",
      "\n",
      "Truth\n"
     ]
    },
    {
     "data": {
      "text/plain": [
       "id       566\n",
       "miner      0\n",
       "rust       0\n",
       "phoma      1\n",
       "Name: 102, dtype: int64"
      ]
     },
     "metadata": {},
     "output_type": "display_data"
    },
    {
     "name": "stdout",
     "output_type": "stream",
     "text": [
      "Prediction 0 0 1\n",
      "Prediction 16.030964 -15.235241 29.99362\n",
      "\u001b[1;30;32m CORRECT\n",
      "\n",
      "\u001b[0;30;30m --------------------------\n",
      "\n",
      "Truth\n"
     ]
    },
    {
     "data": {
      "text/plain": [
       "id       567\n",
       "miner      0\n",
       "rust       0\n",
       "phoma      1\n",
       "Name: 103, dtype: int64"
      ]
     },
     "metadata": {},
     "output_type": "display_data"
    },
    {
     "name": "stdout",
     "output_type": "stream",
     "text": [
      "Prediction 0 0 1\n",
      "Prediction 17.362852 -14.037226 27.556849\n",
      "\u001b[1;30;32m CORRECT\n",
      "\n",
      "\u001b[0;30;30m --------------------------\n",
      "\n",
      "Truth\n"
     ]
    },
    {
     "data": {
      "text/plain": [
       "id       568\n",
       "miner      0\n",
       "rust       0\n",
       "phoma      1\n",
       "Name: 104, dtype: int64"
      ]
     },
     "metadata": {},
     "output_type": "display_data"
    },
    {
     "name": "stdout",
     "output_type": "stream",
     "text": [
      "Prediction 0 0 1\n",
      "Prediction 18.240845 -11.586165 25.91906\n",
      "\u001b[1;30;32m CORRECT\n",
      "\n",
      "\u001b[0;30;30m --------------------------\n",
      "\n",
      "Truth\n"
     ]
    },
    {
     "data": {
      "text/plain": [
       "id       569\n",
       "miner      0\n",
       "rust       0\n",
       "phoma      1\n",
       "Name: 105, dtype: int64"
      ]
     },
     "metadata": {},
     "output_type": "display_data"
    },
    {
     "name": "stdout",
     "output_type": "stream",
     "text": [
      "Prediction 0 0 1\n",
      "Prediction 17.061155 -14.629178 24.690163\n",
      "\u001b[1;30;32m CORRECT\n",
      "\n",
      "\u001b[0;30;30m --------------------------\n",
      "\n",
      "Truth\n"
     ]
    },
    {
     "data": {
      "text/plain": [
       "id       570\n",
       "miner      0\n",
       "rust       0\n",
       "phoma      1\n",
       "Name: 106, dtype: int64"
      ]
     },
     "metadata": {},
     "output_type": "display_data"
    },
    {
     "name": "stdout",
     "output_type": "stream",
     "text": [
      "Prediction 0 0 1\n",
      "Prediction 18.032595 -11.620709 22.582712\n",
      "\u001b[1;30;32m CORRECT\n",
      "\n",
      "\u001b[0;30;30m --------------------------\n",
      "\n",
      "Truth\n"
     ]
    },
    {
     "data": {
      "text/plain": [
       "id       571\n",
       "miner      0\n",
       "rust       0\n",
       "phoma      1\n",
       "Name: 107, dtype: int64"
      ]
     },
     "metadata": {},
     "output_type": "display_data"
    },
    {
     "name": "stdout",
     "output_type": "stream",
     "text": [
      "Prediction 0 0 1\n",
      "Prediction 17.242495 -14.260173 24.649347\n",
      "\u001b[1;30;32m CORRECT\n",
      "\n",
      "\u001b[0;30;30m --------------------------\n",
      "\n",
      "Truth\n"
     ]
    },
    {
     "data": {
      "text/plain": [
       "id       572\n",
       "miner      0\n",
       "rust       0\n",
       "phoma      1\n",
       "Name: 108, dtype: int64"
      ]
     },
     "metadata": {},
     "output_type": "display_data"
    },
    {
     "name": "stdout",
     "output_type": "stream",
     "text": [
      "Prediction 0 0 1\n",
      "Prediction 12.777135 -15.447649 23.404411\n",
      "\u001b[1;30;32m CORRECT\n",
      "\n",
      "\u001b[0;30;30m --------------------------\n",
      "\n",
      "Truth\n"
     ]
    },
    {
     "data": {
      "text/plain": [
       "id       573\n",
       "miner      0\n",
       "rust       0\n",
       "phoma      1\n",
       "Name: 109, dtype: int64"
      ]
     },
     "metadata": {},
     "output_type": "display_data"
    },
    {
     "name": "stdout",
     "output_type": "stream",
     "text": [
      "Prediction 0 0 1\n",
      "Prediction 13.260072 -13.491767 21.589718\n",
      "\u001b[1;30;32m CORRECT\n",
      "\n",
      "\u001b[0;30;30m --------------------------\n",
      "\n",
      "Truth\n"
     ]
    },
    {
     "data": {
      "text/plain": [
       "id       574\n",
       "miner      0\n",
       "rust       0\n",
       "phoma      1\n",
       "Name: 110, dtype: int64"
      ]
     },
     "metadata": {},
     "output_type": "display_data"
    },
    {
     "name": "stdout",
     "output_type": "stream",
     "text": [
      "Prediction 0 0 1\n",
      "Prediction 14.289129 -14.766719 22.167768\n",
      "\u001b[1;30;32m CORRECT\n",
      "\n",
      "\u001b[0;30;30m --------------------------\n",
      "\n",
      "Truth\n"
     ]
    },
    {
     "data": {
      "text/plain": [
       "id       575\n",
       "miner      0\n",
       "rust       0\n",
       "phoma      1\n",
       "Name: 111, dtype: int64"
      ]
     },
     "metadata": {},
     "output_type": "display_data"
    },
    {
     "name": "stdout",
     "output_type": "stream",
     "text": [
      "Prediction 0 0 1\n",
      "Prediction 15.633923 -12.700049 17.539377\n",
      "\u001b[1;30;32m CORRECT\n",
      "\n",
      "\u001b[0;30;30m --------------------------\n",
      "\n",
      "Truth\n"
     ]
    },
    {
     "data": {
      "text/plain": [
       "id       576\n",
       "miner      0\n",
       "rust       0\n",
       "phoma      1\n",
       "Name: 112, dtype: int64"
      ]
     },
     "metadata": {},
     "output_type": "display_data"
    },
    {
     "name": "stdout",
     "output_type": "stream",
     "text": [
      "Prediction 0 0 1\n",
      "Prediction 18.705526 -15.759121 40.420467\n",
      "\u001b[1;30;32m CORRECT\n",
      "\n",
      "\u001b[0;30;30m --------------------------\n",
      "\n",
      "Truth\n"
     ]
    },
    {
     "data": {
      "text/plain": [
       "id       577\n",
       "miner      0\n",
       "rust       0\n",
       "phoma      1\n",
       "Name: 113, dtype: int64"
      ]
     },
     "metadata": {},
     "output_type": "display_data"
    },
    {
     "name": "stdout",
     "output_type": "stream",
     "text": [
      "Prediction 0 0 1\n",
      "Prediction 19.909397 -13.831008 36.765327\n",
      "\u001b[1;30;32m CORRECT\n",
      "\n",
      "\u001b[0;30;30m --------------------------\n",
      "\n",
      "Truth\n"
     ]
    },
    {
     "data": {
      "text/plain": [
       "id       578\n",
       "miner      0\n",
       "rust       0\n",
       "phoma      1\n",
       "Name: 114, dtype: int64"
      ]
     },
     "metadata": {},
     "output_type": "display_data"
    },
    {
     "name": "stdout",
     "output_type": "stream",
     "text": [
      "Prediction 0 0 1\n",
      "Prediction 19.19647 -15.342018 41.999374\n",
      "\u001b[1;30;32m CORRECT\n",
      "\n",
      "\u001b[0;30;30m --------------------------\n",
      "\n",
      "Truth\n"
     ]
    },
    {
     "data": {
      "text/plain": [
       "id       579\n",
       "miner      0\n",
       "rust       0\n",
       "phoma      1\n",
       "Name: 115, dtype: int64"
      ]
     },
     "metadata": {},
     "output_type": "display_data"
    },
    {
     "name": "stdout",
     "output_type": "stream",
     "text": [
      "Prediction 0 0 1\n",
      "Prediction 19.665518 -12.679363 32.976\n",
      "\u001b[1;30;32m CORRECT\n",
      "\n",
      "\u001b[0;30;30m --------------------------\n",
      "\n",
      "Truth\n"
     ]
    },
    {
     "data": {
      "text/plain": [
       "id       580\n",
       "miner      0\n",
       "rust       0\n",
       "phoma      1\n",
       "Name: 116, dtype: int64"
      ]
     },
     "metadata": {},
     "output_type": "display_data"
    },
    {
     "name": "stdout",
     "output_type": "stream",
     "text": [
      "Prediction 0 0 1\n",
      "Prediction 16.610643 -15.154246 27.172682\n",
      "\u001b[1;30;32m CORRECT\n",
      "\n",
      "\u001b[0;30;30m --------------------------\n",
      "\n",
      "Truth\n"
     ]
    },
    {
     "data": {
      "text/plain": [
       "id       581\n",
       "miner      0\n",
       "rust       0\n",
       "phoma      1\n",
       "Name: 117, dtype: int64"
      ]
     },
     "metadata": {},
     "output_type": "display_data"
    },
    {
     "name": "stdout",
     "output_type": "stream",
     "text": [
      "Prediction 0 0 1\n",
      "Prediction 17.679308 -17.208096 29.926632\n",
      "\u001b[1;30;32m CORRECT\n",
      "\n",
      "\u001b[0;30;30m --------------------------\n",
      "\n",
      "Truth\n"
     ]
    },
    {
     "data": {
      "text/plain": [
       "id       582\n",
       "miner      0\n",
       "rust       0\n",
       "phoma      1\n",
       "Name: 118, dtype: int64"
      ]
     },
     "metadata": {},
     "output_type": "display_data"
    },
    {
     "name": "stdout",
     "output_type": "stream",
     "text": [
      "Prediction 0 0 1\n",
      "Prediction 18.153357 -16.754896 28.049164\n",
      "\u001b[1;30;32m CORRECT\n",
      "\n",
      "\u001b[0;30;30m --------------------------\n",
      "\n",
      "Truth\n"
     ]
    },
    {
     "data": {
      "text/plain": [
       "id       583\n",
       "miner      0\n",
       "rust       0\n",
       "phoma      1\n",
       "Name: 119, dtype: int64"
      ]
     },
     "metadata": {},
     "output_type": "display_data"
    },
    {
     "name": "stdout",
     "output_type": "stream",
     "text": [
      "Prediction 0 0 1\n",
      "Prediction 17.953558 -16.6319 34.920216\n",
      "\u001b[1;30;32m CORRECT\n",
      "\n",
      "\u001b[0;30;30m --------------------------\n",
      "\n",
      "Truth\n"
     ]
    },
    {
     "data": {
      "text/plain": [
       "id       584\n",
       "miner      0\n",
       "rust       0\n",
       "phoma      0\n",
       "Name: 120, dtype: int64"
      ]
     },
     "metadata": {},
     "output_type": "display_data"
    },
    {
     "name": "stdout",
     "output_type": "stream",
     "text": [
      "Prediction 0 0 0\n",
      "Prediction 10.207414 -10.511818 -29.319914\n",
      "\u001b[1;30;32m CORRECT\n",
      "\n",
      "\u001b[0;30;30m --------------------------\n",
      "\n",
      "Truth\n"
     ]
    },
    {
     "data": {
      "text/plain": [
       "id       585\n",
       "miner      0\n",
       "rust       0\n",
       "phoma      0\n",
       "Name: 121, dtype: int64"
      ]
     },
     "metadata": {},
     "output_type": "display_data"
    },
    {
     "name": "stdout",
     "output_type": "stream",
     "text": [
      "Prediction 0 0 0\n",
      "Prediction 11.333721 -11.325316 -29.883047\n",
      "\u001b[1;30;32m CORRECT\n",
      "\n",
      "\u001b[0;30;30m --------------------------\n",
      "\n",
      "Truth\n"
     ]
    },
    {
     "data": {
      "text/plain": [
       "id       586\n",
       "miner      0\n",
       "rust       0\n",
       "phoma      0\n",
       "Name: 122, dtype: int64"
      ]
     },
     "metadata": {},
     "output_type": "display_data"
    },
    {
     "name": "stdout",
     "output_type": "stream",
     "text": [
      "Prediction 0 0 0\n",
      "Prediction 10.1815 -10.504538 -27.763073\n",
      "\u001b[1;30;32m CORRECT\n",
      "\n",
      "\u001b[0;30;30m --------------------------\n",
      "\n",
      "Truth\n"
     ]
    },
    {
     "data": {
      "text/plain": [
       "id       587\n",
       "miner      0\n",
       "rust       0\n",
       "phoma      0\n",
       "Name: 123, dtype: int64"
      ]
     },
     "metadata": {},
     "output_type": "display_data"
    },
    {
     "name": "stdout",
     "output_type": "stream",
     "text": [
      "Prediction 0 0 0\n",
      "Prediction 11.575976 -13.329958 -28.97717\n",
      "\u001b[1;30;32m CORRECT\n",
      "\n",
      "\u001b[0;30;30m --------------------------\n",
      "\n",
      "Truth\n"
     ]
    },
    {
     "data": {
      "text/plain": [
       "id       588\n",
       "miner      0\n",
       "rust       0\n",
       "phoma      1\n",
       "Name: 124, dtype: int64"
      ]
     },
     "metadata": {},
     "output_type": "display_data"
    },
    {
     "name": "stdout",
     "output_type": "stream",
     "text": [
      "Prediction 0 0 1\n",
      "Prediction 15.453338 -17.199957 47.530716\n",
      "\u001b[1;30;32m CORRECT\n",
      "\n",
      "\u001b[0;30;30m --------------------------\n",
      "\n",
      "Truth\n"
     ]
    },
    {
     "data": {
      "text/plain": [
       "id       589\n",
       "miner      0\n",
       "rust       0\n",
       "phoma      1\n",
       "Name: 125, dtype: int64"
      ]
     },
     "metadata": {},
     "output_type": "display_data"
    },
    {
     "name": "stdout",
     "output_type": "stream",
     "text": [
      "Prediction 0 0 1\n",
      "Prediction 15.02405 -18.877678 52.433014\n",
      "\u001b[1;30;32m CORRECT\n",
      "\n",
      "\u001b[0;30;30m --------------------------\n",
      "\n",
      "Truth\n"
     ]
    },
    {
     "data": {
      "text/plain": [
       "id       590\n",
       "miner      0\n",
       "rust       0\n",
       "phoma      1\n",
       "Name: 126, dtype: int64"
      ]
     },
     "metadata": {},
     "output_type": "display_data"
    },
    {
     "name": "stdout",
     "output_type": "stream",
     "text": [
      "Prediction 0 0 1\n",
      "Prediction 18.233683 -16.979862 51.09996\n",
      "\u001b[1;30;32m CORRECT\n",
      "\n",
      "\u001b[0;30;30m --------------------------\n",
      "\n",
      "Truth\n"
     ]
    },
    {
     "data": {
      "text/plain": [
       "id       591\n",
       "miner      0\n",
       "rust       0\n",
       "phoma      1\n",
       "Name: 127, dtype: int64"
      ]
     },
     "metadata": {},
     "output_type": "display_data"
    },
    {
     "name": "stdout",
     "output_type": "stream",
     "text": [
      "Prediction 0 0 1\n",
      "Prediction 18.09474 -17.662378 55.30177\n",
      "\u001b[1;30;32m CORRECT\n",
      "\n",
      "\u001b[0;30;30m --------------------------\n",
      "\n",
      "Truth\n"
     ]
    },
    {
     "data": {
      "text/plain": [
       "id       592\n",
       "miner      0\n",
       "rust       0\n",
       "phoma      1\n",
       "Name: 128, dtype: int64"
      ]
     },
     "metadata": {},
     "output_type": "display_data"
    },
    {
     "name": "stdout",
     "output_type": "stream",
     "text": [
      "Prediction 0 0 1\n",
      "Prediction 13.37835 -14.897706 29.128206\n",
      "\u001b[1;30;32m CORRECT\n",
      "\n",
      "\u001b[0;30;30m --------------------------\n",
      "\n",
      "Truth\n"
     ]
    },
    {
     "data": {
      "text/plain": [
       "id       593\n",
       "miner      0\n",
       "rust       0\n",
       "phoma      1\n",
       "Name: 129, dtype: int64"
      ]
     },
     "metadata": {},
     "output_type": "display_data"
    },
    {
     "name": "stdout",
     "output_type": "stream",
     "text": [
      "Prediction 0 0 1\n",
      "Prediction 16.324072 -14.116451 28.706984\n",
      "\u001b[1;30;32m CORRECT\n",
      "\n",
      "\u001b[0;30;30m --------------------------\n",
      "\n",
      "Truth\n"
     ]
    },
    {
     "data": {
      "text/plain": [
       "id       594\n",
       "miner      0\n",
       "rust       0\n",
       "phoma      1\n",
       "Name: 130, dtype: int64"
      ]
     },
     "metadata": {},
     "output_type": "display_data"
    },
    {
     "name": "stdout",
     "output_type": "stream",
     "text": [
      "Prediction 0 0 1\n",
      "Prediction 15.33802 -16.370073 30.440615\n",
      "\u001b[1;30;32m CORRECT\n",
      "\n",
      "\u001b[0;30;30m --------------------------\n",
      "\n",
      "Truth\n"
     ]
    },
    {
     "data": {
      "text/plain": [
       "id       595\n",
       "miner      0\n",
       "rust       0\n",
       "phoma      1\n",
       "Name: 131, dtype: int64"
      ]
     },
     "metadata": {},
     "output_type": "display_data"
    },
    {
     "name": "stdout",
     "output_type": "stream",
     "text": [
      "Prediction 0 0 1\n",
      "Prediction 16.301647 -14.028271 27.125174\n",
      "\u001b[1;30;32m CORRECT\n",
      "\n",
      "\u001b[0;30;30m --------------------------\n",
      "\n",
      "Truth\n"
     ]
    },
    {
     "data": {
      "text/plain": [
       "id       596\n",
       "miner      0\n",
       "rust       0\n",
       "phoma      1\n",
       "Name: 132, dtype: int64"
      ]
     },
     "metadata": {},
     "output_type": "display_data"
    },
    {
     "name": "stdout",
     "output_type": "stream",
     "text": [
      "Prediction 0 0 1\n",
      "Prediction 12.538607 -14.895895 25.204542\n",
      "\u001b[1;30;32m CORRECT\n",
      "\n",
      "\u001b[0;30;30m --------------------------\n",
      "\n",
      "Truth\n"
     ]
    },
    {
     "data": {
      "text/plain": [
       "id       597\n",
       "miner      0\n",
       "rust       0\n",
       "phoma      1\n",
       "Name: 133, dtype: int64"
      ]
     },
     "metadata": {},
     "output_type": "display_data"
    },
    {
     "name": "stdout",
     "output_type": "stream",
     "text": [
      "Prediction 0 0 1\n",
      "Prediction 15.784732 -18.749998 27.674948\n",
      "\u001b[1;30;32m CORRECT\n",
      "\n",
      "\u001b[0;30;30m --------------------------\n",
      "\n",
      "Truth\n"
     ]
    },
    {
     "data": {
      "text/plain": [
       "id       598\n",
       "miner      0\n",
       "rust       0\n",
       "phoma      1\n",
       "Name: 134, dtype: int64"
      ]
     },
     "metadata": {},
     "output_type": "display_data"
    },
    {
     "name": "stdout",
     "output_type": "stream",
     "text": [
      "Prediction 0 0 1\n",
      "Prediction 15.372103 -15.059663 26.946068\n",
      "\u001b[1;30;32m CORRECT\n",
      "\n",
      "\u001b[0;30;30m --------------------------\n",
      "\n",
      "Truth\n"
     ]
    },
    {
     "data": {
      "text/plain": [
       "id       599\n",
       "miner      0\n",
       "rust       0\n",
       "phoma      1\n",
       "Name: 135, dtype: int64"
      ]
     },
     "metadata": {},
     "output_type": "display_data"
    },
    {
     "name": "stdout",
     "output_type": "stream",
     "text": [
      "Prediction 0 0 1\n",
      "Prediction 16.824924 -18.395916 28.598444\n",
      "\u001b[1;30;32m CORRECT\n",
      "\n",
      "\u001b[0;30;30m --------------------------\n",
      "\n",
      "Truth\n"
     ]
    },
    {
     "data": {
      "text/plain": [
       "id       1100\n",
       "miner       1\n",
       "rust        0\n",
       "phoma       0\n",
       "Name: 136, dtype: int64"
      ]
     },
     "metadata": {},
     "output_type": "display_data"
    },
    {
     "name": "stdout",
     "output_type": "stream",
     "text": [
      "Prediction 1 0 0\n",
      "Prediction -10.0455 -13.983655 -15.940427\n",
      "\u001b[1;30;32m CORRECT\n",
      "\n",
      "\u001b[0;30;30m --------------------------\n",
      "\n",
      "Truth\n"
     ]
    },
    {
     "data": {
      "text/plain": [
       "id       1101\n",
       "miner       1\n",
       "rust        0\n",
       "phoma       0\n",
       "Name: 137, dtype: int64"
      ]
     },
     "metadata": {},
     "output_type": "display_data"
    },
    {
     "name": "stdout",
     "output_type": "stream",
     "text": [
      "Prediction 1 0 0\n",
      "Prediction -21.31096 -18.910185 -17.76209\n",
      "\u001b[1;30;32m CORRECT\n",
      "\n",
      "\u001b[0;30;30m --------------------------\n",
      "\n",
      "Truth\n"
     ]
    },
    {
     "data": {
      "text/plain": [
       "id       1102\n",
       "miner       1\n",
       "rust        0\n",
       "phoma       0\n",
       "Name: 138, dtype: int64"
      ]
     },
     "metadata": {},
     "output_type": "display_data"
    },
    {
     "name": "stdout",
     "output_type": "stream",
     "text": [
      "Prediction 1 0 0\n",
      "Prediction -9.368096 -13.73648 -16.888157\n",
      "\u001b[1;30;32m CORRECT\n",
      "\n",
      "\u001b[0;30;30m --------------------------\n",
      "\n",
      "Truth\n"
     ]
    },
    {
     "data": {
      "text/plain": [
       "id       1103\n",
       "miner       1\n",
       "rust        0\n",
       "phoma       0\n",
       "Name: 139, dtype: int64"
      ]
     },
     "metadata": {},
     "output_type": "display_data"
    },
    {
     "name": "stdout",
     "output_type": "stream",
     "text": [
      "Prediction 1 0 0\n",
      "Prediction -18.446695 -19.04205 -17.089863\n",
      "\u001b[1;30;32m CORRECT\n",
      "\n",
      "\u001b[0;30;30m --------------------------\n",
      "\n",
      "Truth\n"
     ]
    },
    {
     "data": {
      "text/plain": [
       "id       1104\n",
       "miner       1\n",
       "rust        1\n",
       "phoma       0\n",
       "Name: 140, dtype: int64"
      ]
     },
     "metadata": {},
     "output_type": "display_data"
    },
    {
     "name": "stdout",
     "output_type": "stream",
     "text": [
      "Prediction 1 1 0\n",
      "Prediction -44.72861 27.270092 -29.060907\n",
      "\u001b[1;30;32m CORRECT\n",
      "\n",
      "\u001b[0;30;30m --------------------------\n",
      "\n",
      "Truth\n"
     ]
    },
    {
     "data": {
      "text/plain": [
       "id       1105\n",
       "miner       1\n",
       "rust        1\n",
       "phoma       0\n",
       "Name: 141, dtype: int64"
      ]
     },
     "metadata": {},
     "output_type": "display_data"
    },
    {
     "name": "stdout",
     "output_type": "stream",
     "text": [
      "Prediction 1 1 0\n",
      "Prediction -38.94275 22.237186 -31.491247\n",
      "\u001b[1;30;32m CORRECT\n",
      "\n",
      "\u001b[0;30;30m --------------------------\n",
      "\n",
      "Truth\n"
     ]
    },
    {
     "data": {
      "text/plain": [
       "id       1106\n",
       "miner       1\n",
       "rust        1\n",
       "phoma       0\n",
       "Name: 142, dtype: int64"
      ]
     },
     "metadata": {},
     "output_type": "display_data"
    },
    {
     "name": "stdout",
     "output_type": "stream",
     "text": [
      "Prediction 1 1 0\n",
      "Prediction -42.020424 20.59322 -28.881968\n",
      "\u001b[1;30;32m CORRECT\n",
      "\n",
      "\u001b[0;30;30m --------------------------\n",
      "\n",
      "Truth\n"
     ]
    },
    {
     "data": {
      "text/plain": [
       "id       1107\n",
       "miner       1\n",
       "rust        1\n",
       "phoma       0\n",
       "Name: 143, dtype: int64"
      ]
     },
     "metadata": {},
     "output_type": "display_data"
    },
    {
     "name": "stdout",
     "output_type": "stream",
     "text": [
      "Prediction 1 1 0\n",
      "Prediction -42.67602 16.79816 -27.970068\n",
      "\u001b[1;30;32m CORRECT\n",
      "\n",
      "\u001b[0;30;30m --------------------------\n",
      "\n",
      "Truth\n"
     ]
    },
    {
     "data": {
      "text/plain": [
       "id       1108\n",
       "miner       1\n",
       "rust        0\n",
       "phoma       0\n",
       "Name: 144, dtype: int64"
      ]
     },
     "metadata": {},
     "output_type": "display_data"
    },
    {
     "name": "stdout",
     "output_type": "stream",
     "text": [
      "Prediction 1 0 0\n",
      "Prediction -54.628136 -14.901128 -20.487396\n",
      "\u001b[1;30;32m CORRECT\n",
      "\n",
      "\u001b[0;30;30m --------------------------\n",
      "\n",
      "Truth\n"
     ]
    },
    {
     "data": {
      "text/plain": [
       "id       1109\n",
       "miner       1\n",
       "rust        0\n",
       "phoma       0\n",
       "Name: 145, dtype: int64"
      ]
     },
     "metadata": {},
     "output_type": "display_data"
    },
    {
     "name": "stdout",
     "output_type": "stream",
     "text": [
      "Prediction 1 0 0\n",
      "Prediction -54.623363 -16.462515 -22.89701\n",
      "\u001b[1;30;32m CORRECT\n",
      "\n",
      "\u001b[0;30;30m --------------------------\n",
      "\n",
      "Truth\n"
     ]
    },
    {
     "data": {
      "text/plain": [
       "id       1110\n",
       "miner       1\n",
       "rust        0\n",
       "phoma       0\n",
       "Name: 146, dtype: int64"
      ]
     },
     "metadata": {},
     "output_type": "display_data"
    },
    {
     "name": "stdout",
     "output_type": "stream",
     "text": [
      "Prediction 1 0 0\n",
      "Prediction -60.328487 -16.05266 -21.431702\n",
      "\u001b[1;30;32m CORRECT\n",
      "\n",
      "\u001b[0;30;30m --------------------------\n",
      "\n",
      "Truth\n"
     ]
    },
    {
     "data": {
      "text/plain": [
       "id       1111\n",
       "miner       1\n",
       "rust        0\n",
       "phoma       0\n",
       "Name: 147, dtype: int64"
      ]
     },
     "metadata": {},
     "output_type": "display_data"
    },
    {
     "name": "stdout",
     "output_type": "stream",
     "text": [
      "Prediction 1 0 0\n",
      "Prediction -55.100662 -16.364792 -25.00838\n",
      "\u001b[1;30;32m CORRECT\n",
      "\n",
      "\u001b[0;30;30m --------------------------\n",
      "\n",
      "Truth\n"
     ]
    },
    {
     "data": {
      "text/plain": [
       "id       1112\n",
       "miner       1\n",
       "rust        0\n",
       "phoma       0\n",
       "Name: 148, dtype: int64"
      ]
     },
     "metadata": {},
     "output_type": "display_data"
    },
    {
     "name": "stdout",
     "output_type": "stream",
     "text": [
      "Prediction 1 0 0\n",
      "Prediction -63.69396 -20.524546 -18.741337\n",
      "\u001b[1;30;32m CORRECT\n",
      "\n",
      "\u001b[0;30;30m --------------------------\n",
      "\n",
      "Truth\n"
     ]
    },
    {
     "data": {
      "text/plain": [
       "id       1113\n",
       "miner       1\n",
       "rust        0\n",
       "phoma       0\n",
       "Name: 149, dtype: int64"
      ]
     },
     "metadata": {},
     "output_type": "display_data"
    },
    {
     "name": "stdout",
     "output_type": "stream",
     "text": [
      "Prediction 1 0 0\n",
      "Prediction -59.957275 -20.49967 -20.33082\n",
      "\u001b[1;30;32m CORRECT\n",
      "\n",
      "\u001b[0;30;30m --------------------------\n",
      "\n",
      "Truth\n"
     ]
    },
    {
     "data": {
      "text/plain": [
       "id       1114\n",
       "miner       1\n",
       "rust        0\n",
       "phoma       0\n",
       "Name: 150, dtype: int64"
      ]
     },
     "metadata": {},
     "output_type": "display_data"
    },
    {
     "name": "stdout",
     "output_type": "stream",
     "text": [
      "Prediction 1 0 0\n",
      "Prediction -72.02346 -18.646275 -22.99634\n",
      "\u001b[1;30;32m CORRECT\n",
      "\n",
      "\u001b[0;30;30m --------------------------\n",
      "\n",
      "Truth\n"
     ]
    },
    {
     "data": {
      "text/plain": [
       "id       1115\n",
       "miner       1\n",
       "rust        0\n",
       "phoma       0\n",
       "Name: 151, dtype: int64"
      ]
     },
     "metadata": {},
     "output_type": "display_data"
    },
    {
     "name": "stdout",
     "output_type": "stream",
     "text": [
      "Prediction 1 0 0\n",
      "Prediction -59.225727 -19.359343 -23.522358\n",
      "\u001b[1;30;32m CORRECT\n",
      "\n",
      "\u001b[0;30;30m --------------------------\n",
      "\n",
      "Truth\n"
     ]
    },
    {
     "data": {
      "text/plain": [
       "id       1116\n",
       "miner       0\n",
       "rust        0\n",
       "phoma       0\n",
       "Name: 152, dtype: int64"
      ]
     },
     "metadata": {},
     "output_type": "display_data"
    },
    {
     "name": "stdout",
     "output_type": "stream",
     "text": [
      "Prediction 0 0 0\n",
      "Prediction 9.80812 -10.932092 -33.12646\n",
      "\u001b[1;30;32m CORRECT\n",
      "\n",
      "\u001b[0;30;30m --------------------------\n",
      "\n",
      "Truth\n"
     ]
    },
    {
     "data": {
      "text/plain": [
       "id       1117\n",
       "miner       0\n",
       "rust        0\n",
       "phoma       0\n",
       "Name: 153, dtype: int64"
      ]
     },
     "metadata": {},
     "output_type": "display_data"
    },
    {
     "name": "stdout",
     "output_type": "stream",
     "text": [
      "Prediction 0 0 0\n",
      "Prediction 10.103959 -11.511505 -33.609127\n",
      "\u001b[1;30;32m CORRECT\n",
      "\n",
      "\u001b[0;30;30m --------------------------\n",
      "\n",
      "Truth\n"
     ]
    },
    {
     "data": {
      "text/plain": [
       "id       1118\n",
       "miner       0\n",
       "rust        0\n",
       "phoma       0\n",
       "Name: 154, dtype: int64"
      ]
     },
     "metadata": {},
     "output_type": "display_data"
    },
    {
     "name": "stdout",
     "output_type": "stream",
     "text": [
      "Prediction 0 0 0\n",
      "Prediction 10.323845 -11.182428 -33.774715\n",
      "\u001b[1;30;32m CORRECT\n",
      "\n",
      "\u001b[0;30;30m --------------------------\n",
      "\n",
      "Truth\n"
     ]
    },
    {
     "data": {
      "text/plain": [
       "id       1119\n",
       "miner       0\n",
       "rust        0\n",
       "phoma       0\n",
       "Name: 155, dtype: int64"
      ]
     },
     "metadata": {},
     "output_type": "display_data"
    },
    {
     "name": "stdout",
     "output_type": "stream",
     "text": [
      "Prediction 0 0 0\n",
      "Prediction 10.405244 -11.242342 -36.189816\n",
      "\u001b[1;30;32m CORRECT\n",
      "\n",
      "\u001b[0;30;30m --------------------------\n",
      "\n",
      "Truth\n"
     ]
    },
    {
     "data": {
      "text/plain": [
       "id       1120\n",
       "miner       0\n",
       "rust        1\n",
       "phoma       0\n",
       "Name: 156, dtype: int64"
      ]
     },
     "metadata": {},
     "output_type": "display_data"
    },
    {
     "name": "stdout",
     "output_type": "stream",
     "text": [
      "Prediction 0 1 0\n",
      "Prediction 12.748259 58.31196 -28.498976\n",
      "\u001b[1;30;32m CORRECT\n",
      "\n",
      "\u001b[0;30;30m --------------------------\n",
      "\n",
      "Truth\n"
     ]
    },
    {
     "data": {
      "text/plain": [
       "id       1121\n",
       "miner       0\n",
       "rust        1\n",
       "phoma       0\n",
       "Name: 157, dtype: int64"
      ]
     },
     "metadata": {},
     "output_type": "display_data"
    },
    {
     "name": "stdout",
     "output_type": "stream",
     "text": [
      "Prediction 0 1 0\n",
      "Prediction 12.996173 51.483128 -26.717533\n",
      "\u001b[1;30;32m CORRECT\n",
      "\n",
      "\u001b[0;30;30m --------------------------\n",
      "\n",
      "Truth\n"
     ]
    },
    {
     "data": {
      "text/plain": [
       "id       1122\n",
       "miner       0\n",
       "rust        1\n",
       "phoma       0\n",
       "Name: 158, dtype: int64"
      ]
     },
     "metadata": {},
     "output_type": "display_data"
    },
    {
     "name": "stdout",
     "output_type": "stream",
     "text": [
      "Prediction 0 1 0\n",
      "Prediction 13.616821 62.71414 -28.360987\n",
      "\u001b[1;30;32m CORRECT\n",
      "\n",
      "\u001b[0;30;30m --------------------------\n",
      "\n",
      "Truth\n"
     ]
    },
    {
     "data": {
      "text/plain": [
       "id       1123\n",
       "miner       0\n",
       "rust        1\n",
       "phoma       0\n",
       "Name: 159, dtype: int64"
      ]
     },
     "metadata": {},
     "output_type": "display_data"
    },
    {
     "name": "stdout",
     "output_type": "stream",
     "text": [
      "Prediction 0 1 0\n",
      "Prediction 13.367136 60.155922 -25.04612\n",
      "\u001b[1;30;32m CORRECT\n",
      "\n",
      "\u001b[0;30;30m --------------------------\n",
      "\n",
      "Truth\n"
     ]
    },
    {
     "data": {
      "text/plain": [
       "id       1124\n",
       "miner       0\n",
       "rust        0\n",
       "phoma       0\n",
       "Name: 160, dtype: int64"
      ]
     },
     "metadata": {},
     "output_type": "display_data"
    },
    {
     "name": "stdout",
     "output_type": "stream",
     "text": [
      "Prediction 0 0 0\n",
      "Prediction 11.162327 -9.645982 -21.164902\n",
      "\u001b[1;30;32m CORRECT\n",
      "\n",
      "\u001b[0;30;30m --------------------------\n",
      "\n",
      "Truth\n"
     ]
    },
    {
     "data": {
      "text/plain": [
       "id       1125\n",
       "miner       0\n",
       "rust        0\n",
       "phoma       0\n",
       "Name: 161, dtype: int64"
      ]
     },
     "metadata": {},
     "output_type": "display_data"
    },
    {
     "name": "stdout",
     "output_type": "stream",
     "text": [
      "Prediction 0 0 0\n",
      "Prediction 11.369722 -8.726841 -18.754341\n",
      "\u001b[1;30;32m CORRECT\n",
      "\n",
      "\u001b[0;30;30m --------------------------\n",
      "\n",
      "Truth\n"
     ]
    },
    {
     "data": {
      "text/plain": [
       "id       1126\n",
       "miner       0\n",
       "rust        0\n",
       "phoma       0\n",
       "Name: 162, dtype: int64"
      ]
     },
     "metadata": {},
     "output_type": "display_data"
    },
    {
     "name": "stdout",
     "output_type": "stream",
     "text": [
      "Prediction 0 0 0\n",
      "Prediction 11.37356 -10.723264 -22.281515\n",
      "\u001b[1;30;32m CORRECT\n",
      "\n",
      "\u001b[0;30;30m --------------------------\n",
      "\n",
      "Truth\n"
     ]
    },
    {
     "data": {
      "text/plain": [
       "id       1127\n",
       "miner       0\n",
       "rust        0\n",
       "phoma       0\n",
       "Name: 163, dtype: int64"
      ]
     },
     "metadata": {},
     "output_type": "display_data"
    },
    {
     "name": "stdout",
     "output_type": "stream",
     "text": [
      "Prediction 0 0 0\n",
      "Prediction 11.590771 -9.386261 -18.138954\n",
      "\u001b[1;30;32m CORRECT\n",
      "\n",
      "\u001b[0;30;30m --------------------------\n",
      "\n",
      "Truth\n"
     ]
    },
    {
     "data": {
      "text/plain": [
       "id       1128\n",
       "miner       1\n",
       "rust        0\n",
       "phoma       0\n",
       "Name: 164, dtype: int64"
      ]
     },
     "metadata": {},
     "output_type": "display_data"
    },
    {
     "name": "stdout",
     "output_type": "stream",
     "text": [
      "Prediction 1 0 0\n",
      "Prediction -13.118103 -14.532328 -28.285948\n",
      "\u001b[1;30;32m CORRECT\n",
      "\n",
      "\u001b[0;30;30m --------------------------\n",
      "\n",
      "Truth\n"
     ]
    },
    {
     "data": {
      "text/plain": [
       "id       1129\n",
       "miner       1\n",
       "rust        0\n",
       "phoma       0\n",
       "Name: 165, dtype: int64"
      ]
     },
     "metadata": {},
     "output_type": "display_data"
    },
    {
     "name": "stdout",
     "output_type": "stream",
     "text": [
      "Prediction 1 0 0\n",
      "Prediction -14.045437 -15.032418 -30.246374\n",
      "\u001b[1;30;32m CORRECT\n",
      "\n",
      "\u001b[0;30;30m --------------------------\n",
      "\n",
      "Truth\n"
     ]
    },
    {
     "data": {
      "text/plain": [
       "id       1130\n",
       "miner       1\n",
       "rust        0\n",
       "phoma       0\n",
       "Name: 166, dtype: int64"
      ]
     },
     "metadata": {},
     "output_type": "display_data"
    },
    {
     "name": "stdout",
     "output_type": "stream",
     "text": [
      "Prediction 1 0 0\n",
      "Prediction -11.003962 -13.232363 -28.19352\n",
      "\u001b[1;30;32m CORRECT\n",
      "\n",
      "\u001b[0;30;30m --------------------------\n",
      "\n",
      "Truth\n"
     ]
    },
    {
     "data": {
      "text/plain": [
       "id       1131\n",
       "miner       1\n",
       "rust        0\n",
       "phoma       0\n",
       "Name: 167, dtype: int64"
      ]
     },
     "metadata": {},
     "output_type": "display_data"
    },
    {
     "name": "stdout",
     "output_type": "stream",
     "text": [
      "Prediction 1 0 0\n",
      "Prediction -15.31656 -15.698839 -29.423653\n",
      "\u001b[1;30;32m CORRECT\n",
      "\n",
      "\u001b[0;30;30m --------------------------\n",
      "\n",
      "Truth\n"
     ]
    },
    {
     "data": {
      "text/plain": [
       "id       1132\n",
       "miner       1\n",
       "rust        0\n",
       "phoma       0\n",
       "Name: 168, dtype: int64"
      ]
     },
     "metadata": {},
     "output_type": "display_data"
    },
    {
     "name": "stdout",
     "output_type": "stream",
     "text": [
      "Prediction 1 0 0\n",
      "Prediction -20.289011 -16.179363 -31.196482\n",
      "\u001b[1;30;32m CORRECT\n",
      "\n",
      "\u001b[0;30;30m --------------------------\n",
      "\n",
      "Truth\n"
     ]
    },
    {
     "data": {
      "text/plain": [
       "id       1133\n",
       "miner       1\n",
       "rust        0\n",
       "phoma       0\n",
       "Name: 169, dtype: int64"
      ]
     },
     "metadata": {},
     "output_type": "display_data"
    },
    {
     "name": "stdout",
     "output_type": "stream",
     "text": [
      "Prediction 1 0 0\n",
      "Prediction -13.516351 -15.63859 -31.972206\n",
      "\u001b[1;30;32m CORRECT\n",
      "\n",
      "\u001b[0;30;30m --------------------------\n",
      "\n",
      "Truth\n"
     ]
    },
    {
     "data": {
      "text/plain": [
       "id       1134\n",
       "miner       1\n",
       "rust        0\n",
       "phoma       0\n",
       "Name: 170, dtype: int64"
      ]
     },
     "metadata": {},
     "output_type": "display_data"
    },
    {
     "name": "stdout",
     "output_type": "stream",
     "text": [
      "Prediction 1 0 0\n",
      "Prediction -17.017315 -16.876278 -30.65663\n",
      "\u001b[1;30;32m CORRECT\n",
      "\n",
      "\u001b[0;30;30m --------------------------\n",
      "\n",
      "Truth\n"
     ]
    },
    {
     "data": {
      "text/plain": [
       "id       1135\n",
       "miner       1\n",
       "rust        0\n",
       "phoma       0\n",
       "Name: 171, dtype: int64"
      ]
     },
     "metadata": {},
     "output_type": "display_data"
    },
    {
     "name": "stdout",
     "output_type": "stream",
     "text": [
      "Prediction 1 0 0\n",
      "Prediction -17.969734 -15.46219 -29.675436\n",
      "\u001b[1;30;32m CORRECT\n",
      "\n",
      "\u001b[0;30;30m --------------------------\n",
      "\n",
      "Truth\n"
     ]
    },
    {
     "data": {
      "text/plain": [
       "id       1136\n",
       "miner       1\n",
       "rust        0\n",
       "phoma       0\n",
       "Name: 172, dtype: int64"
      ]
     },
     "metadata": {},
     "output_type": "display_data"
    },
    {
     "name": "stdout",
     "output_type": "stream",
     "text": [
      "Prediction 1 0 0\n",
      "Prediction -39.7973 -18.292372 -14.592441\n",
      "\u001b[1;30;32m CORRECT\n",
      "\n",
      "\u001b[0;30;30m --------------------------\n",
      "\n",
      "Truth\n"
     ]
    },
    {
     "data": {
      "text/plain": [
       "id       1137\n",
       "miner       1\n",
       "rust        0\n",
       "phoma       0\n",
       "Name: 173, dtype: int64"
      ]
     },
     "metadata": {},
     "output_type": "display_data"
    },
    {
     "name": "stdout",
     "output_type": "stream",
     "text": [
      "Prediction 1 0 0\n",
      "Prediction -45.645363 -18.494074 -16.265448\n",
      "\u001b[1;30;32m CORRECT\n",
      "\n",
      "\u001b[0;30;30m --------------------------\n",
      "\n",
      "Truth\n"
     ]
    },
    {
     "data": {
      "text/plain": [
       "id       1138\n",
       "miner       1\n",
       "rust        0\n",
       "phoma       0\n",
       "Name: 174, dtype: int64"
      ]
     },
     "metadata": {},
     "output_type": "display_data"
    },
    {
     "name": "stdout",
     "output_type": "stream",
     "text": [
      "Prediction 1 0 0\n",
      "Prediction -45.364376 -17.287603 -12.261673\n",
      "\u001b[1;30;32m CORRECT\n",
      "\n",
      "\u001b[0;30;30m --------------------------\n",
      "\n",
      "Truth\n"
     ]
    },
    {
     "data": {
      "text/plain": [
       "id       1139\n",
       "miner       1\n",
       "rust        0\n",
       "phoma       0\n",
       "Name: 175, dtype: int64"
      ]
     },
     "metadata": {},
     "output_type": "display_data"
    },
    {
     "name": "stdout",
     "output_type": "stream",
     "text": [
      "Prediction 1 0 0\n",
      "Prediction -51.557133 -19.076681 -13.357396\n",
      "\u001b[1;30;32m CORRECT\n",
      "\n",
      "\u001b[0;30;30m --------------------------\n",
      "\n",
      "Truth\n"
     ]
    },
    {
     "data": {
      "text/plain": [
       "id       1140\n",
       "miner       1\n",
       "rust        1\n",
       "phoma       0\n",
       "Name: 176, dtype: int64"
      ]
     },
     "metadata": {},
     "output_type": "display_data"
    },
    {
     "name": "stdout",
     "output_type": "stream",
     "text": [
      "Prediction 0 1 0\n",
      "Prediction 7.0332947 24.32423 -19.540302\n",
      "\u001b[1;30;31m WRONG\n",
      "\n",
      "\u001b[0;30;30m --------------------------\n",
      "\n",
      "Truth\n"
     ]
    },
    {
     "data": {
      "text/plain": [
       "id       1141\n",
       "miner       1\n",
       "rust        1\n",
       "phoma       0\n",
       "Name: 177, dtype: int64"
      ]
     },
     "metadata": {},
     "output_type": "display_data"
    },
    {
     "name": "stdout",
     "output_type": "stream",
     "text": [
      "Prediction 0 1 0\n",
      "Prediction 10.667678 22.207853 -20.069498\n",
      "\u001b[1;30;31m WRONG\n",
      "\n",
      "\u001b[0;30;30m --------------------------\n",
      "\n",
      "Truth\n"
     ]
    },
    {
     "data": {
      "text/plain": [
       "id       1142\n",
       "miner       1\n",
       "rust        1\n",
       "phoma       0\n",
       "Name: 178, dtype: int64"
      ]
     },
     "metadata": {},
     "output_type": "display_data"
    },
    {
     "name": "stdout",
     "output_type": "stream",
     "text": [
      "Prediction 0 1 0\n",
      "Prediction 5.72452 22.785677 -20.37165\n",
      "\u001b[1;30;31m WRONG\n",
      "\n",
      "\u001b[0;30;30m --------------------------\n",
      "\n",
      "Truth\n"
     ]
    },
    {
     "data": {
      "text/plain": [
       "id       1143\n",
       "miner       1\n",
       "rust        1\n",
       "phoma       0\n",
       "Name: 179, dtype: int64"
      ]
     },
     "metadata": {},
     "output_type": "display_data"
    },
    {
     "name": "stdout",
     "output_type": "stream",
     "text": [
      "Prediction 0 1 0\n",
      "Prediction 12.871064 19.201185 -19.401419\n",
      "\u001b[1;30;31m WRONG\n",
      "\n",
      "\u001b[0;30;30m --------------------------\n",
      "\n",
      "Truth\n"
     ]
    },
    {
     "data": {
      "text/plain": [
       "id       1144\n",
       "miner       0\n",
       "rust        0\n",
       "phoma       0\n",
       "Name: 180, dtype: int64"
      ]
     },
     "metadata": {},
     "output_type": "display_data"
    },
    {
     "name": "stdout",
     "output_type": "stream",
     "text": [
      "Prediction 0 0 0\n",
      "Prediction 10.677153 -10.900221 -32.228077\n",
      "\u001b[1;30;32m CORRECT\n",
      "\n",
      "\u001b[0;30;30m --------------------------\n",
      "\n",
      "Truth\n"
     ]
    },
    {
     "data": {
      "text/plain": [
       "id       1145\n",
       "miner       0\n",
       "rust        0\n",
       "phoma       0\n",
       "Name: 181, dtype: int64"
      ]
     },
     "metadata": {},
     "output_type": "display_data"
    },
    {
     "name": "stdout",
     "output_type": "stream",
     "text": [
      "Prediction 0 0 0\n",
      "Prediction 11.453531 -12.653046 -32.72778\n",
      "\u001b[1;30;32m CORRECT\n",
      "\n",
      "\u001b[0;30;30m --------------------------\n",
      "\n",
      "Truth\n"
     ]
    },
    {
     "data": {
      "text/plain": [
       "id       1146\n",
       "miner       0\n",
       "rust        0\n",
       "phoma       0\n",
       "Name: 182, dtype: int64"
      ]
     },
     "metadata": {},
     "output_type": "display_data"
    },
    {
     "name": "stdout",
     "output_type": "stream",
     "text": [
      "Prediction 0 0 0\n",
      "Prediction 11.513 -10.825392 -32.561802\n",
      "\u001b[1;30;32m CORRECT\n",
      "\n",
      "\u001b[0;30;30m --------------------------\n",
      "\n",
      "Truth\n"
     ]
    },
    {
     "data": {
      "text/plain": [
       "id       1147\n",
       "miner       0\n",
       "rust        0\n",
       "phoma       0\n",
       "Name: 183, dtype: int64"
      ]
     },
     "metadata": {},
     "output_type": "display_data"
    },
    {
     "name": "stdout",
     "output_type": "stream",
     "text": [
      "Prediction 0 0 0\n",
      "Prediction 11.261193 -12.07649 -34.92506\n",
      "\u001b[1;30;32m CORRECT\n",
      "\n",
      "\u001b[0;30;30m --------------------------\n",
      "\n",
      "Truth\n"
     ]
    },
    {
     "data": {
      "text/plain": [
       "id       1148\n",
       "miner       1\n",
       "rust        0\n",
       "phoma       0\n",
       "Name: 184, dtype: int64"
      ]
     },
     "metadata": {},
     "output_type": "display_data"
    },
    {
     "name": "stdout",
     "output_type": "stream",
     "text": [
      "Prediction 1 0 0\n",
      "Prediction -46.844017 -14.334825 -12.726367\n",
      "\u001b[1;30;32m CORRECT\n",
      "\n",
      "\u001b[0;30;30m --------------------------\n",
      "\n",
      "Truth\n"
     ]
    },
    {
     "data": {
      "text/plain": [
       "id       1149\n",
       "miner       1\n",
       "rust        0\n",
       "phoma       0\n",
       "Name: 185, dtype: int64"
      ]
     },
     "metadata": {},
     "output_type": "display_data"
    },
    {
     "name": "stdout",
     "output_type": "stream",
     "text": [
      "Prediction 1 0 0\n",
      "Prediction -48.315624 -13.217456 -16.932583\n",
      "\u001b[1;30;32m CORRECT\n",
      "\n",
      "\u001b[0;30;30m --------------------------\n",
      "\n",
      "Truth\n"
     ]
    },
    {
     "data": {
      "text/plain": [
       "id       1150\n",
       "miner       1\n",
       "rust        0\n",
       "phoma       0\n",
       "Name: 186, dtype: int64"
      ]
     },
     "metadata": {},
     "output_type": "display_data"
    },
    {
     "name": "stdout",
     "output_type": "stream",
     "text": [
      "Prediction 1 0 0\n",
      "Prediction -41.745155 -8.107218 -13.305498\n",
      "\u001b[1;30;32m CORRECT\n",
      "\n",
      "\u001b[0;30;30m --------------------------\n",
      "\n",
      "Truth\n"
     ]
    },
    {
     "data": {
      "text/plain": [
       "id       1151\n",
       "miner       1\n",
       "rust        0\n",
       "phoma       0\n",
       "Name: 187, dtype: int64"
      ]
     },
     "metadata": {},
     "output_type": "display_data"
    },
    {
     "name": "stdout",
     "output_type": "stream",
     "text": [
      "Prediction 1 0 0\n",
      "Prediction -52.325615 -12.533442 -16.557404\n",
      "\u001b[1;30;32m CORRECT\n",
      "\n",
      "\u001b[0;30;30m --------------------------\n",
      "\n",
      "Truth\n"
     ]
    },
    {
     "data": {
      "text/plain": [
       "id       1152\n",
       "miner       1\n",
       "rust        0\n",
       "phoma       0\n",
       "Name: 188, dtype: int64"
      ]
     },
     "metadata": {},
     "output_type": "display_data"
    },
    {
     "name": "stdout",
     "output_type": "stream",
     "text": [
      "Prediction 1 0 0\n",
      "Prediction -26.631893 -15.766484 -22.995485\n",
      "\u001b[1;30;32m CORRECT\n",
      "\n",
      "\u001b[0;30;30m --------------------------\n",
      "\n",
      "Truth\n"
     ]
    },
    {
     "data": {
      "text/plain": [
       "id       1153\n",
       "miner       1\n",
       "rust        0\n",
       "phoma       0\n",
       "Name: 189, dtype: int64"
      ]
     },
     "metadata": {},
     "output_type": "display_data"
    },
    {
     "name": "stdout",
     "output_type": "stream",
     "text": [
      "Prediction 1 0 0\n",
      "Prediction -15.037385 -15.095715 -27.943333\n",
      "\u001b[1;30;32m CORRECT\n",
      "\n",
      "\u001b[0;30;30m --------------------------\n",
      "\n",
      "Truth\n"
     ]
    },
    {
     "data": {
      "text/plain": [
       "id       1154\n",
       "miner       1\n",
       "rust        0\n",
       "phoma       0\n",
       "Name: 190, dtype: int64"
      ]
     },
     "metadata": {},
     "output_type": "display_data"
    },
    {
     "name": "stdout",
     "output_type": "stream",
     "text": [
      "Prediction 1 0 0\n",
      "Prediction -24.201094 -15.956047 -21.15135\n",
      "\u001b[1;30;32m CORRECT\n",
      "\n",
      "\u001b[0;30;30m --------------------------\n",
      "\n",
      "Truth\n"
     ]
    },
    {
     "data": {
      "text/plain": [
       "id       1155\n",
       "miner       1\n",
       "rust        0\n",
       "phoma       0\n",
       "Name: 191, dtype: int64"
      ]
     },
     "metadata": {},
     "output_type": "display_data"
    },
    {
     "name": "stdout",
     "output_type": "stream",
     "text": [
      "Prediction 1 0 0\n",
      "Prediction -22.212908 -15.17534 -25.903633\n",
      "\u001b[1;30;32m CORRECT\n",
      "\n",
      "\u001b[0;30;30m --------------------------\n",
      "\n",
      "Truth\n"
     ]
    },
    {
     "data": {
      "text/plain": [
       "id       1156\n",
       "miner       1\n",
       "rust        0\n",
       "phoma       0\n",
       "Name: 192, dtype: int64"
      ]
     },
     "metadata": {},
     "output_type": "display_data"
    },
    {
     "name": "stdout",
     "output_type": "stream",
     "text": [
      "Prediction 1 0 0\n",
      "Prediction -42.82103 -19.173908 -23.32929\n",
      "\u001b[1;30;32m CORRECT\n",
      "\n",
      "\u001b[0;30;30m --------------------------\n",
      "\n",
      "Truth\n"
     ]
    },
    {
     "data": {
      "text/plain": [
       "id       1157\n",
       "miner       1\n",
       "rust        0\n",
       "phoma       0\n",
       "Name: 193, dtype: int64"
      ]
     },
     "metadata": {},
     "output_type": "display_data"
    },
    {
     "name": "stdout",
     "output_type": "stream",
     "text": [
      "Prediction 1 0 0\n",
      "Prediction -51.54348 -17.595371 -22.691004\n",
      "\u001b[1;30;32m CORRECT\n",
      "\n",
      "\u001b[0;30;30m --------------------------\n",
      "\n",
      "Truth\n"
     ]
    },
    {
     "data": {
      "text/plain": [
       "id       1158\n",
       "miner       1\n",
       "rust        0\n",
       "phoma       0\n",
       "Name: 194, dtype: int64"
      ]
     },
     "metadata": {},
     "output_type": "display_data"
    },
    {
     "name": "stdout",
     "output_type": "stream",
     "text": [
      "Prediction 1 0 0\n",
      "Prediction -42.210697 -19.016308 -23.45978\n",
      "\u001b[1;30;32m CORRECT\n",
      "\n",
      "\u001b[0;30;30m --------------------------\n",
      "\n",
      "Truth\n"
     ]
    },
    {
     "data": {
      "text/plain": [
       "id       1159\n",
       "miner       1\n",
       "rust        0\n",
       "phoma       0\n",
       "Name: 195, dtype: int64"
      ]
     },
     "metadata": {},
     "output_type": "display_data"
    },
    {
     "name": "stdout",
     "output_type": "stream",
     "text": [
      "Prediction 1 0 0\n",
      "Prediction -44.895786 -18.403582 -19.85859\n",
      "\u001b[1;30;32m CORRECT\n",
      "\n",
      "\u001b[0;30;30m --------------------------\n",
      "\n",
      "Truth\n"
     ]
    },
    {
     "data": {
      "text/plain": [
       "id       1160\n",
       "miner       0\n",
       "rust        0\n",
       "phoma       0\n",
       "Name: 196, dtype: int64"
      ]
     },
     "metadata": {},
     "output_type": "display_data"
    },
    {
     "name": "stdout",
     "output_type": "stream",
     "text": [
      "Prediction 0 0 0\n",
      "Prediction 16.664347 -12.772252 -16.306156\n",
      "\u001b[1;30;32m CORRECT\n",
      "\n",
      "\u001b[0;30;30m --------------------------\n",
      "\n",
      "Truth\n"
     ]
    },
    {
     "data": {
      "text/plain": [
       "id       1161\n",
       "miner       0\n",
       "rust        0\n",
       "phoma       0\n",
       "Name: 197, dtype: int64"
      ]
     },
     "metadata": {},
     "output_type": "display_data"
    },
    {
     "name": "stdout",
     "output_type": "stream",
     "text": [
      "Prediction 0 0 0\n",
      "Prediction 17.294676 -11.519518 -12.736458\n",
      "\u001b[1;30;32m CORRECT\n",
      "\n",
      "\u001b[0;30;30m --------------------------\n",
      "\n",
      "Truth\n"
     ]
    },
    {
     "data": {
      "text/plain": [
       "id       1162\n",
       "miner       0\n",
       "rust        0\n",
       "phoma       0\n",
       "Name: 198, dtype: int64"
      ]
     },
     "metadata": {},
     "output_type": "display_data"
    },
    {
     "name": "stdout",
     "output_type": "stream",
     "text": [
      "Prediction 0 0 0\n",
      "Prediction 16.686531 -12.922212 -16.052282\n",
      "\u001b[1;30;32m CORRECT\n",
      "\n",
      "\u001b[0;30;30m --------------------------\n",
      "\n",
      "Truth\n"
     ]
    },
    {
     "data": {
      "text/plain": [
       "id       1163\n",
       "miner       0\n",
       "rust        0\n",
       "phoma       0\n",
       "Name: 199, dtype: int64"
      ]
     },
     "metadata": {},
     "output_type": "display_data"
    },
    {
     "name": "stdout",
     "output_type": "stream",
     "text": [
      "Prediction 0 0 0\n",
      "Prediction 16.67298 -11.573763 -14.114245\n",
      "\u001b[1;30;32m CORRECT\n",
      "\n",
      "\u001b[0;30;30m --------------------------\n",
      "\n",
      "Truth\n"
     ]
    },
    {
     "data": {
      "text/plain": [
       "id       1164\n",
       "miner       0\n",
       "rust        0\n",
       "phoma       0\n",
       "Name: 200, dtype: int64"
      ]
     },
     "metadata": {},
     "output_type": "display_data"
    },
    {
     "name": "stdout",
     "output_type": "stream",
     "text": [
      "Prediction 0 0 0\n",
      "Prediction 17.24778 -12.514865 -13.617801\n",
      "\u001b[1;30;32m CORRECT\n",
      "\n",
      "\u001b[0;30;30m --------------------------\n",
      "\n",
      "Truth\n"
     ]
    },
    {
     "data": {
      "text/plain": [
       "id       1165\n",
       "miner       0\n",
       "rust        0\n",
       "phoma       0\n",
       "Name: 201, dtype: int64"
      ]
     },
     "metadata": {},
     "output_type": "display_data"
    },
    {
     "name": "stdout",
     "output_type": "stream",
     "text": [
      "Prediction 0 0 0\n",
      "Prediction 18.476223 -11.712877 -14.973068\n",
      "\u001b[1;30;32m CORRECT\n",
      "\n",
      "\u001b[0;30;30m --------------------------\n",
      "\n",
      "Truth\n"
     ]
    },
    {
     "data": {
      "text/plain": [
       "id       1166\n",
       "miner       0\n",
       "rust        0\n",
       "phoma       0\n",
       "Name: 202, dtype: int64"
      ]
     },
     "metadata": {},
     "output_type": "display_data"
    },
    {
     "name": "stdout",
     "output_type": "stream",
     "text": [
      "Prediction 0 0 0\n",
      "Prediction 17.72023 -13.169221 -13.503768\n",
      "\u001b[1;30;32m CORRECT\n",
      "\n",
      "\u001b[0;30;30m --------------------------\n",
      "\n",
      "Truth\n"
     ]
    },
    {
     "data": {
      "text/plain": [
       "id       1167\n",
       "miner       0\n",
       "rust        0\n",
       "phoma       0\n",
       "Name: 203, dtype: int64"
      ]
     },
     "metadata": {},
     "output_type": "display_data"
    },
    {
     "name": "stdout",
     "output_type": "stream",
     "text": [
      "Prediction 0 0 0\n",
      "Prediction 18.505482 -11.7697 -15.415894\n",
      "\u001b[1;30;32m CORRECT\n",
      "\n",
      "\u001b[0;30;30m --------------------------\n",
      "\n",
      "Truth\n"
     ]
    },
    {
     "data": {
      "text/plain": [
       "id       1168\n",
       "miner       0\n",
       "rust        0\n",
       "phoma       0\n",
       "Name: 204, dtype: int64"
      ]
     },
     "metadata": {},
     "output_type": "display_data"
    },
    {
     "name": "stdout",
     "output_type": "stream",
     "text": [
      "Prediction 0 0 0\n",
      "Prediction 14.4219 -10.828744 -17.755804\n",
      "\u001b[1;30;32m CORRECT\n",
      "\n",
      "\u001b[0;30;30m --------------------------\n",
      "\n",
      "Truth\n"
     ]
    },
    {
     "data": {
      "text/plain": [
       "id       1169\n",
       "miner       0\n",
       "rust        0\n",
       "phoma       0\n",
       "Name: 205, dtype: int64"
      ]
     },
     "metadata": {},
     "output_type": "display_data"
    },
    {
     "name": "stdout",
     "output_type": "stream",
     "text": [
      "Prediction 0 0 0\n",
      "Prediction 14.248074 -11.323486 -20.853418\n",
      "\u001b[1;30;32m CORRECT\n",
      "\n",
      "\u001b[0;30;30m --------------------------\n",
      "\n",
      "Truth\n"
     ]
    },
    {
     "data": {
      "text/plain": [
       "id       1170\n",
       "miner       0\n",
       "rust        0\n",
       "phoma       0\n",
       "Name: 206, dtype: int64"
      ]
     },
     "metadata": {},
     "output_type": "display_data"
    },
    {
     "name": "stdout",
     "output_type": "stream",
     "text": [
      "Prediction 0 0 0\n",
      "Prediction 14.498707 -10.922747 -18.465553\n",
      "\u001b[1;30;32m CORRECT\n",
      "\n",
      "\u001b[0;30;30m --------------------------\n",
      "\n",
      "Truth\n"
     ]
    },
    {
     "data": {
      "text/plain": [
       "id       1171\n",
       "miner       0\n",
       "rust        0\n",
       "phoma       0\n",
       "Name: 207, dtype: int64"
      ]
     },
     "metadata": {},
     "output_type": "display_data"
    },
    {
     "name": "stdout",
     "output_type": "stream",
     "text": [
      "Prediction 0 0 0\n",
      "Prediction 14.610579 -11.308878 -20.799923\n",
      "\u001b[1;30;32m CORRECT\n",
      "\n",
      "\u001b[0;30;30m --------------------------\n",
      "\n",
      "Truth\n"
     ]
    },
    {
     "data": {
      "text/plain": [
       "id       1172\n",
       "miner       0\n",
       "rust        0\n",
       "phoma       0\n",
       "Name: 208, dtype: int64"
      ]
     },
     "metadata": {},
     "output_type": "display_data"
    },
    {
     "name": "stdout",
     "output_type": "stream",
     "text": [
      "Prediction 0 0 0\n",
      "Prediction 10.784095 -11.659207 -23.86359\n",
      "\u001b[1;30;32m CORRECT\n",
      "\n",
      "\u001b[0;30;30m --------------------------\n",
      "\n",
      "Truth\n"
     ]
    },
    {
     "data": {
      "text/plain": [
       "id       1173\n",
       "miner       0\n",
       "rust        0\n",
       "phoma       0\n",
       "Name: 209, dtype: int64"
      ]
     },
     "metadata": {},
     "output_type": "display_data"
    },
    {
     "name": "stdout",
     "output_type": "stream",
     "text": [
      "Prediction 0 0 0\n",
      "Prediction 10.78928 -11.157162 -27.257227\n",
      "\u001b[1;30;32m CORRECT\n",
      "\n",
      "\u001b[0;30;30m --------------------------\n",
      "\n",
      "Truth\n"
     ]
    },
    {
     "data": {
      "text/plain": [
       "id       1174\n",
       "miner       0\n",
       "rust        0\n",
       "phoma       0\n",
       "Name: 210, dtype: int64"
      ]
     },
     "metadata": {},
     "output_type": "display_data"
    },
    {
     "name": "stdout",
     "output_type": "stream",
     "text": [
      "Prediction 0 0 0\n",
      "Prediction 10.772018 -11.410734 -23.537378\n",
      "\u001b[1;30;32m CORRECT\n",
      "\n",
      "\u001b[0;30;30m --------------------------\n",
      "\n",
      "Truth\n"
     ]
    },
    {
     "data": {
      "text/plain": [
       "id       1175\n",
       "miner       0\n",
       "rust        0\n",
       "phoma       0\n",
       "Name: 211, dtype: int64"
      ]
     },
     "metadata": {},
     "output_type": "display_data"
    },
    {
     "name": "stdout",
     "output_type": "stream",
     "text": [
      "Prediction 0 0 0\n",
      "Prediction 11.180639 -12.06615 -26.741812\n",
      "\u001b[1;30;32m CORRECT\n",
      "\n",
      "\u001b[0;30;30m --------------------------\n",
      "\n",
      "Truth\n"
     ]
    },
    {
     "data": {
      "text/plain": [
       "id       1176\n",
       "miner       0\n",
       "rust        0\n",
       "phoma       0\n",
       "Name: 212, dtype: int64"
      ]
     },
     "metadata": {},
     "output_type": "display_data"
    },
    {
     "name": "stdout",
     "output_type": "stream",
     "text": [
      "Prediction 0 0 0\n",
      "Prediction 9.4032545 -11.674633 -30.07922\n",
      "\u001b[1;30;32m CORRECT\n",
      "\n",
      "\u001b[0;30;30m --------------------------\n",
      "\n",
      "Truth\n"
     ]
    },
    {
     "data": {
      "text/plain": [
       "id       1177\n",
       "miner       0\n",
       "rust        0\n",
       "phoma       0\n",
       "Name: 213, dtype: int64"
      ]
     },
     "metadata": {},
     "output_type": "display_data"
    },
    {
     "name": "stdout",
     "output_type": "stream",
     "text": [
      "Prediction 0 0 0\n",
      "Prediction 10.064433 -11.004979 -29.950947\n",
      "\u001b[1;30;32m CORRECT\n",
      "\n",
      "\u001b[0;30;30m --------------------------\n",
      "\n",
      "Truth\n"
     ]
    },
    {
     "data": {
      "text/plain": [
       "id       1178\n",
       "miner       0\n",
       "rust        0\n",
       "phoma       0\n",
       "Name: 214, dtype: int64"
      ]
     },
     "metadata": {},
     "output_type": "display_data"
    },
    {
     "name": "stdout",
     "output_type": "stream",
     "text": [
      "Prediction 0 0 0\n",
      "Prediction 10.29801 -11.773852 -30.055847\n",
      "\u001b[1;30;32m CORRECT\n",
      "\n",
      "\u001b[0;30;30m --------------------------\n",
      "\n",
      "Truth\n"
     ]
    },
    {
     "data": {
      "text/plain": [
       "id       1179\n",
       "miner       0\n",
       "rust        0\n",
       "phoma       0\n",
       "Name: 215, dtype: int64"
      ]
     },
     "metadata": {},
     "output_type": "display_data"
    },
    {
     "name": "stdout",
     "output_type": "stream",
     "text": [
      "Prediction 0 0 0\n",
      "Prediction 10.415704 -12.235379 -30.320839\n",
      "\u001b[1;30;32m CORRECT\n",
      "\n",
      "\u001b[0;30;30m --------------------------\n",
      "\n",
      "Truth\n"
     ]
    },
    {
     "data": {
      "text/plain": [
       "id       1180\n",
       "miner       0\n",
       "rust        0\n",
       "phoma       0\n",
       "Name: 216, dtype: int64"
      ]
     },
     "metadata": {},
     "output_type": "display_data"
    },
    {
     "name": "stdout",
     "output_type": "stream",
     "text": [
      "Prediction 0 0 0\n",
      "Prediction 11.648975 -11.410817 -25.414661\n",
      "\u001b[1;30;32m CORRECT\n",
      "\n",
      "\u001b[0;30;30m --------------------------\n",
      "\n",
      "Truth\n"
     ]
    },
    {
     "data": {
      "text/plain": [
       "id       1181\n",
       "miner       0\n",
       "rust        0\n",
       "phoma       0\n",
       "Name: 217, dtype: int64"
      ]
     },
     "metadata": {},
     "output_type": "display_data"
    },
    {
     "name": "stdout",
     "output_type": "stream",
     "text": [
      "Prediction 0 0 0\n",
      "Prediction 11.895821 -12.25432 -28.855577\n",
      "\u001b[1;30;32m CORRECT\n",
      "\n",
      "\u001b[0;30;30m --------------------------\n",
      "\n",
      "Truth\n"
     ]
    },
    {
     "data": {
      "text/plain": [
       "id       1182\n",
       "miner       0\n",
       "rust        0\n",
       "phoma       0\n",
       "Name: 218, dtype: int64"
      ]
     },
     "metadata": {},
     "output_type": "display_data"
    },
    {
     "name": "stdout",
     "output_type": "stream",
     "text": [
      "Prediction 0 0 0\n",
      "Prediction 11.463882 -11.368155 -25.04506\n",
      "\u001b[1;30;32m CORRECT\n",
      "\n",
      "\u001b[0;30;30m --------------------------\n",
      "\n",
      "Truth\n"
     ]
    },
    {
     "data": {
      "text/plain": [
       "id       1183\n",
       "miner       0\n",
       "rust        0\n",
       "phoma       0\n",
       "Name: 219, dtype: int64"
      ]
     },
     "metadata": {},
     "output_type": "display_data"
    },
    {
     "name": "stdout",
     "output_type": "stream",
     "text": [
      "Prediction 0 0 0\n",
      "Prediction 12.474409 -12.816737 -28.81177\n",
      "\u001b[1;30;32m CORRECT\n",
      "\n",
      "\u001b[0;30;30m --------------------------\n",
      "\n",
      "Truth\n"
     ]
    },
    {
     "data": {
      "text/plain": [
       "id       1184\n",
       "miner       0\n",
       "rust        0\n",
       "phoma       0\n",
       "Name: 220, dtype: int64"
      ]
     },
     "metadata": {},
     "output_type": "display_data"
    },
    {
     "name": "stdout",
     "output_type": "stream",
     "text": [
      "Prediction 0 0 0\n",
      "Prediction 11.417222 -12.389334 -28.736681\n",
      "\u001b[1;30;32m CORRECT\n",
      "\n",
      "\u001b[0;30;30m --------------------------\n",
      "\n",
      "Truth\n"
     ]
    },
    {
     "data": {
      "text/plain": [
       "id       1185\n",
       "miner       0\n",
       "rust        0\n",
       "phoma       0\n",
       "Name: 221, dtype: int64"
      ]
     },
     "metadata": {},
     "output_type": "display_data"
    },
    {
     "name": "stdout",
     "output_type": "stream",
     "text": [
      "Prediction 0 0 0\n",
      "Prediction 12.113022 -12.219979 -33.281918\n",
      "\u001b[1;30;32m CORRECT\n",
      "\n",
      "\u001b[0;30;30m --------------------------\n",
      "\n",
      "Truth\n"
     ]
    },
    {
     "data": {
      "text/plain": [
       "id       1186\n",
       "miner       0\n",
       "rust        0\n",
       "phoma       0\n",
       "Name: 222, dtype: int64"
      ]
     },
     "metadata": {},
     "output_type": "display_data"
    },
    {
     "name": "stdout",
     "output_type": "stream",
     "text": [
      "Prediction 0 0 0\n",
      "Prediction 11.609416 -12.550342 -29.849142\n",
      "\u001b[1;30;32m CORRECT\n",
      "\n",
      "\u001b[0;30;30m --------------------------\n",
      "\n",
      "Truth\n"
     ]
    },
    {
     "data": {
      "text/plain": [
       "id       1187\n",
       "miner       0\n",
       "rust        0\n",
       "phoma       0\n",
       "Name: 223, dtype: int64"
      ]
     },
     "metadata": {},
     "output_type": "display_data"
    },
    {
     "name": "stdout",
     "output_type": "stream",
     "text": [
      "Prediction 0 0 0\n",
      "Prediction 12.25536 -12.1293745 -32.32784\n",
      "\u001b[1;30;32m CORRECT\n",
      "\n",
      "\u001b[0;30;30m --------------------------\n",
      "\n",
      "Truth\n"
     ]
    },
    {
     "data": {
      "text/plain": [
       "id       1188\n",
       "miner       0\n",
       "rust        0\n",
       "phoma       0\n",
       "Name: 224, dtype: int64"
      ]
     },
     "metadata": {},
     "output_type": "display_data"
    },
    {
     "name": "stdout",
     "output_type": "stream",
     "text": [
      "Prediction 0 0 0\n",
      "Prediction 10.37969 -11.020907 -27.19232\n",
      "\u001b[1;30;32m CORRECT\n",
      "\n",
      "\u001b[0;30;30m --------------------------\n",
      "\n",
      "Truth\n"
     ]
    },
    {
     "data": {
      "text/plain": [
       "id       1189\n",
       "miner       0\n",
       "rust        0\n",
       "phoma       0\n",
       "Name: 225, dtype: int64"
      ]
     },
     "metadata": {},
     "output_type": "display_data"
    },
    {
     "name": "stdout",
     "output_type": "stream",
     "text": [
      "Prediction 0 0 0\n",
      "Prediction 11.374572 -10.600386 -27.513689\n",
      "\u001b[1;30;32m CORRECT\n",
      "\n",
      "\u001b[0;30;30m --------------------------\n",
      "\n",
      "Truth\n"
     ]
    },
    {
     "data": {
      "text/plain": [
       "id       1190\n",
       "miner       0\n",
       "rust        0\n",
       "phoma       0\n",
       "Name: 226, dtype: int64"
      ]
     },
     "metadata": {},
     "output_type": "display_data"
    },
    {
     "name": "stdout",
     "output_type": "stream",
     "text": [
      "Prediction 0 0 0\n",
      "Prediction 11.357895 -11.548571 -26.508806\n",
      "\u001b[1;30;32m CORRECT\n",
      "\n",
      "\u001b[0;30;30m --------------------------\n",
      "\n",
      "Truth\n"
     ]
    },
    {
     "data": {
      "text/plain": [
       "id       1191\n",
       "miner       0\n",
       "rust        0\n",
       "phoma       0\n",
       "Name: 227, dtype: int64"
      ]
     },
     "metadata": {},
     "output_type": "display_data"
    },
    {
     "name": "stdout",
     "output_type": "stream",
     "text": [
      "Prediction 0 0 0\n",
      "Prediction 12.238291 -11.533295 -27.97619\n",
      "\u001b[1;30;32m CORRECT\n",
      "\n",
      "\u001b[0;30;30m --------------------------\n",
      "\n",
      "Truth\n"
     ]
    },
    {
     "data": {
      "text/plain": [
       "id       1192\n",
       "miner       0\n",
       "rust        0\n",
       "phoma       0\n",
       "Name: 228, dtype: int64"
      ]
     },
     "metadata": {},
     "output_type": "display_data"
    },
    {
     "name": "stdout",
     "output_type": "stream",
     "text": [
      "Prediction 0 0 0\n",
      "Prediction 15.74959 -11.202313 -14.706079\n",
      "\u001b[1;30;32m CORRECT\n",
      "\n",
      "\u001b[0;30;30m --------------------------\n",
      "\n",
      "Truth\n"
     ]
    },
    {
     "data": {
      "text/plain": [
       "id       1193\n",
       "miner       0\n",
       "rust        0\n",
       "phoma       0\n",
       "Name: 229, dtype: int64"
      ]
     },
     "metadata": {},
     "output_type": "display_data"
    },
    {
     "name": "stdout",
     "output_type": "stream",
     "text": [
      "Prediction 0 0 0\n",
      "Prediction 15.306362 -11.19097 -16.501223\n",
      "\u001b[1;30;32m CORRECT\n",
      "\n",
      "\u001b[0;30;30m --------------------------\n",
      "\n",
      "Truth\n"
     ]
    },
    {
     "data": {
      "text/plain": [
       "id       1194\n",
       "miner       0\n",
       "rust        0\n",
       "phoma       0\n",
       "Name: 230, dtype: int64"
      ]
     },
     "metadata": {},
     "output_type": "display_data"
    },
    {
     "name": "stdout",
     "output_type": "stream",
     "text": [
      "Prediction 0 0 0\n",
      "Prediction 15.481051 -11.364107 -14.96919\n",
      "\u001b[1;30;32m CORRECT\n",
      "\n",
      "\u001b[0;30;30m --------------------------\n",
      "\n",
      "Truth\n"
     ]
    },
    {
     "data": {
      "text/plain": [
       "id       1195\n",
       "miner       0\n",
       "rust        0\n",
       "phoma       0\n",
       "Name: 231, dtype: int64"
      ]
     },
     "metadata": {},
     "output_type": "display_data"
    },
    {
     "name": "stdout",
     "output_type": "stream",
     "text": [
      "Prediction 0 0 0\n",
      "Prediction 15.812229 -11.913135 -13.714729\n",
      "\u001b[1;30;32m CORRECT\n",
      "\n",
      "\u001b[0;30;30m --------------------------\n",
      "\n",
      "Truth\n"
     ]
    },
    {
     "data": {
      "text/plain": [
       "id       1196\n",
       "miner       0\n",
       "rust        0\n",
       "phoma       0\n",
       "Name: 232, dtype: int64"
      ]
     },
     "metadata": {},
     "output_type": "display_data"
    },
    {
     "name": "stdout",
     "output_type": "stream",
     "text": [
      "Prediction 0 0 0\n",
      "Prediction 17.5388 -11.779254 -14.586453\n",
      "\u001b[1;30;32m CORRECT\n",
      "\n",
      "\u001b[0;30;30m --------------------------\n",
      "\n",
      "Truth\n"
     ]
    },
    {
     "data": {
      "text/plain": [
       "id       1197\n",
       "miner       0\n",
       "rust        0\n",
       "phoma       0\n",
       "Name: 233, dtype: int64"
      ]
     },
     "metadata": {},
     "output_type": "display_data"
    },
    {
     "name": "stdout",
     "output_type": "stream",
     "text": [
      "Prediction 0 0 0\n",
      "Prediction 17.000324 -11.768104 -17.329157\n",
      "\u001b[1;30;32m CORRECT\n",
      "\n",
      "\u001b[0;30;30m --------------------------\n",
      "\n",
      "Truth\n"
     ]
    },
    {
     "data": {
      "text/plain": [
       "id       1198\n",
       "miner       0\n",
       "rust        0\n",
       "phoma       0\n",
       "Name: 234, dtype: int64"
      ]
     },
     "metadata": {},
     "output_type": "display_data"
    },
    {
     "name": "stdout",
     "output_type": "stream",
     "text": [
      "Prediction 0 0 0\n",
      "Prediction 17.411295 -11.809887 -14.332894\n",
      "\u001b[1;30;32m CORRECT\n",
      "\n",
      "\u001b[0;30;30m --------------------------\n",
      "\n",
      "Truth\n"
     ]
    },
    {
     "data": {
      "text/plain": [
       "id       1199\n",
       "miner       0\n",
       "rust        0\n",
       "phoma       0\n",
       "Name: 235, dtype: int64"
      ]
     },
     "metadata": {},
     "output_type": "display_data"
    },
    {
     "name": "stdout",
     "output_type": "stream",
     "text": [
      "Prediction 0 0 0\n",
      "Prediction 17.592373 -12.1734705 -15.46682\n",
      "\u001b[1;30;32m CORRECT\n",
      "\n",
      "\u001b[0;30;30m --------------------------\n",
      "\n",
      "Truth\n"
     ]
    },
    {
     "data": {
      "text/plain": [
       "id       1200\n",
       "miner       0\n",
       "rust        0\n",
       "phoma       0\n",
       "Name: 236, dtype: int64"
      ]
     },
     "metadata": {},
     "output_type": "display_data"
    },
    {
     "name": "stdout",
     "output_type": "stream",
     "text": [
      "Prediction 0 0 0\n",
      "Prediction 16.328394 -11.336285 -9.971289\n",
      "\u001b[1;30;32m CORRECT\n",
      "\n",
      "\u001b[0;30;30m --------------------------\n",
      "\n",
      "Truth\n"
     ]
    },
    {
     "data": {
      "text/plain": [
       "id       1201\n",
       "miner       0\n",
       "rust        0\n",
       "phoma       0\n",
       "Name: 237, dtype: int64"
      ]
     },
     "metadata": {},
     "output_type": "display_data"
    },
    {
     "name": "stdout",
     "output_type": "stream",
     "text": [
      "Prediction 0 0 0\n",
      "Prediction 16.808105 -10.779704 -11.159412\n",
      "\u001b[1;30;32m CORRECT\n",
      "\n",
      "\u001b[0;30;30m --------------------------\n",
      "\n",
      "Truth\n"
     ]
    },
    {
     "data": {
      "text/plain": [
       "id       1202\n",
       "miner       0\n",
       "rust        0\n",
       "phoma       0\n",
       "Name: 238, dtype: int64"
      ]
     },
     "metadata": {},
     "output_type": "display_data"
    },
    {
     "name": "stdout",
     "output_type": "stream",
     "text": [
      "Prediction 0 0 0\n",
      "Prediction 16.238209 -11.862393 -10.0822115\n",
      "\u001b[1;30;32m CORRECT\n",
      "\n",
      "\u001b[0;30;30m --------------------------\n",
      "\n",
      "Truth\n"
     ]
    },
    {
     "data": {
      "text/plain": [
       "id       1203\n",
       "miner       0\n",
       "rust        0\n",
       "phoma       0\n",
       "Name: 239, dtype: int64"
      ]
     },
     "metadata": {},
     "output_type": "display_data"
    },
    {
     "name": "stdout",
     "output_type": "stream",
     "text": [
      "Prediction 0 0 0\n",
      "Prediction 16.860727 -11.345539 -11.468219\n",
      "\u001b[1;30;32m CORRECT\n",
      "\n",
      "\u001b[0;30;30m --------------------------\n",
      "\n",
      "Truth\n"
     ]
    },
    {
     "data": {
      "text/plain": [
       "id       1204\n",
       "miner       0\n",
       "rust        0\n",
       "phoma       0\n",
       "Name: 240, dtype: int64"
      ]
     },
     "metadata": {},
     "output_type": "display_data"
    },
    {
     "name": "stdout",
     "output_type": "stream",
     "text": [
      "Prediction 0 0 0\n",
      "Prediction 10.824465 -11.435217 -27.291595\n",
      "\u001b[1;30;32m CORRECT\n",
      "\n",
      "\u001b[0;30;30m --------------------------\n",
      "\n",
      "Truth\n"
     ]
    },
    {
     "data": {
      "text/plain": [
       "id       1205\n",
       "miner       0\n",
       "rust        0\n",
       "phoma       0\n",
       "Name: 241, dtype: int64"
      ]
     },
     "metadata": {},
     "output_type": "display_data"
    },
    {
     "name": "stdout",
     "output_type": "stream",
     "text": [
      "Prediction 0 0 0\n",
      "Prediction 11.488871 -12.35002 -25.899204\n",
      "\u001b[1;30;32m CORRECT\n",
      "\n",
      "\u001b[0;30;30m --------------------------\n",
      "\n",
      "Truth\n"
     ]
    },
    {
     "data": {
      "text/plain": [
       "id       1206\n",
       "miner       0\n",
       "rust        0\n",
       "phoma       0\n",
       "Name: 242, dtype: int64"
      ]
     },
     "metadata": {},
     "output_type": "display_data"
    },
    {
     "name": "stdout",
     "output_type": "stream",
     "text": [
      "Prediction 0 0 0\n",
      "Prediction 10.70174 -11.354823 -26.91748\n",
      "\u001b[1;30;32m CORRECT\n",
      "\n",
      "\u001b[0;30;30m --------------------------\n",
      "\n",
      "Truth\n"
     ]
    },
    {
     "data": {
      "text/plain": [
       "id       1207\n",
       "miner       0\n",
       "rust        0\n",
       "phoma       0\n",
       "Name: 243, dtype: int64"
      ]
     },
     "metadata": {},
     "output_type": "display_data"
    },
    {
     "name": "stdout",
     "output_type": "stream",
     "text": [
      "Prediction 0 0 0\n",
      "Prediction 12.078064 -13.177666 -25.718025\n",
      "\u001b[1;30;32m CORRECT\n",
      "\n",
      "\u001b[0;30;30m --------------------------\n",
      "\n",
      "Truth\n"
     ]
    },
    {
     "data": {
      "text/plain": [
       "id       1208\n",
       "miner       0\n",
       "rust        0\n",
       "phoma       0\n",
       "Name: 244, dtype: int64"
      ]
     },
     "metadata": {},
     "output_type": "display_data"
    },
    {
     "name": "stdout",
     "output_type": "stream",
     "text": [
      "Prediction 0 0 0\n",
      "Prediction 10.569099 -13.19374 -33.020615\n",
      "\u001b[1;30;32m CORRECT\n",
      "\n",
      "\u001b[0;30;30m --------------------------\n",
      "\n",
      "Truth\n"
     ]
    },
    {
     "data": {
      "text/plain": [
       "id       1209\n",
       "miner       0\n",
       "rust        0\n",
       "phoma       0\n",
       "Name: 245, dtype: int64"
      ]
     },
     "metadata": {},
     "output_type": "display_data"
    },
    {
     "name": "stdout",
     "output_type": "stream",
     "text": [
      "Prediction 0 0 0\n",
      "Prediction 12.115944 -9.811626 -31.921131\n",
      "\u001b[1;30;32m CORRECT\n",
      "\n",
      "\u001b[0;30;30m --------------------------\n",
      "\n",
      "Truth\n"
     ]
    },
    {
     "data": {
      "text/plain": [
       "id       1210\n",
       "miner       0\n",
       "rust        0\n",
       "phoma       0\n",
       "Name: 246, dtype: int64"
      ]
     },
     "metadata": {},
     "output_type": "display_data"
    },
    {
     "name": "stdout",
     "output_type": "stream",
     "text": [
      "Prediction 0 0 0\n",
      "Prediction 10.919085 -13.818013 -33.78643\n",
      "\u001b[1;30;32m CORRECT\n",
      "\n",
      "\u001b[0;30;30m --------------------------\n",
      "\n",
      "Truth\n"
     ]
    },
    {
     "data": {
      "text/plain": [
       "id       1211\n",
       "miner       0\n",
       "rust        0\n",
       "phoma       0\n",
       "Name: 247, dtype: int64"
      ]
     },
     "metadata": {},
     "output_type": "display_data"
    },
    {
     "name": "stdout",
     "output_type": "stream",
     "text": [
      "Prediction 0 0 0\n",
      "Prediction 12.5831785 -9.168346 -33.4874\n",
      "\u001b[1;30;32m CORRECT\n",
      "\n",
      "\u001b[0;30;30m --------------------------\n",
      "\n",
      "Truth\n"
     ]
    },
    {
     "data": {
      "text/plain": [
       "id       1212\n",
       "miner       0\n",
       "rust        0\n",
       "phoma       0\n",
       "Name: 248, dtype: int64"
      ]
     },
     "metadata": {},
     "output_type": "display_data"
    },
    {
     "name": "stdout",
     "output_type": "stream",
     "text": [
      "Prediction 0 0 0\n",
      "Prediction 9.513321 -12.695455 -29.34518\n",
      "\u001b[1;30;32m CORRECT\n",
      "\n",
      "\u001b[0;30;30m --------------------------\n",
      "\n",
      "Truth\n"
     ]
    },
    {
     "data": {
      "text/plain": [
       "id       1213\n",
       "miner       0\n",
       "rust        0\n",
       "phoma       0\n",
       "Name: 249, dtype: int64"
      ]
     },
     "metadata": {},
     "output_type": "display_data"
    },
    {
     "name": "stdout",
     "output_type": "stream",
     "text": [
      "Prediction 0 0 0\n",
      "Prediction 11.405183 -11.936318 -29.179743\n",
      "\u001b[1;30;32m CORRECT\n",
      "\n",
      "\u001b[0;30;30m --------------------------\n",
      "\n",
      "Truth\n"
     ]
    },
    {
     "data": {
      "text/plain": [
       "id       1214\n",
       "miner       0\n",
       "rust        0\n",
       "phoma       0\n",
       "Name: 250, dtype: int64"
      ]
     },
     "metadata": {},
     "output_type": "display_data"
    },
    {
     "name": "stdout",
     "output_type": "stream",
     "text": [
      "Prediction 0 0 0\n",
      "Prediction 9.979413 -13.506373 -28.981056\n",
      "\u001b[1;30;32m CORRECT\n",
      "\n",
      "\u001b[0;30;30m --------------------------\n",
      "\n",
      "Truth\n"
     ]
    },
    {
     "data": {
      "text/plain": [
       "id       1215\n",
       "miner       0\n",
       "rust        0\n",
       "phoma       0\n",
       "Name: 251, dtype: int64"
      ]
     },
     "metadata": {},
     "output_type": "display_data"
    },
    {
     "name": "stdout",
     "output_type": "stream",
     "text": [
      "Prediction 0 0 0\n",
      "Prediction 11.719454 -12.686928 -29.767664\n",
      "\u001b[1;30;32m CORRECT\n",
      "\n",
      "\u001b[0;30;30m --------------------------\n",
      "\n",
      "Truth\n"
     ]
    },
    {
     "data": {
      "text/plain": [
       "id       1216\n",
       "miner       0\n",
       "rust        0\n",
       "phoma       0\n",
       "Name: 252, dtype: int64"
      ]
     },
     "metadata": {},
     "output_type": "display_data"
    },
    {
     "name": "stdout",
     "output_type": "stream",
     "text": [
      "Prediction 0 0 0\n",
      "Prediction 10.585927 -11.667923 -28.516886\n",
      "\u001b[1;30;32m CORRECT\n",
      "\n",
      "\u001b[0;30;30m --------------------------\n",
      "\n",
      "Truth\n"
     ]
    },
    {
     "data": {
      "text/plain": [
       "id       1217\n",
       "miner       0\n",
       "rust        0\n",
       "phoma       0\n",
       "Name: 253, dtype: int64"
      ]
     },
     "metadata": {},
     "output_type": "display_data"
    },
    {
     "name": "stdout",
     "output_type": "stream",
     "text": [
      "Prediction 0 0 0\n",
      "Prediction 11.603997 -12.749136 -28.58857\n",
      "\u001b[1;30;32m CORRECT\n",
      "\n",
      "\u001b[0;30;30m --------------------------\n",
      "\n",
      "Truth\n"
     ]
    },
    {
     "data": {
      "text/plain": [
       "id       1218\n",
       "miner       0\n",
       "rust        0\n",
       "phoma       0\n",
       "Name: 254, dtype: int64"
      ]
     },
     "metadata": {},
     "output_type": "display_data"
    },
    {
     "name": "stdout",
     "output_type": "stream",
     "text": [
      "Prediction 0 0 0\n",
      "Prediction 10.832532 -12.105259 -27.399353\n",
      "\u001b[1;30;32m CORRECT\n",
      "\n",
      "\u001b[0;30;30m --------------------------\n",
      "\n",
      "Truth\n"
     ]
    },
    {
     "data": {
      "text/plain": [
       "id       1219\n",
       "miner       0\n",
       "rust        0\n",
       "phoma       0\n",
       "Name: 255, dtype: int64"
      ]
     },
     "metadata": {},
     "output_type": "display_data"
    },
    {
     "name": "stdout",
     "output_type": "stream",
     "text": [
      "Prediction 0 0 0\n",
      "Prediction 12.205363 -13.088283 -28.814125\n",
      "\u001b[1;30;32m CORRECT\n",
      "\n",
      "\u001b[0;30;30m --------------------------\n",
      "\n",
      "Truth\n"
     ]
    },
    {
     "data": {
      "text/plain": [
       "id       1220\n",
       "miner       0\n",
       "rust        0\n",
       "phoma       0\n",
       "Name: 256, dtype: int64"
      ]
     },
     "metadata": {},
     "output_type": "display_data"
    },
    {
     "name": "stdout",
     "output_type": "stream",
     "text": [
      "Prediction 0 0 0\n",
      "Prediction 9.700182 -9.414205 -27.17268\n",
      "\u001b[1;30;32m CORRECT\n",
      "\n",
      "\u001b[0;30;30m --------------------------\n",
      "\n",
      "Truth\n"
     ]
    },
    {
     "data": {
      "text/plain": [
       "id       1221\n",
       "miner       0\n",
       "rust        0\n",
       "phoma       0\n",
       "Name: 257, dtype: int64"
      ]
     },
     "metadata": {},
     "output_type": "display_data"
    },
    {
     "name": "stdout",
     "output_type": "stream",
     "text": [
      "Prediction 0 0 0\n",
      "Prediction 10.348932 -11.901576 -31.089554\n",
      "\u001b[1;30;32m CORRECT\n",
      "\n",
      "\u001b[0;30;30m --------------------------\n",
      "\n",
      "Truth\n"
     ]
    },
    {
     "data": {
      "text/plain": [
       "id       1222\n",
       "miner       0\n",
       "rust        0\n",
       "phoma       0\n",
       "Name: 258, dtype: int64"
      ]
     },
     "metadata": {},
     "output_type": "display_data"
    },
    {
     "name": "stdout",
     "output_type": "stream",
     "text": [
      "Prediction 0 0 0\n",
      "Prediction 9.7501335 -10.017361 -29.01882\n",
      "\u001b[1;30;32m CORRECT\n",
      "\n",
      "\u001b[0;30;30m --------------------------\n",
      "\n",
      "Truth\n"
     ]
    },
    {
     "data": {
      "text/plain": [
       "id       1223\n",
       "miner       0\n",
       "rust        0\n",
       "phoma       0\n",
       "Name: 259, dtype: int64"
      ]
     },
     "metadata": {},
     "output_type": "display_data"
    },
    {
     "name": "stdout",
     "output_type": "stream",
     "text": [
      "Prediction 0 0 0\n",
      "Prediction 10.605629 -13.21057 -31.793528\n",
      "\u001b[1;30;32m CORRECT\n",
      "\n",
      "\u001b[0;30;30m --------------------------\n",
      "\n",
      "Truth\n"
     ]
    },
    {
     "data": {
      "text/plain": [
       "id       1224\n",
       "miner       0\n",
       "rust        0\n",
       "phoma       0\n",
       "Name: 260, dtype: int64"
      ]
     },
     "metadata": {},
     "output_type": "display_data"
    },
    {
     "name": "stdout",
     "output_type": "stream",
     "text": [
      "Prediction 0 0 0\n",
      "Prediction 11.860329 -9.308543 -18.96854\n",
      "\u001b[1;30;32m CORRECT\n",
      "\n",
      "\u001b[0;30;30m --------------------------\n",
      "\n",
      "Truth\n"
     ]
    },
    {
     "data": {
      "text/plain": [
       "id       1225\n",
       "miner       0\n",
       "rust        0\n",
       "phoma       0\n",
       "Name: 261, dtype: int64"
      ]
     },
     "metadata": {},
     "output_type": "display_data"
    },
    {
     "name": "stdout",
     "output_type": "stream",
     "text": [
      "Prediction 0 0 0\n",
      "Prediction 12.522553 -9.245859 -20.022108\n",
      "\u001b[1;30;32m CORRECT\n",
      "\n",
      "\u001b[0;30;30m --------------------------\n",
      "\n",
      "Truth\n"
     ]
    },
    {
     "data": {
      "text/plain": [
       "id       1226\n",
       "miner       0\n",
       "rust        0\n",
       "phoma       0\n",
       "Name: 262, dtype: int64"
      ]
     },
     "metadata": {},
     "output_type": "display_data"
    },
    {
     "name": "stdout",
     "output_type": "stream",
     "text": [
      "Prediction 0 0 0\n",
      "Prediction 12.276843 -9.785096 -17.694853\n",
      "\u001b[1;30;32m CORRECT\n",
      "\n",
      "\u001b[0;30;30m --------------------------\n",
      "\n",
      "Truth\n"
     ]
    },
    {
     "data": {
      "text/plain": [
       "id       1227\n",
       "miner       0\n",
       "rust        0\n",
       "phoma       0\n",
       "Name: 263, dtype: int64"
      ]
     },
     "metadata": {},
     "output_type": "display_data"
    },
    {
     "name": "stdout",
     "output_type": "stream",
     "text": [
      "Prediction 0 0 0\n",
      "Prediction 12.86691 -10.653106 -21.40919\n",
      "\u001b[1;30;32m CORRECT\n",
      "\n",
      "\u001b[0;30;30m --------------------------\n",
      "\n",
      "Truth\n"
     ]
    },
    {
     "data": {
      "text/plain": [
       "id       1228\n",
       "miner       0\n",
       "rust        0\n",
       "phoma       0\n",
       "Name: 264, dtype: int64"
      ]
     },
     "metadata": {},
     "output_type": "display_data"
    },
    {
     "name": "stdout",
     "output_type": "stream",
     "text": [
      "Prediction 0 0 0\n",
      "Prediction 13.329576 -17.810608 -19.733305\n",
      "\u001b[1;30;32m CORRECT\n",
      "\n",
      "\u001b[0;30;30m --------------------------\n",
      "\n",
      "Truth\n"
     ]
    },
    {
     "data": {
      "text/plain": [
       "id       1229\n",
       "miner       0\n",
       "rust        0\n",
       "phoma       0\n",
       "Name: 265, dtype: int64"
      ]
     },
     "metadata": {},
     "output_type": "display_data"
    },
    {
     "name": "stdout",
     "output_type": "stream",
     "text": [
      "Prediction 0 0 0\n",
      "Prediction 14.879324 -16.919113 -20.022324\n",
      "\u001b[1;30;32m CORRECT\n",
      "\n",
      "\u001b[0;30;30m --------------------------\n",
      "\n",
      "Truth\n"
     ]
    },
    {
     "data": {
      "text/plain": [
       "id       1230\n",
       "miner       0\n",
       "rust        0\n",
       "phoma       0\n",
       "Name: 266, dtype: int64"
      ]
     },
     "metadata": {},
     "output_type": "display_data"
    },
    {
     "name": "stdout",
     "output_type": "stream",
     "text": [
      "Prediction 0 0 0\n",
      "Prediction 14.409199 -18.97357 -19.70552\n",
      "\u001b[1;30;32m CORRECT\n",
      "\n",
      "\u001b[0;30;30m --------------------------\n",
      "\n",
      "Truth\n"
     ]
    },
    {
     "data": {
      "text/plain": [
       "id       1231\n",
       "miner       0\n",
       "rust        0\n",
       "phoma       0\n",
       "Name: 267, dtype: int64"
      ]
     },
     "metadata": {},
     "output_type": "display_data"
    },
    {
     "name": "stdout",
     "output_type": "stream",
     "text": [
      "Prediction 0 0 0\n",
      "Prediction 14.819676 -17.357702 -19.814934\n",
      "\u001b[1;30;32m CORRECT\n",
      "\n",
      "\u001b[0;30;30m --------------------------\n",
      "\n",
      "Truth\n"
     ]
    },
    {
     "data": {
      "text/plain": [
       "id       1232\n",
       "miner       1\n",
       "rust        0\n",
       "phoma       0\n",
       "Name: 268, dtype: int64"
      ]
     },
     "metadata": {},
     "output_type": "display_data"
    },
    {
     "name": "stdout",
     "output_type": "stream",
     "text": [
      "Prediction 1 0 0\n",
      "Prediction -47.676968 -16.050179 -26.402292\n",
      "\u001b[1;30;32m CORRECT\n",
      "\n",
      "\u001b[0;30;30m --------------------------\n",
      "\n",
      "Truth\n"
     ]
    },
    {
     "data": {
      "text/plain": [
       "id       1233\n",
       "miner       1\n",
       "rust        0\n",
       "phoma       0\n",
       "Name: 269, dtype: int64"
      ]
     },
     "metadata": {},
     "output_type": "display_data"
    },
    {
     "name": "stdout",
     "output_type": "stream",
     "text": [
      "Prediction 1 0 0\n",
      "Prediction -46.157116 -17.849754 -25.221249\n",
      "\u001b[1;30;32m CORRECT\n",
      "\n",
      "\u001b[0;30;30m --------------------------\n",
      "\n",
      "Truth\n"
     ]
    },
    {
     "data": {
      "text/plain": [
       "id       1234\n",
       "miner       1\n",
       "rust        0\n",
       "phoma       0\n",
       "Name: 270, dtype: int64"
      ]
     },
     "metadata": {},
     "output_type": "display_data"
    },
    {
     "name": "stdout",
     "output_type": "stream",
     "text": [
      "Prediction 1 0 0\n",
      "Prediction -46.6175 -18.790018 -26.802742\n",
      "\u001b[1;30;32m CORRECT\n",
      "\n",
      "\u001b[0;30;30m --------------------------\n",
      "\n",
      "Truth\n"
     ]
    },
    {
     "data": {
      "text/plain": [
       "id       1235\n",
       "miner       1\n",
       "rust        0\n",
       "phoma       0\n",
       "Name: 271, dtype: int64"
      ]
     },
     "metadata": {},
     "output_type": "display_data"
    },
    {
     "name": "stdout",
     "output_type": "stream",
     "text": [
      "Prediction 1 0 0\n",
      "Prediction -33.558285 -18.896608 -25.085728\n",
      "\u001b[1;30;32m CORRECT\n",
      "\n",
      "\u001b[0;30;30m --------------------------\n",
      "\n",
      "Truth\n"
     ]
    },
    {
     "data": {
      "text/plain": [
       "id       1236\n",
       "miner       0\n",
       "rust        0\n",
       "phoma       0\n",
       "Name: 272, dtype: int64"
      ]
     },
     "metadata": {},
     "output_type": "display_data"
    },
    {
     "name": "stdout",
     "output_type": "stream",
     "text": [
      "Prediction 0 0 0\n",
      "Prediction 14.937238 -14.580975 -29.89059\n",
      "\u001b[1;30;32m CORRECT\n",
      "\n",
      "\u001b[0;30;30m --------------------------\n",
      "\n",
      "Truth\n"
     ]
    },
    {
     "data": {
      "text/plain": [
       "id       1237\n",
       "miner       0\n",
       "rust        0\n",
       "phoma       0\n",
       "Name: 273, dtype: int64"
      ]
     },
     "metadata": {},
     "output_type": "display_data"
    },
    {
     "name": "stdout",
     "output_type": "stream",
     "text": [
      "Prediction 0 0 0\n",
      "Prediction 15.570922 -16.873137 -28.938147\n",
      "\u001b[1;30;32m CORRECT\n",
      "\n",
      "\u001b[0;30;30m --------------------------\n",
      "\n",
      "Truth\n"
     ]
    },
    {
     "data": {
      "text/plain": [
       "id       1238\n",
       "miner       0\n",
       "rust        0\n",
       "phoma       0\n",
       "Name: 274, dtype: int64"
      ]
     },
     "metadata": {},
     "output_type": "display_data"
    },
    {
     "name": "stdout",
     "output_type": "stream",
     "text": [
      "Prediction 0 0 0\n",
      "Prediction 15.748916 -15.148172 -30.111113\n",
      "\u001b[1;30;32m CORRECT\n",
      "\n",
      "\u001b[0;30;30m --------------------------\n",
      "\n",
      "Truth\n"
     ]
    },
    {
     "data": {
      "text/plain": [
       "id       1239\n",
       "miner       0\n",
       "rust        0\n",
       "phoma       0\n",
       "Name: 275, dtype: int64"
      ]
     },
     "metadata": {},
     "output_type": "display_data"
    },
    {
     "name": "stdout",
     "output_type": "stream",
     "text": [
      "Prediction 0 0 0\n",
      "Prediction 16.852093 -16.6378 -30.051863\n",
      "\u001b[1;30;32m CORRECT\n",
      "\n",
      "\u001b[0;30;30m --------------------------\n",
      "\n",
      "Truth\n"
     ]
    },
    {
     "data": {
      "text/plain": [
       "id       1240\n",
       "miner       0\n",
       "rust        0\n",
       "phoma       0\n",
       "Name: 276, dtype: int64"
      ]
     },
     "metadata": {},
     "output_type": "display_data"
    },
    {
     "name": "stdout",
     "output_type": "stream",
     "text": [
      "Prediction 0 0 0\n",
      "Prediction 13.210004 -16.2226 -27.689749\n",
      "\u001b[1;30;32m CORRECT\n",
      "\n",
      "\u001b[0;30;30m --------------------------\n",
      "\n",
      "Truth\n"
     ]
    },
    {
     "data": {
      "text/plain": [
       "id       1241\n",
       "miner       0\n",
       "rust        0\n",
       "phoma       0\n",
       "Name: 277, dtype: int64"
      ]
     },
     "metadata": {},
     "output_type": "display_data"
    },
    {
     "name": "stdout",
     "output_type": "stream",
     "text": [
      "Prediction 0 0 0\n",
      "Prediction 12.127788 -17.083094 -27.20365\n",
      "\u001b[1;30;32m CORRECT\n",
      "\n",
      "\u001b[0;30;30m --------------------------\n",
      "\n",
      "Truth\n"
     ]
    },
    {
     "data": {
      "text/plain": [
       "id       1242\n",
       "miner       0\n",
       "rust        0\n",
       "phoma       0\n",
       "Name: 278, dtype: int64"
      ]
     },
     "metadata": {},
     "output_type": "display_data"
    },
    {
     "name": "stdout",
     "output_type": "stream",
     "text": [
      "Prediction 0 0 0\n",
      "Prediction 13.020606 -16.770554 -27.993818\n",
      "\u001b[1;30;32m CORRECT\n",
      "\n",
      "\u001b[0;30;30m --------------------------\n",
      "\n",
      "Truth\n"
     ]
    },
    {
     "data": {
      "text/plain": [
       "id       1243\n",
       "miner       0\n",
       "rust        0\n",
       "phoma       0\n",
       "Name: 279, dtype: int64"
      ]
     },
     "metadata": {},
     "output_type": "display_data"
    },
    {
     "name": "stdout",
     "output_type": "stream",
     "text": [
      "Prediction 0 0 0\n",
      "Prediction 12.351894 -18.046556 -27.457952\n",
      "\u001b[1;30;32m CORRECT\n",
      "\n",
      "\u001b[0;30;30m --------------------------\n",
      "\n",
      "Truth\n"
     ]
    },
    {
     "data": {
      "text/plain": [
       "id       1244\n",
       "miner       1\n",
       "rust        0\n",
       "phoma       0\n",
       "Name: 280, dtype: int64"
      ]
     },
     "metadata": {},
     "output_type": "display_data"
    },
    {
     "name": "stdout",
     "output_type": "stream",
     "text": [
      "Prediction 1 1 0\n",
      "Prediction -1.064627 4.772479 -25.883726\n",
      "\u001b[1;30;31m WRONG\n",
      "\n",
      "\u001b[0;30;30m --------------------------\n",
      "\n",
      "Truth\n"
     ]
    },
    {
     "data": {
      "text/plain": [
       "id       1245\n",
       "miner       1\n",
       "rust        0\n",
       "phoma       0\n",
       "Name: 281, dtype: int64"
      ]
     },
     "metadata": {},
     "output_type": "display_data"
    },
    {
     "name": "stdout",
     "output_type": "stream",
     "text": [
      "Prediction 1 1 0\n",
      "Prediction -3.401952 9.027774 -28.304674\n",
      "\u001b[1;30;31m WRONG\n",
      "\n",
      "\u001b[0;30;30m --------------------------\n",
      "\n",
      "Truth\n"
     ]
    },
    {
     "data": {
      "text/plain": [
       "id       1246\n",
       "miner       1\n",
       "rust        0\n",
       "phoma       0\n",
       "Name: 282, dtype: int64"
      ]
     },
     "metadata": {},
     "output_type": "display_data"
    },
    {
     "name": "stdout",
     "output_type": "stream",
     "text": [
      "Prediction 1 1 0\n",
      "Prediction -5.226894 5.381368 -23.050032\n",
      "\u001b[1;30;31m WRONG\n",
      "\n",
      "\u001b[0;30;30m --------------------------\n",
      "\n",
      "Truth\n"
     ]
    },
    {
     "data": {
      "text/plain": [
       "id       1247\n",
       "miner       1\n",
       "rust        0\n",
       "phoma       0\n",
       "Name: 283, dtype: int64"
      ]
     },
     "metadata": {},
     "output_type": "display_data"
    },
    {
     "name": "stdout",
     "output_type": "stream",
     "text": [
      "Prediction 1 1 0\n",
      "Prediction -2.1496363 1.2512759 -26.396578\n",
      "\u001b[1;30;31m WRONG\n",
      "\n",
      "\u001b[0;30;30m --------------------------\n",
      "\n",
      "Truth\n"
     ]
    },
    {
     "data": {
      "text/plain": [
       "id       1248\n",
       "miner       1\n",
       "rust        0\n",
       "phoma       0\n",
       "Name: 284, dtype: int64"
      ]
     },
     "metadata": {},
     "output_type": "display_data"
    },
    {
     "name": "stdout",
     "output_type": "stream",
     "text": [
      "Prediction 1 0 0\n",
      "Prediction -61.860638 -22.09939 -15.91765\n",
      "\u001b[1;30;32m CORRECT\n",
      "\n",
      "\u001b[0;30;30m --------------------------\n",
      "\n",
      "Truth\n"
     ]
    },
    {
     "data": {
      "text/plain": [
       "id       1249\n",
       "miner       1\n",
       "rust        0\n",
       "phoma       0\n",
       "Name: 285, dtype: int64"
      ]
     },
     "metadata": {},
     "output_type": "display_data"
    },
    {
     "name": "stdout",
     "output_type": "stream",
     "text": [
      "Prediction 1 0 0\n",
      "Prediction -45.588375 -20.657255 -18.37635\n",
      "\u001b[1;30;32m CORRECT\n",
      "\n",
      "\u001b[0;30;30m --------------------------\n",
      "\n",
      "Truth\n"
     ]
    },
    {
     "data": {
      "text/plain": [
       "id       1250\n",
       "miner       1\n",
       "rust        0\n",
       "phoma       0\n",
       "Name: 286, dtype: int64"
      ]
     },
     "metadata": {},
     "output_type": "display_data"
    },
    {
     "name": "stdout",
     "output_type": "stream",
     "text": [
      "Prediction 1 0 0\n",
      "Prediction -62.84356 -22.038353 -15.1789055\n",
      "\u001b[1;30;32m CORRECT\n",
      "\n",
      "\u001b[0;30;30m --------------------------\n",
      "\n",
      "Truth\n"
     ]
    },
    {
     "data": {
      "text/plain": [
       "id       1251\n",
       "miner       1\n",
       "rust        0\n",
       "phoma       0\n",
       "Name: 287, dtype: int64"
      ]
     },
     "metadata": {},
     "output_type": "display_data"
    },
    {
     "name": "stdout",
     "output_type": "stream",
     "text": [
      "Prediction 1 0 0\n",
      "Prediction -51.086704 -20.149569 -16.465893\n",
      "\u001b[1;30;32m CORRECT\n",
      "\n",
      "\u001b[0;30;30m --------------------------\n",
      "\n",
      "Truth\n"
     ]
    },
    {
     "data": {
      "text/plain": [
       "id       1252\n",
       "miner       0\n",
       "rust        1\n",
       "phoma       0\n",
       "Name: 288, dtype: int64"
      ]
     },
     "metadata": {},
     "output_type": "display_data"
    },
    {
     "name": "stdout",
     "output_type": "stream",
     "text": [
      "Prediction 0 1 0\n",
      "Prediction 11.745705 70.06068 -28.916103\n",
      "\u001b[1;30;32m CORRECT\n",
      "\n",
      "\u001b[0;30;30m --------------------------\n",
      "\n",
      "Truth\n"
     ]
    },
    {
     "data": {
      "text/plain": [
       "id       1253\n",
       "miner       0\n",
       "rust        1\n",
       "phoma       0\n",
       "Name: 289, dtype: int64"
      ]
     },
     "metadata": {},
     "output_type": "display_data"
    },
    {
     "name": "stdout",
     "output_type": "stream",
     "text": [
      "Prediction 0 1 0\n",
      "Prediction 11.691321 81.8377 -28.359606\n",
      "\u001b[1;30;32m CORRECT\n",
      "\n",
      "\u001b[0;30;30m --------------------------\n",
      "\n",
      "Truth\n"
     ]
    },
    {
     "data": {
      "text/plain": [
       "id       1254\n",
       "miner       0\n",
       "rust        1\n",
       "phoma       0\n",
       "Name: 290, dtype: int64"
      ]
     },
     "metadata": {},
     "output_type": "display_data"
    },
    {
     "name": "stdout",
     "output_type": "stream",
     "text": [
      "Prediction 0 1 0\n",
      "Prediction 12.275715 63.420822 -29.786003\n",
      "\u001b[1;30;32m CORRECT\n",
      "\n",
      "\u001b[0;30;30m --------------------------\n",
      "\n",
      "Truth\n"
     ]
    },
    {
     "data": {
      "text/plain": [
       "id       1255\n",
       "miner       0\n",
       "rust        1\n",
       "phoma       0\n",
       "Name: 291, dtype: int64"
      ]
     },
     "metadata": {},
     "output_type": "display_data"
    },
    {
     "name": "stdout",
     "output_type": "stream",
     "text": [
      "Prediction 0 1 0\n",
      "Prediction 11.739302 69.501854 -29.181824\n",
      "\u001b[1;30;32m CORRECT\n",
      "\n",
      "\u001b[0;30;30m --------------------------\n",
      "\n",
      "Truth\n"
     ]
    },
    {
     "data": {
      "text/plain": [
       "id       1256\n",
       "miner       1\n",
       "rust        0\n",
       "phoma       0\n",
       "Name: 292, dtype: int64"
      ]
     },
     "metadata": {},
     "output_type": "display_data"
    },
    {
     "name": "stdout",
     "output_type": "stream",
     "text": [
      "Prediction 1 0 0\n",
      "Prediction -31.289816 -14.158384 -25.614927\n",
      "\u001b[1;30;32m CORRECT\n",
      "\n",
      "\u001b[0;30;30m --------------------------\n",
      "\n",
      "Truth\n"
     ]
    },
    {
     "data": {
      "text/plain": [
       "id       1257\n",
       "miner       1\n",
       "rust        0\n",
       "phoma       0\n",
       "Name: 293, dtype: int64"
      ]
     },
     "metadata": {},
     "output_type": "display_data"
    },
    {
     "name": "stdout",
     "output_type": "stream",
     "text": [
      "Prediction 1 0 0\n",
      "Prediction -27.808249 -11.140693 -27.468931\n",
      "\u001b[1;30;32m CORRECT\n",
      "\n",
      "\u001b[0;30;30m --------------------------\n",
      "\n",
      "Truth\n"
     ]
    },
    {
     "data": {
      "text/plain": [
       "id       1258\n",
       "miner       1\n",
       "rust        0\n",
       "phoma       0\n",
       "Name: 294, dtype: int64"
      ]
     },
     "metadata": {},
     "output_type": "display_data"
    },
    {
     "name": "stdout",
     "output_type": "stream",
     "text": [
      "Prediction 1 0 0\n",
      "Prediction -29.199486 -16.108082 -26.91788\n",
      "\u001b[1;30;32m CORRECT\n",
      "\n",
      "\u001b[0;30;30m --------------------------\n",
      "\n",
      "Truth\n"
     ]
    },
    {
     "data": {
      "text/plain": [
       "id       1259\n",
       "miner       1\n",
       "rust        0\n",
       "phoma       0\n",
       "Name: 295, dtype: int64"
      ]
     },
     "metadata": {},
     "output_type": "display_data"
    },
    {
     "name": "stdout",
     "output_type": "stream",
     "text": [
      "Prediction 1 0 0\n",
      "Prediction -26.870443 -12.331538 -26.837797\n",
      "\u001b[1;30;32m CORRECT\n",
      "\n",
      "\u001b[0;30;30m --------------------------\n",
      "\n",
      "Truth\n"
     ]
    },
    {
     "data": {
      "text/plain": [
       "id       1260\n",
       "miner       1\n",
       "rust        0\n",
       "phoma       0\n",
       "Name: 296, dtype: int64"
      ]
     },
     "metadata": {},
     "output_type": "display_data"
    },
    {
     "name": "stdout",
     "output_type": "stream",
     "text": [
      "Prediction 0 0 0\n",
      "Prediction 0.9187747 -16.284771 -12.061535\n",
      "\u001b[1;30;31m WRONG\n",
      "\n",
      "\u001b[0;30;30m --------------------------\n",
      "\n",
      "Truth\n"
     ]
    },
    {
     "data": {
      "text/plain": [
       "id       1261\n",
       "miner       1\n",
       "rust        0\n",
       "phoma       0\n",
       "Name: 297, dtype: int64"
      ]
     },
     "metadata": {},
     "output_type": "display_data"
    },
    {
     "name": "stdout",
     "output_type": "stream",
     "text": [
      "Prediction 0 0 0\n",
      "Prediction 4.6099353 -14.870918 -13.607376\n",
      "\u001b[1;30;31m WRONG\n",
      "\n",
      "\u001b[0;30;30m --------------------------\n",
      "\n",
      "Truth\n"
     ]
    },
    {
     "data": {
      "text/plain": [
       "id       1262\n",
       "miner       1\n",
       "rust        0\n",
       "phoma       0\n",
       "Name: 298, dtype: int64"
      ]
     },
     "metadata": {},
     "output_type": "display_data"
    },
    {
     "name": "stdout",
     "output_type": "stream",
     "text": [
      "Prediction 1 0 0\n",
      "Prediction -1.8297033 -16.741913 -13.675278\n",
      "\u001b[1;30;32m CORRECT\n",
      "\n",
      "\u001b[0;30;30m --------------------------\n",
      "\n",
      "Truth\n"
     ]
    },
    {
     "data": {
      "text/plain": [
       "id       1263\n",
       "miner       1\n",
       "rust        0\n",
       "phoma       0\n",
       "Name: 299, dtype: int64"
      ]
     },
     "metadata": {},
     "output_type": "display_data"
    },
    {
     "name": "stdout",
     "output_type": "stream",
     "text": [
      "Prediction 0 0 0\n",
      "Prediction 0.11587106 -14.484009 -15.669176\n",
      "\u001b[1;30;31m WRONG\n",
      "\n",
      "\u001b[0;30;30m --------------------------\n",
      "\n",
      "Truth\n"
     ]
    },
    {
     "data": {
      "text/plain": [
       "id       1264\n",
       "miner       1\n",
       "rust        0\n",
       "phoma       0\n",
       "Name: 300, dtype: int64"
      ]
     },
     "metadata": {},
     "output_type": "display_data"
    },
    {
     "name": "stdout",
     "output_type": "stream",
     "text": [
      "Prediction 1 0 0\n",
      "Prediction -33.907227 -15.581027 -27.259884\n",
      "\u001b[1;30;32m CORRECT\n",
      "\n",
      "\u001b[0;30;30m --------------------------\n",
      "\n",
      "Truth\n"
     ]
    },
    {
     "data": {
      "text/plain": [
       "id       1265\n",
       "miner       1\n",
       "rust        0\n",
       "phoma       0\n",
       "Name: 301, dtype: int64"
      ]
     },
     "metadata": {},
     "output_type": "display_data"
    },
    {
     "name": "stdout",
     "output_type": "stream",
     "text": [
      "Prediction 1 0 0\n",
      "Prediction -32.392357 -15.135262 -29.577265\n",
      "\u001b[1;30;32m CORRECT\n",
      "\n",
      "\u001b[0;30;30m --------------------------\n",
      "\n",
      "Truth\n"
     ]
    },
    {
     "data": {
      "text/plain": [
       "id       1266\n",
       "miner       1\n",
       "rust        0\n",
       "phoma       0\n",
       "Name: 302, dtype: int64"
      ]
     },
     "metadata": {},
     "output_type": "display_data"
    },
    {
     "name": "stdout",
     "output_type": "stream",
     "text": [
      "Prediction 1 0 0\n",
      "Prediction -31.99536 -15.727847 -25.927134\n",
      "\u001b[1;30;32m CORRECT\n",
      "\n",
      "\u001b[0;30;30m --------------------------\n",
      "\n",
      "Truth\n"
     ]
    },
    {
     "data": {
      "text/plain": [
       "id       1267\n",
       "miner       1\n",
       "rust        0\n",
       "phoma       0\n",
       "Name: 303, dtype: int64"
      ]
     },
     "metadata": {},
     "output_type": "display_data"
    },
    {
     "name": "stdout",
     "output_type": "stream",
     "text": [
      "Prediction 1 0 0\n",
      "Prediction -30.612047 -16.155743 -29.981764\n",
      "\u001b[1;30;32m CORRECT\n",
      "\n",
      "\u001b[0;30;30m --------------------------\n",
      "\n",
      "Truth\n"
     ]
    },
    {
     "data": {
      "text/plain": [
       "id       1268\n",
       "miner       1\n",
       "rust        0\n",
       "phoma       0\n",
       "Name: 304, dtype: int64"
      ]
     },
     "metadata": {},
     "output_type": "display_data"
    },
    {
     "name": "stdout",
     "output_type": "stream",
     "text": [
      "Prediction 1 0 0\n",
      "Prediction -28.23647 -15.925454 -25.73572\n",
      "\u001b[1;30;32m CORRECT\n",
      "\n",
      "\u001b[0;30;30m --------------------------\n",
      "\n",
      "Truth\n"
     ]
    },
    {
     "data": {
      "text/plain": [
       "id       1269\n",
       "miner       1\n",
       "rust        0\n",
       "phoma       0\n",
       "Name: 305, dtype: int64"
      ]
     },
     "metadata": {},
     "output_type": "display_data"
    },
    {
     "name": "stdout",
     "output_type": "stream",
     "text": [
      "Prediction 1 0 0\n",
      "Prediction -27.783686 -14.741923 -23.14826\n",
      "\u001b[1;30;32m CORRECT\n",
      "\n",
      "\u001b[0;30;30m --------------------------\n",
      "\n",
      "Truth\n"
     ]
    },
    {
     "data": {
      "text/plain": [
       "id       1270\n",
       "miner       1\n",
       "rust        0\n",
       "phoma       0\n",
       "Name: 306, dtype: int64"
      ]
     },
     "metadata": {},
     "output_type": "display_data"
    },
    {
     "name": "stdout",
     "output_type": "stream",
     "text": [
      "Prediction 1 0 0\n",
      "Prediction -19.596968 -16.35943 -25.130968\n",
      "\u001b[1;30;32m CORRECT\n",
      "\n",
      "\u001b[0;30;30m --------------------------\n",
      "\n",
      "Truth\n"
     ]
    },
    {
     "data": {
      "text/plain": [
       "id       1271\n",
       "miner       1\n",
       "rust        0\n",
       "phoma       0\n",
       "Name: 307, dtype: int64"
      ]
     },
     "metadata": {},
     "output_type": "display_data"
    },
    {
     "name": "stdout",
     "output_type": "stream",
     "text": [
      "Prediction 1 0 0\n",
      "Prediction -28.473436 -16.29003 -24.817976\n",
      "\u001b[1;30;32m CORRECT\n",
      "\n",
      "\u001b[0;30;30m --------------------------\n",
      "\n",
      "Truth\n"
     ]
    },
    {
     "data": {
      "text/plain": [
       "id       1272\n",
       "miner       1\n",
       "rust        0\n",
       "phoma       0\n",
       "Name: 308, dtype: int64"
      ]
     },
     "metadata": {},
     "output_type": "display_data"
    },
    {
     "name": "stdout",
     "output_type": "stream",
     "text": [
      "Prediction 1 0 0\n",
      "Prediction -49.89458 -20.328903 -13.707649\n",
      "\u001b[1;30;32m CORRECT\n",
      "\n",
      "\u001b[0;30;30m --------------------------\n",
      "\n",
      "Truth\n"
     ]
    },
    {
     "data": {
      "text/plain": [
       "id       1273\n",
       "miner       1\n",
       "rust        0\n",
       "phoma       0\n",
       "Name: 309, dtype: int64"
      ]
     },
     "metadata": {},
     "output_type": "display_data"
    },
    {
     "name": "stdout",
     "output_type": "stream",
     "text": [
      "Prediction 1 0 0\n",
      "Prediction -50.159863 -22.057312 -14.927902\n",
      "\u001b[1;30;32m CORRECT\n",
      "\n",
      "\u001b[0;30;30m --------------------------\n",
      "\n",
      "Truth\n"
     ]
    },
    {
     "data": {
      "text/plain": [
       "id       1274\n",
       "miner       1\n",
       "rust        0\n",
       "phoma       0\n",
       "Name: 310, dtype: int64"
      ]
     },
     "metadata": {},
     "output_type": "display_data"
    },
    {
     "name": "stdout",
     "output_type": "stream",
     "text": [
      "Prediction 1 0 0\n",
      "Prediction -53.266388 -19.542847 -15.018164\n",
      "\u001b[1;30;32m CORRECT\n",
      "\n",
      "\u001b[0;30;30m --------------------------\n",
      "\n",
      "Truth\n"
     ]
    },
    {
     "data": {
      "text/plain": [
       "id       1275\n",
       "miner       1\n",
       "rust        0\n",
       "phoma       0\n",
       "Name: 311, dtype: int64"
      ]
     },
     "metadata": {},
     "output_type": "display_data"
    },
    {
     "name": "stdout",
     "output_type": "stream",
     "text": [
      "Prediction 1 0 0\n",
      "Prediction -42.974716 -22.719776 -16.754475\n",
      "\u001b[1;30;32m CORRECT\n",
      "\n",
      "\u001b[0;30;30m --------------------------\n",
      "\n",
      "Truth\n"
     ]
    },
    {
     "data": {
      "text/plain": [
       "id       1276\n",
       "miner       1\n",
       "rust        0\n",
       "phoma       0\n",
       "Name: 312, dtype: int64"
      ]
     },
     "metadata": {},
     "output_type": "display_data"
    },
    {
     "name": "stdout",
     "output_type": "stream",
     "text": [
      "Prediction 1 0 0\n",
      "Prediction -22.358864 -16.846828 -24.897985\n",
      "\u001b[1;30;32m CORRECT\n",
      "\n",
      "\u001b[0;30;30m --------------------------\n",
      "\n",
      "Truth\n"
     ]
    },
    {
     "data": {
      "text/plain": [
       "id       1277\n",
       "miner       1\n",
       "rust        0\n",
       "phoma       0\n",
       "Name: 313, dtype: int64"
      ]
     },
     "metadata": {},
     "output_type": "display_data"
    },
    {
     "name": "stdout",
     "output_type": "stream",
     "text": [
      "Prediction 1 0 0\n",
      "Prediction -31.652645 -18.396091 -26.941616\n",
      "\u001b[1;30;32m CORRECT\n",
      "\n",
      "\u001b[0;30;30m --------------------------\n",
      "\n",
      "Truth\n"
     ]
    },
    {
     "data": {
      "text/plain": [
       "id       1278\n",
       "miner       1\n",
       "rust        0\n",
       "phoma       0\n",
       "Name: 314, dtype: int64"
      ]
     },
     "metadata": {},
     "output_type": "display_data"
    },
    {
     "name": "stdout",
     "output_type": "stream",
     "text": [
      "Prediction 1 0 0\n",
      "Prediction -28.179565 -17.004805 -26.922316\n",
      "\u001b[1;30;32m CORRECT\n",
      "\n",
      "\u001b[0;30;30m --------------------------\n",
      "\n",
      "Truth\n"
     ]
    },
    {
     "data": {
      "text/plain": [
       "id       1279\n",
       "miner       1\n",
       "rust        0\n",
       "phoma       0\n",
       "Name: 315, dtype: int64"
      ]
     },
     "metadata": {},
     "output_type": "display_data"
    },
    {
     "name": "stdout",
     "output_type": "stream",
     "text": [
      "Prediction 1 0 0\n",
      "Prediction -37.587307 -19.210953 -25.993261\n",
      "\u001b[1;30;32m CORRECT\n",
      "\n",
      "\u001b[0;30;30m --------------------------\n",
      "\n",
      "Truth\n"
     ]
    },
    {
     "data": {
      "text/plain": [
       "id       1280\n",
       "miner       1\n",
       "rust        1\n",
       "phoma       0\n",
       "Name: 316, dtype: int64"
      ]
     },
     "metadata": {},
     "output_type": "display_data"
    },
    {
     "name": "stdout",
     "output_type": "stream",
     "text": [
      "Prediction 1 1 0\n",
      "Prediction -3.4198966 73.53753 -23.404367\n",
      "\u001b[1;30;32m CORRECT\n",
      "\n",
      "\u001b[0;30;30m --------------------------\n",
      "\n",
      "Truth\n"
     ]
    },
    {
     "data": {
      "text/plain": [
       "id       1281\n",
       "miner       1\n",
       "rust        1\n",
       "phoma       0\n",
       "Name: 317, dtype: int64"
      ]
     },
     "metadata": {},
     "output_type": "display_data"
    },
    {
     "name": "stdout",
     "output_type": "stream",
     "text": [
      "Prediction 1 1 0\n",
      "Prediction -5.8488045 64.6562 -24.96587\n",
      "\u001b[1;30;32m CORRECT\n",
      "\n",
      "\u001b[0;30;30m --------------------------\n",
      "\n",
      "Truth\n"
     ]
    },
    {
     "data": {
      "text/plain": [
       "id       1282\n",
       "miner       1\n",
       "rust        1\n",
       "phoma       0\n",
       "Name: 318, dtype: int64"
      ]
     },
     "metadata": {},
     "output_type": "display_data"
    },
    {
     "name": "stdout",
     "output_type": "stream",
     "text": [
      "Prediction 1 1 0\n",
      "Prediction -7.9426036 67.73806 -24.347467\n",
      "\u001b[1;30;32m CORRECT\n",
      "\n",
      "\u001b[0;30;30m --------------------------\n",
      "\n",
      "Truth\n"
     ]
    },
    {
     "data": {
      "text/plain": [
       "id       1283\n",
       "miner       1\n",
       "rust        1\n",
       "phoma       0\n",
       "Name: 319, dtype: int64"
      ]
     },
     "metadata": {},
     "output_type": "display_data"
    },
    {
     "name": "stdout",
     "output_type": "stream",
     "text": [
      "Prediction 1 1 0\n",
      "Prediction -3.1823986 63.07753 -23.495024\n",
      "\u001b[1;30;32m CORRECT\n",
      "\n",
      "\u001b[0;30;30m --------------------------\n",
      "\n",
      "Truth\n"
     ]
    },
    {
     "data": {
      "text/plain": [
       "id       1284\n",
       "miner       1\n",
       "rust        0\n",
       "phoma       0\n",
       "Name: 320, dtype: int64"
      ]
     },
     "metadata": {},
     "output_type": "display_data"
    },
    {
     "name": "stdout",
     "output_type": "stream",
     "text": [
      "Prediction 1 0 0\n",
      "Prediction -18.167328 -13.980759 -16.340828\n",
      "\u001b[1;30;32m CORRECT\n",
      "\n",
      "\u001b[0;30;30m --------------------------\n",
      "\n",
      "Truth\n"
     ]
    },
    {
     "data": {
      "text/plain": [
       "id       1285\n",
       "miner       1\n",
       "rust        0\n",
       "phoma       0\n",
       "Name: 321, dtype: int64"
      ]
     },
     "metadata": {},
     "output_type": "display_data"
    },
    {
     "name": "stdout",
     "output_type": "stream",
     "text": [
      "Prediction 1 0 0\n",
      "Prediction -22.337187 -15.1565 -19.120564\n",
      "\u001b[1;30;32m CORRECT\n",
      "\n",
      "\u001b[0;30;30m --------------------------\n",
      "\n",
      "Truth\n"
     ]
    },
    {
     "data": {
      "text/plain": [
       "id       1286\n",
       "miner       1\n",
       "rust        0\n",
       "phoma       0\n",
       "Name: 322, dtype: int64"
      ]
     },
     "metadata": {},
     "output_type": "display_data"
    },
    {
     "name": "stdout",
     "output_type": "stream",
     "text": [
      "Prediction 1 0 0\n",
      "Prediction -17.032957 -15.332416 -16.297491\n",
      "\u001b[1;30;32m CORRECT\n",
      "\n",
      "\u001b[0;30;30m --------------------------\n",
      "\n",
      "Truth\n"
     ]
    },
    {
     "data": {
      "text/plain": [
       "id       1287\n",
       "miner       1\n",
       "rust        0\n",
       "phoma       0\n",
       "Name: 323, dtype: int64"
      ]
     },
     "metadata": {},
     "output_type": "display_data"
    },
    {
     "name": "stdout",
     "output_type": "stream",
     "text": [
      "Prediction 1 0 0\n",
      "Prediction -17.68877 -15.006778 -21.601103\n",
      "\u001b[1;30;32m CORRECT\n",
      "\n",
      "\u001b[0;30;30m --------------------------\n",
      "\n",
      "Truth\n"
     ]
    },
    {
     "data": {
      "text/plain": [
       "id       1288\n",
       "miner       0\n",
       "rust        0\n",
       "phoma       0\n",
       "Name: 324, dtype: int64"
      ]
     },
     "metadata": {},
     "output_type": "display_data"
    },
    {
     "name": "stdout",
     "output_type": "stream",
     "text": [
      "Prediction 0 0 0\n",
      "Prediction 11.193597 -11.598166 -10.6333275\n",
      "\u001b[1;30;32m CORRECT\n",
      "\n",
      "\u001b[0;30;30m --------------------------\n",
      "\n",
      "Truth\n"
     ]
    },
    {
     "data": {
      "text/plain": [
       "id       1289\n",
       "miner       0\n",
       "rust        0\n",
       "phoma       0\n",
       "Name: 325, dtype: int64"
      ]
     },
     "metadata": {},
     "output_type": "display_data"
    },
    {
     "name": "stdout",
     "output_type": "stream",
     "text": [
      "Prediction 0 0 0\n",
      "Prediction 11.235353 -11.889534 -13.230191\n",
      "\u001b[1;30;32m CORRECT\n",
      "\n",
      "\u001b[0;30;30m --------------------------\n",
      "\n",
      "Truth\n"
     ]
    },
    {
     "data": {
      "text/plain": [
       "id       1290\n",
       "miner       0\n",
       "rust        0\n",
       "phoma       0\n",
       "Name: 326, dtype: int64"
      ]
     },
     "metadata": {},
     "output_type": "display_data"
    },
    {
     "name": "stdout",
     "output_type": "stream",
     "text": [
      "Prediction 0 0 0\n",
      "Prediction 10.985458 -11.89246 -10.983997\n",
      "\u001b[1;30;32m CORRECT\n",
      "\n",
      "\u001b[0;30;30m --------------------------\n",
      "\n",
      "Truth\n"
     ]
    },
    {
     "data": {
      "text/plain": [
       "id       1291\n",
       "miner       0\n",
       "rust        0\n",
       "phoma       0\n",
       "Name: 327, dtype: int64"
      ]
     },
     "metadata": {},
     "output_type": "display_data"
    },
    {
     "name": "stdout",
     "output_type": "stream",
     "text": [
      "Prediction 0 0 0\n",
      "Prediction 11.156163 -11.321889 -11.056029\n",
      "\u001b[1;30;32m CORRECT\n",
      "\n",
      "\u001b[0;30;30m --------------------------\n",
      "\n",
      "Truth\n"
     ]
    },
    {
     "data": {
      "text/plain": [
       "id       1292\n",
       "miner       1\n",
       "rust        0\n",
       "phoma       0\n",
       "Name: 328, dtype: int64"
      ]
     },
     "metadata": {},
     "output_type": "display_data"
    },
    {
     "name": "stdout",
     "output_type": "stream",
     "text": [
      "Prediction 1 0 0\n",
      "Prediction -27.777533 -17.74733 -35.206245\n",
      "\u001b[1;30;32m CORRECT\n",
      "\n",
      "\u001b[0;30;30m --------------------------\n",
      "\n",
      "Truth\n"
     ]
    },
    {
     "data": {
      "text/plain": [
       "id       1293\n",
       "miner       1\n",
       "rust        0\n",
       "phoma       0\n",
       "Name: 329, dtype: int64"
      ]
     },
     "metadata": {},
     "output_type": "display_data"
    },
    {
     "name": "stdout",
     "output_type": "stream",
     "text": [
      "Prediction 1 0 0\n",
      "Prediction -27.058008 -17.70468 -31.620975\n",
      "\u001b[1;30;32m CORRECT\n",
      "\n",
      "\u001b[0;30;30m --------------------------\n",
      "\n",
      "Truth\n"
     ]
    },
    {
     "data": {
      "text/plain": [
       "id       1294\n",
       "miner       1\n",
       "rust        0\n",
       "phoma       0\n",
       "Name: 330, dtype: int64"
      ]
     },
     "metadata": {},
     "output_type": "display_data"
    },
    {
     "name": "stdout",
     "output_type": "stream",
     "text": [
      "Prediction 1 0 0\n",
      "Prediction -27.96213 -18.585562 -35.38505\n",
      "\u001b[1;30;32m CORRECT\n",
      "\n",
      "\u001b[0;30;30m --------------------------\n",
      "\n",
      "Truth\n"
     ]
    },
    {
     "data": {
      "text/plain": [
       "id       1295\n",
       "miner       1\n",
       "rust        0\n",
       "phoma       0\n",
       "Name: 331, dtype: int64"
      ]
     },
     "metadata": {},
     "output_type": "display_data"
    },
    {
     "name": "stdout",
     "output_type": "stream",
     "text": [
      "Prediction 1 0 0\n",
      "Prediction -22.749249 -19.37915 -28.791655\n",
      "\u001b[1;30;32m CORRECT\n",
      "\n",
      "\u001b[0;30;30m --------------------------\n",
      "\n",
      "Truth\n"
     ]
    },
    {
     "data": {
      "text/plain": [
       "id       1296\n",
       "miner       0\n",
       "rust        0\n",
       "phoma       0\n",
       "Name: 332, dtype: int64"
      ]
     },
     "metadata": {},
     "output_type": "display_data"
    },
    {
     "name": "stdout",
     "output_type": "stream",
     "text": [
      "Prediction 0 0 0\n",
      "Prediction 11.341517 -13.427656 -28.695328\n",
      "\u001b[1;30;32m CORRECT\n",
      "\n",
      "\u001b[0;30;30m --------------------------\n",
      "\n",
      "Truth\n"
     ]
    },
    {
     "data": {
      "text/plain": [
       "id       1297\n",
       "miner       0\n",
       "rust        0\n",
       "phoma       0\n",
       "Name: 333, dtype: int64"
      ]
     },
     "metadata": {},
     "output_type": "display_data"
    },
    {
     "name": "stdout",
     "output_type": "stream",
     "text": [
      "Prediction 0 0 0\n",
      "Prediction 11.018947 -11.954201 -27.391552\n",
      "\u001b[1;30;32m CORRECT\n",
      "\n",
      "\u001b[0;30;30m --------------------------\n",
      "\n",
      "Truth\n"
     ]
    },
    {
     "data": {
      "text/plain": [
       "id       1298\n",
       "miner       0\n",
       "rust        0\n",
       "phoma       0\n",
       "Name: 334, dtype: int64"
      ]
     },
     "metadata": {},
     "output_type": "display_data"
    },
    {
     "name": "stdout",
     "output_type": "stream",
     "text": [
      "Prediction 0 0 0\n",
      "Prediction 12.116876 -13.043646 -27.103157\n",
      "\u001b[1;30;32m CORRECT\n",
      "\n",
      "\u001b[0;30;30m --------------------------\n",
      "\n",
      "Truth\n"
     ]
    },
    {
     "data": {
      "text/plain": [
       "id       1299\n",
       "miner       0\n",
       "rust        0\n",
       "phoma       0\n",
       "Name: 335, dtype: int64"
      ]
     },
     "metadata": {},
     "output_type": "display_data"
    },
    {
     "name": "stdout",
     "output_type": "stream",
     "text": [
      "Prediction 0 0 0\n",
      "Prediction 11.340618 -13.468489 -27.660263\n",
      "\u001b[1;30;32m CORRECT\n",
      "\n",
      "\u001b[0;30;30m --------------------------\n",
      "\n",
      "Truth\n"
     ]
    },
    {
     "data": {
      "text/plain": [
       "id       1600\n",
       "miner       0\n",
       "rust        1\n",
       "phoma       0\n",
       "Name: 336, dtype: int64"
      ]
     },
     "metadata": {},
     "output_type": "display_data"
    },
    {
     "name": "stdout",
     "output_type": "stream",
     "text": [
      "Prediction 0 1 0\n",
      "Prediction 10.256856 100.198875 -43.761837\n",
      "\u001b[1;30;32m CORRECT\n",
      "\n",
      "\u001b[0;30;30m --------------------------\n",
      "\n",
      "Truth\n"
     ]
    },
    {
     "data": {
      "text/plain": [
       "id       1601\n",
       "miner       0\n",
       "rust        1\n",
       "phoma       0\n",
       "Name: 337, dtype: int64"
      ]
     },
     "metadata": {},
     "output_type": "display_data"
    },
    {
     "name": "stdout",
     "output_type": "stream",
     "text": [
      "Prediction 0 1 0\n",
      "Prediction 9.590237 100.549194 -42.361286\n",
      "\u001b[1;30;32m CORRECT\n",
      "\n",
      "\u001b[0;30;30m --------------------------\n",
      "\n",
      "Truth\n"
     ]
    },
    {
     "data": {
      "text/plain": [
       "id       1602\n",
       "miner       0\n",
       "rust        1\n",
       "phoma       0\n",
       "Name: 338, dtype: int64"
      ]
     },
     "metadata": {},
     "output_type": "display_data"
    },
    {
     "name": "stdout",
     "output_type": "stream",
     "text": [
      "Prediction 0 1 0\n",
      "Prediction 10.81983 101.177986 -43.300747\n",
      "\u001b[1;30;32m CORRECT\n",
      "\n",
      "\u001b[0;30;30m --------------------------\n",
      "\n",
      "Truth\n"
     ]
    },
    {
     "data": {
      "text/plain": [
       "id       1603\n",
       "miner       0\n",
       "rust        1\n",
       "phoma       0\n",
       "Name: 339, dtype: int64"
      ]
     },
     "metadata": {},
     "output_type": "display_data"
    },
    {
     "name": "stdout",
     "output_type": "stream",
     "text": [
      "Prediction 0 1 0\n",
      "Prediction 9.775641 93.81587 -41.680344\n",
      "\u001b[1;30;32m CORRECT\n",
      "\n",
      "\u001b[0;30;30m --------------------------\n",
      "\n",
      "Truth\n"
     ]
    },
    {
     "data": {
      "text/plain": [
       "id       1604\n",
       "miner       0\n",
       "rust        1\n",
       "phoma       0\n",
       "Name: 340, dtype: int64"
      ]
     },
     "metadata": {},
     "output_type": "display_data"
    },
    {
     "name": "stdout",
     "output_type": "stream",
     "text": [
      "Prediction 0 1 0\n",
      "Prediction 10.402164 16.480438 -31.069864\n",
      "\u001b[1;30;32m CORRECT\n",
      "\n",
      "\u001b[0;30;30m --------------------------\n",
      "\n",
      "Truth\n"
     ]
    },
    {
     "data": {
      "text/plain": [
       "id       1605\n",
       "miner       0\n",
       "rust        1\n",
       "phoma       0\n",
       "Name: 341, dtype: int64"
      ]
     },
     "metadata": {},
     "output_type": "display_data"
    },
    {
     "name": "stdout",
     "output_type": "stream",
     "text": [
      "Prediction 0 1 0\n",
      "Prediction 10.337845 17.383873 -28.722937\n",
      "\u001b[1;30;32m CORRECT\n",
      "\n",
      "\u001b[0;30;30m --------------------------\n",
      "\n",
      "Truth\n"
     ]
    },
    {
     "data": {
      "text/plain": [
       "id       1606\n",
       "miner       0\n",
       "rust        1\n",
       "phoma       0\n",
       "Name: 342, dtype: int64"
      ]
     },
     "metadata": {},
     "output_type": "display_data"
    },
    {
     "name": "stdout",
     "output_type": "stream",
     "text": [
      "Prediction 0 1 0\n",
      "Prediction 9.911729 7.7297664 -31.985489\n",
      "\u001b[1;30;32m CORRECT\n",
      "\n",
      "\u001b[0;30;30m --------------------------\n",
      "\n",
      "Truth\n"
     ]
    },
    {
     "data": {
      "text/plain": [
       "id       1607\n",
       "miner       0\n",
       "rust        1\n",
       "phoma       0\n",
       "Name: 343, dtype: int64"
      ]
     },
     "metadata": {},
     "output_type": "display_data"
    },
    {
     "name": "stdout",
     "output_type": "stream",
     "text": [
      "Prediction 0 1 0\n",
      "Prediction 9.6478195 7.4818187 -29.471025\n",
      "\u001b[1;30;32m CORRECT\n",
      "\n",
      "\u001b[0;30;30m --------------------------\n",
      "\n",
      "Truth\n"
     ]
    },
    {
     "data": {
      "text/plain": [
       "id       1608\n",
       "miner       0\n",
       "rust        1\n",
       "phoma       0\n",
       "Name: 344, dtype: int64"
      ]
     },
     "metadata": {},
     "output_type": "display_data"
    },
    {
     "name": "stdout",
     "output_type": "stream",
     "text": [
      "Prediction 0 1 0\n",
      "Prediction 10.06246 40.5975 -38.2802\n",
      "\u001b[1;30;32m CORRECT\n",
      "\n",
      "\u001b[0;30;30m --------------------------\n",
      "\n",
      "Truth\n"
     ]
    },
    {
     "data": {
      "text/plain": [
       "id       1609\n",
       "miner       0\n",
       "rust        1\n",
       "phoma       0\n",
       "Name: 345, dtype: int64"
      ]
     },
     "metadata": {},
     "output_type": "display_data"
    },
    {
     "name": "stdout",
     "output_type": "stream",
     "text": [
      "Prediction 0 1 0\n",
      "Prediction 10.070213 40.299133 -37.02806\n",
      "\u001b[1;30;32m CORRECT\n",
      "\n",
      "\u001b[0;30;30m --------------------------\n",
      "\n",
      "Truth\n"
     ]
    },
    {
     "data": {
      "text/plain": [
       "id       1610\n",
       "miner       0\n",
       "rust        1\n",
       "phoma       0\n",
       "Name: 346, dtype: int64"
      ]
     },
     "metadata": {},
     "output_type": "display_data"
    },
    {
     "name": "stdout",
     "output_type": "stream",
     "text": [
      "Prediction 0 1 0\n",
      "Prediction 10.415432 52.907948 -37.37712\n",
      "\u001b[1;30;32m CORRECT\n",
      "\n",
      "\u001b[0;30;30m --------------------------\n",
      "\n",
      "Truth\n"
     ]
    },
    {
     "data": {
      "text/plain": [
       "id       1611\n",
       "miner       0\n",
       "rust        1\n",
       "phoma       0\n",
       "Name: 347, dtype: int64"
      ]
     },
     "metadata": {},
     "output_type": "display_data"
    },
    {
     "name": "stdout",
     "output_type": "stream",
     "text": [
      "Prediction 0 1 0\n",
      "Prediction 10.461749 48.060776 -37.117085\n",
      "\u001b[1;30;32m CORRECT\n",
      "\n",
      "\u001b[0;30;30m --------------------------\n",
      "\n",
      "Truth\n"
     ]
    },
    {
     "data": {
      "text/plain": [
       "id       1612\n",
       "miner       0\n",
       "rust        1\n",
       "phoma       0\n",
       "Name: 348, dtype: int64"
      ]
     },
     "metadata": {},
     "output_type": "display_data"
    },
    {
     "name": "stdout",
     "output_type": "stream",
     "text": [
      "Prediction 0 1 0\n",
      "Prediction 10.961289 29.826828 -36.19136\n",
      "\u001b[1;30;32m CORRECT\n",
      "\n",
      "\u001b[0;30;30m --------------------------\n",
      "\n",
      "Truth\n"
     ]
    },
    {
     "data": {
      "text/plain": [
       "id       1613\n",
       "miner       0\n",
       "rust        1\n",
       "phoma       0\n",
       "Name: 349, dtype: int64"
      ]
     },
     "metadata": {},
     "output_type": "display_data"
    },
    {
     "name": "stdout",
     "output_type": "stream",
     "text": [
      "Prediction 0 1 0\n",
      "Prediction 10.554165 27.446281 -33.541172\n",
      "\u001b[1;30;32m CORRECT\n",
      "\n",
      "\u001b[0;30;30m --------------------------\n",
      "\n",
      "Truth\n"
     ]
    },
    {
     "data": {
      "text/plain": [
       "id       1614\n",
       "miner       0\n",
       "rust        1\n",
       "phoma       0\n",
       "Name: 350, dtype: int64"
      ]
     },
     "metadata": {},
     "output_type": "display_data"
    },
    {
     "name": "stdout",
     "output_type": "stream",
     "text": [
      "Prediction 0 1 0\n",
      "Prediction 11.447229 39.54315 -35.960888\n",
      "\u001b[1;30;32m CORRECT\n",
      "\n",
      "\u001b[0;30;30m --------------------------\n",
      "\n",
      "Truth\n"
     ]
    },
    {
     "data": {
      "text/plain": [
       "id       1615\n",
       "miner       0\n",
       "rust        1\n",
       "phoma       0\n",
       "Name: 351, dtype: int64"
      ]
     },
     "metadata": {},
     "output_type": "display_data"
    },
    {
     "name": "stdout",
     "output_type": "stream",
     "text": [
      "Prediction 0 1 0\n",
      "Prediction 11.172 34.555946 -34.352573\n",
      "\u001b[1;30;32m CORRECT\n",
      "\n",
      "\u001b[0;30;30m --------------------------\n",
      "\n",
      "Truth\n"
     ]
    },
    {
     "data": {
      "text/plain": [
       "id       1616\n",
       "miner       0\n",
       "rust        1\n",
       "phoma       0\n",
       "Name: 352, dtype: int64"
      ]
     },
     "metadata": {},
     "output_type": "display_data"
    },
    {
     "name": "stdout",
     "output_type": "stream",
     "text": [
      "Prediction 0 1 0\n",
      "Prediction 8.139414 19.435541 -32.918278\n",
      "\u001b[1;30;32m CORRECT\n",
      "\n",
      "\u001b[0;30;30m --------------------------\n",
      "\n",
      "Truth\n"
     ]
    },
    {
     "data": {
      "text/plain": [
       "id       1617\n",
       "miner       0\n",
       "rust        1\n",
       "phoma       0\n",
       "Name: 353, dtype: int64"
      ]
     },
     "metadata": {},
     "output_type": "display_data"
    },
    {
     "name": "stdout",
     "output_type": "stream",
     "text": [
      "Prediction 0 1 0\n",
      "Prediction 9.22093 15.284066 -34.06525\n",
      "\u001b[1;30;32m CORRECT\n",
      "\n",
      "\u001b[0;30;30m --------------------------\n",
      "\n",
      "Truth\n"
     ]
    },
    {
     "data": {
      "text/plain": [
       "id       1618\n",
       "miner       0\n",
       "rust        1\n",
       "phoma       0\n",
       "Name: 354, dtype: int64"
      ]
     },
     "metadata": {},
     "output_type": "display_data"
    },
    {
     "name": "stdout",
     "output_type": "stream",
     "text": [
      "Prediction 0 1 0\n",
      "Prediction 8.229055 22.289595 -35.070557\n",
      "\u001b[1;30;32m CORRECT\n",
      "\n",
      "\u001b[0;30;30m --------------------------\n",
      "\n",
      "Truth\n"
     ]
    },
    {
     "data": {
      "text/plain": [
       "id       1619\n",
       "miner       0\n",
       "rust        1\n",
       "phoma       0\n",
       "Name: 355, dtype: int64"
      ]
     },
     "metadata": {},
     "output_type": "display_data"
    },
    {
     "name": "stdout",
     "output_type": "stream",
     "text": [
      "Prediction 0 1 0\n",
      "Prediction 9.166926 27.450447 -36.194847\n",
      "\u001b[1;30;32m CORRECT\n",
      "\n",
      "\u001b[0;30;30m --------------------------\n",
      "\n",
      "Truth\n"
     ]
    },
    {
     "data": {
      "text/plain": [
       "id       1620\n",
       "miner       0\n",
       "rust        1\n",
       "phoma       0\n",
       "Name: 356, dtype: int64"
      ]
     },
     "metadata": {},
     "output_type": "display_data"
    },
    {
     "name": "stdout",
     "output_type": "stream",
     "text": [
      "Prediction 0 1 0\n",
      "Prediction 13.702787 35.77139 -18.770008\n",
      "\u001b[1;30;32m CORRECT\n",
      "\n",
      "\u001b[0;30;30m --------------------------\n",
      "\n",
      "Truth\n"
     ]
    },
    {
     "data": {
      "text/plain": [
       "id       1621\n",
       "miner       0\n",
       "rust        1\n",
       "phoma       0\n",
       "Name: 357, dtype: int64"
      ]
     },
     "metadata": {},
     "output_type": "display_data"
    },
    {
     "name": "stdout",
     "output_type": "stream",
     "text": [
      "Prediction 0 1 0\n",
      "Prediction 13.01416 33.173946 -17.885988\n",
      "\u001b[1;30;32m CORRECT\n",
      "\n",
      "\u001b[0;30;30m --------------------------\n",
      "\n",
      "Truth\n"
     ]
    },
    {
     "data": {
      "text/plain": [
       "id       1622\n",
       "miner       0\n",
       "rust        1\n",
       "phoma       0\n",
       "Name: 358, dtype: int64"
      ]
     },
     "metadata": {},
     "output_type": "display_data"
    },
    {
     "name": "stdout",
     "output_type": "stream",
     "text": [
      "Prediction 0 1 0\n",
      "Prediction 13.620921 28.400766 -18.585712\n",
      "\u001b[1;30;32m CORRECT\n",
      "\n",
      "\u001b[0;30;30m --------------------------\n",
      "\n",
      "Truth\n"
     ]
    },
    {
     "data": {
      "text/plain": [
       "id       1623\n",
       "miner       0\n",
       "rust        1\n",
       "phoma       0\n",
       "Name: 359, dtype: int64"
      ]
     },
     "metadata": {},
     "output_type": "display_data"
    },
    {
     "name": "stdout",
     "output_type": "stream",
     "text": [
      "Prediction 0 1 0\n",
      "Prediction 13.2932 28.78085 -19.050646\n",
      "\u001b[1;30;32m CORRECT\n",
      "\n",
      "\u001b[0;30;30m --------------------------\n",
      "\n",
      "Truth\n"
     ]
    },
    {
     "data": {
      "text/plain": [
       "id       1624\n",
       "miner       0\n",
       "rust        0\n",
       "phoma       0\n",
       "Name: 360, dtype: int64"
      ]
     },
     "metadata": {},
     "output_type": "display_data"
    },
    {
     "name": "stdout",
     "output_type": "stream",
     "text": [
      "Prediction 0 0 0\n",
      "Prediction 14.564663 -7.7095942 -12.6234255\n",
      "\u001b[1;30;32m CORRECT\n",
      "\n",
      "\u001b[0;30;30m --------------------------\n",
      "\n",
      "Truth\n"
     ]
    },
    {
     "data": {
      "text/plain": [
       "id       1625\n",
       "miner       0\n",
       "rust        0\n",
       "phoma       0\n",
       "Name: 361, dtype: int64"
      ]
     },
     "metadata": {},
     "output_type": "display_data"
    },
    {
     "name": "stdout",
     "output_type": "stream",
     "text": [
      "Prediction 0 0 0\n",
      "Prediction 14.368937 -7.9725013 -13.935561\n",
      "\u001b[1;30;32m CORRECT\n",
      "\n",
      "\u001b[0;30;30m --------------------------\n",
      "\n",
      "Truth\n"
     ]
    },
    {
     "data": {
      "text/plain": [
       "id       1626\n",
       "miner       0\n",
       "rust        0\n",
       "phoma       0\n",
       "Name: 362, dtype: int64"
      ]
     },
     "metadata": {},
     "output_type": "display_data"
    },
    {
     "name": "stdout",
     "output_type": "stream",
     "text": [
      "Prediction 0 0 0\n",
      "Prediction 14.641325 -8.45081 -13.874554\n",
      "\u001b[1;30;32m CORRECT\n",
      "\n",
      "\u001b[0;30;30m --------------------------\n",
      "\n",
      "Truth\n"
     ]
    },
    {
     "data": {
      "text/plain": [
       "id       1627\n",
       "miner       0\n",
       "rust        0\n",
       "phoma       0\n",
       "Name: 363, dtype: int64"
      ]
     },
     "metadata": {},
     "output_type": "display_data"
    },
    {
     "name": "stdout",
     "output_type": "stream",
     "text": [
      "Prediction 0 0 0\n",
      "Prediction 14.3384905 -8.543514 -14.132842\n",
      "\u001b[1;30;32m CORRECT\n",
      "\n",
      "\u001b[0;30;30m --------------------------\n",
      "\n",
      "Truth\n"
     ]
    },
    {
     "data": {
      "text/plain": [
       "id       1628\n",
       "miner       0\n",
       "rust        0\n",
       "phoma       0\n",
       "Name: 364, dtype: int64"
      ]
     },
     "metadata": {},
     "output_type": "display_data"
    },
    {
     "name": "stdout",
     "output_type": "stream",
     "text": [
      "Prediction 0 0 0\n",
      "Prediction 13.542824 -7.9002094 -8.126398\n",
      "\u001b[1;30;32m CORRECT\n",
      "\n",
      "\u001b[0;30;30m --------------------------\n",
      "\n",
      "Truth\n"
     ]
    },
    {
     "data": {
      "text/plain": [
       "id       1629\n",
       "miner       0\n",
       "rust        0\n",
       "phoma       0\n",
       "Name: 365, dtype: int64"
      ]
     },
     "metadata": {},
     "output_type": "display_data"
    },
    {
     "name": "stdout",
     "output_type": "stream",
     "text": [
      "Prediction 0 0 0\n",
      "Prediction 13.837434 -6.5103874 -8.393101\n",
      "\u001b[1;30;32m CORRECT\n",
      "\n",
      "\u001b[0;30;30m --------------------------\n",
      "\n",
      "Truth\n"
     ]
    },
    {
     "data": {
      "text/plain": [
       "id       1630\n",
       "miner       0\n",
       "rust        0\n",
       "phoma       0\n",
       "Name: 366, dtype: int64"
      ]
     },
     "metadata": {},
     "output_type": "display_data"
    },
    {
     "name": "stdout",
     "output_type": "stream",
     "text": [
      "Prediction 0 0 0\n",
      "Prediction 13.591834 -8.741848 -7.0375037\n",
      "\u001b[1;30;32m CORRECT\n",
      "\n",
      "\u001b[0;30;30m --------------------------\n",
      "\n",
      "Truth\n"
     ]
    },
    {
     "data": {
      "text/plain": [
       "id       1631\n",
       "miner       0\n",
       "rust        0\n",
       "phoma       0\n",
       "Name: 367, dtype: int64"
      ]
     },
     "metadata": {},
     "output_type": "display_data"
    },
    {
     "name": "stdout",
     "output_type": "stream",
     "text": [
      "Prediction 0 0 0\n",
      "Prediction 13.791465 -7.014142 -9.977776\n",
      "\u001b[1;30;32m CORRECT\n",
      "\n",
      "\u001b[0;30;30m --------------------------\n",
      "\n",
      "Truth\n"
     ]
    },
    {
     "data": {
      "text/plain": [
       "id       1632\n",
       "miner       0\n",
       "rust        1\n",
       "phoma       0\n",
       "Name: 368, dtype: int64"
      ]
     },
     "metadata": {},
     "output_type": "display_data"
    },
    {
     "name": "stdout",
     "output_type": "stream",
     "text": [
      "Prediction 0 1 0\n",
      "Prediction 15.6602745 149.7037 -13.79126\n",
      "\u001b[1;30;32m CORRECT\n",
      "\n",
      "\u001b[0;30;30m --------------------------\n",
      "\n",
      "Truth\n"
     ]
    },
    {
     "data": {
      "text/plain": [
       "id       1633\n",
       "miner       0\n",
       "rust        1\n",
       "phoma       0\n",
       "Name: 369, dtype: int64"
      ]
     },
     "metadata": {},
     "output_type": "display_data"
    },
    {
     "name": "stdout",
     "output_type": "stream",
     "text": [
      "Prediction 0 1 0\n",
      "Prediction 16.46521 145.75133 -14.158408\n",
      "\u001b[1;30;32m CORRECT\n",
      "\n",
      "\u001b[0;30;30m --------------------------\n",
      "\n",
      "Truth\n"
     ]
    },
    {
     "data": {
      "text/plain": [
       "id       1634\n",
       "miner       0\n",
       "rust        1\n",
       "phoma       0\n",
       "Name: 370, dtype: int64"
      ]
     },
     "metadata": {},
     "output_type": "display_data"
    },
    {
     "name": "stdout",
     "output_type": "stream",
     "text": [
      "Prediction 0 1 0\n",
      "Prediction 16.13644 153.26163 -14.747645\n",
      "\u001b[1;30;32m CORRECT\n",
      "\n",
      "\u001b[0;30;30m --------------------------\n",
      "\n",
      "Truth\n"
     ]
    },
    {
     "data": {
      "text/plain": [
       "id       1635\n",
       "miner       0\n",
       "rust        1\n",
       "phoma       0\n",
       "Name: 371, dtype: int64"
      ]
     },
     "metadata": {},
     "output_type": "display_data"
    },
    {
     "name": "stdout",
     "output_type": "stream",
     "text": [
      "Prediction 0 1 0\n",
      "Prediction 16.642603 150.2863 -16.258064\n",
      "\u001b[1;30;32m CORRECT\n",
      "\n",
      "\u001b[0;30;30m --------------------------\n",
      "\n",
      "Truth\n"
     ]
    },
    {
     "data": {
      "text/plain": [
       "id       1636\n",
       "miner       0\n",
       "rust        1\n",
       "phoma       0\n",
       "Name: 372, dtype: int64"
      ]
     },
     "metadata": {},
     "output_type": "display_data"
    },
    {
     "name": "stdout",
     "output_type": "stream",
     "text": [
      "Prediction 0 1 0\n",
      "Prediction 15.684165 61.438377 -14.297934\n",
      "\u001b[1;30;32m CORRECT\n",
      "\n",
      "\u001b[0;30;30m --------------------------\n",
      "\n",
      "Truth\n"
     ]
    },
    {
     "data": {
      "text/plain": [
       "id       1637\n",
       "miner       0\n",
       "rust        1\n",
       "phoma       0\n",
       "Name: 373, dtype: int64"
      ]
     },
     "metadata": {},
     "output_type": "display_data"
    },
    {
     "name": "stdout",
     "output_type": "stream",
     "text": [
      "Prediction 0 1 0\n",
      "Prediction 14.870044 53.332516 -14.495837\n",
      "\u001b[1;30;32m CORRECT\n",
      "\n",
      "\u001b[0;30;30m --------------------------\n",
      "\n",
      "Truth\n"
     ]
    },
    {
     "data": {
      "text/plain": [
       "id       1638\n",
       "miner       0\n",
       "rust        1\n",
       "phoma       0\n",
       "Name: 374, dtype: int64"
      ]
     },
     "metadata": {},
     "output_type": "display_data"
    },
    {
     "name": "stdout",
     "output_type": "stream",
     "text": [
      "Prediction 0 1 0\n",
      "Prediction 13.933692 48.193787 -14.653785\n",
      "\u001b[1;30;32m CORRECT\n",
      "\n",
      "\u001b[0;30;30m --------------------------\n",
      "\n",
      "Truth\n"
     ]
    },
    {
     "data": {
      "text/plain": [
       "id       1639\n",
       "miner       0\n",
       "rust        1\n",
       "phoma       0\n",
       "Name: 375, dtype: int64"
      ]
     },
     "metadata": {},
     "output_type": "display_data"
    },
    {
     "name": "stdout",
     "output_type": "stream",
     "text": [
      "Prediction 0 1 0\n",
      "Prediction 14.442287 52.514126 -14.227491\n",
      "\u001b[1;30;32m CORRECT\n",
      "\n",
      "\u001b[0;30;30m --------------------------\n",
      "\n",
      "Truth\n"
     ]
    },
    {
     "data": {
      "text/plain": [
       "id       1640\n",
       "miner       0\n",
       "rust        1\n",
       "phoma       0\n",
       "Name: 376, dtype: int64"
      ]
     },
     "metadata": {},
     "output_type": "display_data"
    },
    {
     "name": "stdout",
     "output_type": "stream",
     "text": [
      "Prediction 0 1 0\n",
      "Prediction 16.652996 116.66779 -26.368643\n",
      "\u001b[1;30;32m CORRECT\n",
      "\n",
      "\u001b[0;30;30m --------------------------\n",
      "\n",
      "Truth\n"
     ]
    },
    {
     "data": {
      "text/plain": [
       "id       1641\n",
       "miner       0\n",
       "rust        1\n",
       "phoma       0\n",
       "Name: 377, dtype: int64"
      ]
     },
     "metadata": {},
     "output_type": "display_data"
    },
    {
     "name": "stdout",
     "output_type": "stream",
     "text": [
      "Prediction 0 1 0\n",
      "Prediction 16.272068 117.730484 -28.73797\n",
      "\u001b[1;30;32m CORRECT\n",
      "\n",
      "\u001b[0;30;30m --------------------------\n",
      "\n",
      "Truth\n"
     ]
    },
    {
     "data": {
      "text/plain": [
       "id       1642\n",
       "miner       0\n",
       "rust        1\n",
       "phoma       0\n",
       "Name: 378, dtype: int64"
      ]
     },
     "metadata": {},
     "output_type": "display_data"
    },
    {
     "name": "stdout",
     "output_type": "stream",
     "text": [
      "Prediction 0 1 0\n",
      "Prediction 15.996624 117.90328 -27.613787\n",
      "\u001b[1;30;32m CORRECT\n",
      "\n",
      "\u001b[0;30;30m --------------------------\n",
      "\n",
      "Truth\n"
     ]
    },
    {
     "data": {
      "text/plain": [
       "id       1643\n",
       "miner       0\n",
       "rust        1\n",
       "phoma       0\n",
       "Name: 379, dtype: int64"
      ]
     },
     "metadata": {},
     "output_type": "display_data"
    },
    {
     "name": "stdout",
     "output_type": "stream",
     "text": [
      "Prediction 0 1 0\n",
      "Prediction 16.311787 121.48288 -27.261393\n",
      "\u001b[1;30;32m CORRECT\n",
      "\n",
      "\u001b[0;30;30m --------------------------\n",
      "\n",
      "Truth\n"
     ]
    },
    {
     "data": {
      "text/plain": [
       "id       1644\n",
       "miner       0\n",
       "rust        1\n",
       "phoma       0\n",
       "Name: 380, dtype: int64"
      ]
     },
     "metadata": {},
     "output_type": "display_data"
    },
    {
     "name": "stdout",
     "output_type": "stream",
     "text": [
      "Prediction 1 1 0\n",
      "Prediction -15.580399 47.852634 -33.87913\n",
      "\u001b[1;30;31m WRONG\n",
      "\n",
      "\u001b[0;30;30m --------------------------\n",
      "\n",
      "Truth\n"
     ]
    },
    {
     "data": {
      "text/plain": [
       "id       1645\n",
       "miner       0\n",
       "rust        1\n",
       "phoma       0\n",
       "Name: 381, dtype: int64"
      ]
     },
     "metadata": {},
     "output_type": "display_data"
    },
    {
     "name": "stdout",
     "output_type": "stream",
     "text": [
      "Prediction 1 1 0\n",
      "Prediction -4.9051657 58.28443 -34.341686\n",
      "\u001b[1;30;31m WRONG\n",
      "\n",
      "\u001b[0;30;30m --------------------------\n",
      "\n",
      "Truth\n"
     ]
    },
    {
     "data": {
      "text/plain": [
       "id       1646\n",
       "miner       0\n",
       "rust        1\n",
       "phoma       0\n",
       "Name: 382, dtype: int64"
      ]
     },
     "metadata": {},
     "output_type": "display_data"
    },
    {
     "name": "stdout",
     "output_type": "stream",
     "text": [
      "Prediction 1 1 0\n",
      "Prediction -5.00801 48.112476 -30.336664\n",
      "\u001b[1;30;31m WRONG\n",
      "\n",
      "\u001b[0;30;30m --------------------------\n",
      "\n",
      "Truth\n"
     ]
    },
    {
     "data": {
      "text/plain": [
       "id       1647\n",
       "miner       0\n",
       "rust        1\n",
       "phoma       0\n",
       "Name: 383, dtype: int64"
      ]
     },
     "metadata": {},
     "output_type": "display_data"
    },
    {
     "name": "stdout",
     "output_type": "stream",
     "text": [
      "Prediction 1 1 0\n",
      "Prediction -3.494903 51.081802 -33.83296\n",
      "\u001b[1;30;31m WRONG\n",
      "\n",
      "\u001b[0;30;30m --------------------------\n",
      "\n",
      "Truth\n"
     ]
    },
    {
     "data": {
      "text/plain": [
       "id       1648\n",
       "miner       0\n",
       "rust        1\n",
       "phoma       0\n",
       "Name: 384, dtype: int64"
      ]
     },
     "metadata": {},
     "output_type": "display_data"
    },
    {
     "name": "stdout",
     "output_type": "stream",
     "text": [
      "Prediction 0 1 0\n",
      "Prediction 9.222503 102.79799 -15.473671\n",
      "\u001b[1;30;32m CORRECT\n",
      "\n",
      "\u001b[0;30;30m --------------------------\n",
      "\n",
      "Truth\n"
     ]
    },
    {
     "data": {
      "text/plain": [
       "id       1649\n",
       "miner       0\n",
       "rust        1\n",
       "phoma       0\n",
       "Name: 385, dtype: int64"
      ]
     },
     "metadata": {},
     "output_type": "display_data"
    },
    {
     "name": "stdout",
     "output_type": "stream",
     "text": [
      "Prediction 0 1 0\n",
      "Prediction 10.930955 102.560135 -14.672094\n",
      "\u001b[1;30;32m CORRECT\n",
      "\n",
      "\u001b[0;30;30m --------------------------\n",
      "\n",
      "Truth\n"
     ]
    },
    {
     "data": {
      "text/plain": [
       "id       1650\n",
       "miner       0\n",
       "rust        1\n",
       "phoma       0\n",
       "Name: 386, dtype: int64"
      ]
     },
     "metadata": {},
     "output_type": "display_data"
    },
    {
     "name": "stdout",
     "output_type": "stream",
     "text": [
      "Prediction 0 1 0\n",
      "Prediction 9.433899 96.62104 -15.787993\n",
      "\u001b[1;30;32m CORRECT\n",
      "\n",
      "\u001b[0;30;30m --------------------------\n",
      "\n",
      "Truth\n"
     ]
    },
    {
     "data": {
      "text/plain": [
       "id       1651\n",
       "miner       0\n",
       "rust        1\n",
       "phoma       0\n",
       "Name: 387, dtype: int64"
      ]
     },
     "metadata": {},
     "output_type": "display_data"
    },
    {
     "name": "stdout",
     "output_type": "stream",
     "text": [
      "Prediction 0 1 0\n",
      "Prediction 10.363263 99.24686 -14.775515\n",
      "\u001b[1;30;32m CORRECT\n",
      "\n",
      "\u001b[0;30;30m --------------------------\n",
      "\n",
      "Truth\n"
     ]
    },
    {
     "data": {
      "text/plain": [
       "id       1652\n",
       "miner       0\n",
       "rust        1\n",
       "phoma       0\n",
       "Name: 388, dtype: int64"
      ]
     },
     "metadata": {},
     "output_type": "display_data"
    },
    {
     "name": "stdout",
     "output_type": "stream",
     "text": [
      "Prediction 0 1 0\n",
      "Prediction 11.640852 53.45964 -37.424103\n",
      "\u001b[1;30;32m CORRECT\n",
      "\n",
      "\u001b[0;30;30m --------------------------\n",
      "\n",
      "Truth\n"
     ]
    },
    {
     "data": {
      "text/plain": [
       "id       1653\n",
       "miner       0\n",
       "rust        1\n",
       "phoma       0\n",
       "Name: 389, dtype: int64"
      ]
     },
     "metadata": {},
     "output_type": "display_data"
    },
    {
     "name": "stdout",
     "output_type": "stream",
     "text": [
      "Prediction 0 1 0\n",
      "Prediction 12.562938 49.491367 -36.89367\n",
      "\u001b[1;30;32m CORRECT\n",
      "\n",
      "\u001b[0;30;30m --------------------------\n",
      "\n",
      "Truth\n"
     ]
    },
    {
     "data": {
      "text/plain": [
       "id       1654\n",
       "miner       0\n",
       "rust        1\n",
       "phoma       0\n",
       "Name: 390, dtype: int64"
      ]
     },
     "metadata": {},
     "output_type": "display_data"
    },
    {
     "name": "stdout",
     "output_type": "stream",
     "text": [
      "Prediction 0 1 0\n",
      "Prediction 12.313166 47.608368 -38.903328\n",
      "\u001b[1;30;32m CORRECT\n",
      "\n",
      "\u001b[0;30;30m --------------------------\n",
      "\n",
      "Truth\n"
     ]
    },
    {
     "data": {
      "text/plain": [
       "id       1655\n",
       "miner       0\n",
       "rust        1\n",
       "phoma       0\n",
       "Name: 391, dtype: int64"
      ]
     },
     "metadata": {},
     "output_type": "display_data"
    },
    {
     "name": "stdout",
     "output_type": "stream",
     "text": [
      "Prediction 0 1 0\n",
      "Prediction 12.670292 51.02865 -34.628628\n",
      "\u001b[1;30;32m CORRECT\n",
      "\n",
      "\u001b[0;30;30m --------------------------\n",
      "\n",
      "Truth\n"
     ]
    },
    {
     "data": {
      "text/plain": [
       "id       1656\n",
       "miner       0\n",
       "rust        0\n",
       "phoma       0\n",
       "Name: 392, dtype: int64"
      ]
     },
     "metadata": {},
     "output_type": "display_data"
    },
    {
     "name": "stdout",
     "output_type": "stream",
     "text": [
      "Prediction 0 0 0\n",
      "Prediction 16.894152 -9.624886 -14.544235\n",
      "\u001b[1;30;32m CORRECT\n",
      "\n",
      "\u001b[0;30;30m --------------------------\n",
      "\n",
      "Truth\n"
     ]
    },
    {
     "data": {
      "text/plain": [
       "id       1657\n",
       "miner       0\n",
       "rust        0\n",
       "phoma       0\n",
       "Name: 393, dtype: int64"
      ]
     },
     "metadata": {},
     "output_type": "display_data"
    },
    {
     "name": "stdout",
     "output_type": "stream",
     "text": [
      "Prediction 0 0 0\n",
      "Prediction 17.707996 -8.604234 -16.32326\n",
      "\u001b[1;30;32m CORRECT\n",
      "\n",
      "\u001b[0;30;30m --------------------------\n",
      "\n",
      "Truth\n"
     ]
    },
    {
     "data": {
      "text/plain": [
       "id       1658\n",
       "miner       0\n",
       "rust        0\n",
       "phoma       0\n",
       "Name: 394, dtype: int64"
      ]
     },
     "metadata": {},
     "output_type": "display_data"
    },
    {
     "name": "stdout",
     "output_type": "stream",
     "text": [
      "Prediction 0 0 0\n",
      "Prediction 17.37643 -9.863373 -14.382131\n",
      "\u001b[1;30;32m CORRECT\n",
      "\n",
      "\u001b[0;30;30m --------------------------\n",
      "\n",
      "Truth\n"
     ]
    },
    {
     "data": {
      "text/plain": [
       "id       1659\n",
       "miner       0\n",
       "rust        0\n",
       "phoma       0\n",
       "Name: 395, dtype: int64"
      ]
     },
     "metadata": {},
     "output_type": "display_data"
    },
    {
     "name": "stdout",
     "output_type": "stream",
     "text": [
      "Prediction 0 0 0\n",
      "Prediction 17.83344 -8.891394 -14.881295\n",
      "\u001b[1;30;32m CORRECT\n",
      "\n",
      "\u001b[0;30;30m --------------------------\n",
      "\n",
      "Truth\n"
     ]
    },
    {
     "data": {
      "text/plain": [
       "id       1660\n",
       "miner       0\n",
       "rust        1\n",
       "phoma       0\n",
       "Name: 396, dtype: int64"
      ]
     },
     "metadata": {},
     "output_type": "display_data"
    },
    {
     "name": "stdout",
     "output_type": "stream",
     "text": [
      "Prediction 0 1 0\n",
      "Prediction 13.685795 114.0514 -28.575886\n",
      "\u001b[1;30;32m CORRECT\n",
      "\n",
      "\u001b[0;30;30m --------------------------\n",
      "\n",
      "Truth\n"
     ]
    },
    {
     "data": {
      "text/plain": [
       "id       1661\n",
       "miner       0\n",
       "rust        1\n",
       "phoma       0\n",
       "Name: 397, dtype: int64"
      ]
     },
     "metadata": {},
     "output_type": "display_data"
    },
    {
     "name": "stdout",
     "output_type": "stream",
     "text": [
      "Prediction 0 1 0\n",
      "Prediction 12.996326 104.30392 -26.143253\n",
      "\u001b[1;30;32m CORRECT\n",
      "\n",
      "\u001b[0;30;30m --------------------------\n",
      "\n",
      "Truth\n"
     ]
    },
    {
     "data": {
      "text/plain": [
       "id       1662\n",
       "miner       0\n",
       "rust        1\n",
       "phoma       0\n",
       "Name: 398, dtype: int64"
      ]
     },
     "metadata": {},
     "output_type": "display_data"
    },
    {
     "name": "stdout",
     "output_type": "stream",
     "text": [
      "Prediction 0 1 0\n",
      "Prediction 12.415384 105.33128 -30.143057\n",
      "\u001b[1;30;32m CORRECT\n",
      "\n",
      "\u001b[0;30;30m --------------------------\n",
      "\n",
      "Truth\n"
     ]
    },
    {
     "data": {
      "text/plain": [
       "id       1663\n",
       "miner       0\n",
       "rust        1\n",
       "phoma       0\n",
       "Name: 399, dtype: int64"
      ]
     },
     "metadata": {},
     "output_type": "display_data"
    },
    {
     "name": "stdout",
     "output_type": "stream",
     "text": [
      "Prediction 0 1 0\n",
      "Prediction 12.174524 105.70586 -25.882343\n",
      "\u001b[1;30;32m CORRECT\n",
      "\n",
      "\u001b[0;30;30m --------------------------\n",
      "\n"
     ]
    }
   ],
   "source": [
    "#models usage\n",
    "identifier = 511\n",
    "img_width, img_height = 1024, 1024\n",
    "\n",
    "trl = pd.read_csv('/kaggle/input/coffee-leaf-diseases/test_classes.csv')\n",
    "for index, row in trl.iterrows():\n",
    "    img = image.load_img('/kaggle/input/coffee-leaf-diseases/coffee-leaf-diseases/test/images/' + str(row['id']) + '.jpg', target_size = (img_width, img_height))\n",
    "    img = image.img_to_array(img)\n",
    "    img = np.expand_dims(img, axis = 0)\n",
    "    #labels =  pd.read_csv('/kaggle/input/coffee-leaf-diseases/test_classes.csv')\n",
    "    #display('Truth', labels[labels['id'] == identifier])\n",
    "    print('Truth')\n",
    "    display(row)\n",
    "    predictionm = binminer.predict(img)[0][0]\n",
    "    predictionr = binrust.predict(img)[0][0]\n",
    "    predictionp = binphoma.predict(img)[0][0]\n",
    "    predictionms = 1 if predictionm < 0 else 0\n",
    "    predictionrs = 0 if predictionr < 0 else 1\n",
    "    predictionps = 0 if predictionp < 0 else 1\n",
    "\n",
    "    print(\"Prediction\", predictionms, predictionrs, predictionps)\n",
    "    print(\"Prediction\", predictionm, predictionr, predictionp)\n",
    "    if(predictionms == row['miner'] and predictionrs == row['rust'] and predictionps == row['phoma']):\n",
    "        print('\\033[1;30;32m CORRECT\\n')\n",
    "        print('\\033[0;30;30m --------------------------\\n')\n",
    "    else:\n",
    "        print('\\033[1;30;31m WRONG\\n')\n",
    "        print('\\033[0;30;30m --------------------------\\n')\n",
    "\n",
    "\n",
    "\n"
   ]
  }
 ],
 "metadata": {
  "kernelspec": {
   "display_name": "Python 3",
   "language": "python",
   "name": "python3"
  },
  "language_info": {
   "codemirror_mode": {
    "name": "ipython",
    "version": 3
   },
   "file_extension": ".py",
   "mimetype": "text/x-python",
   "name": "python",
   "nbconvert_exporter": "python",
   "pygments_lexer": "ipython3",
   "version": "3.7.12"
  },
  "papermill": {
   "default_parameters": {},
   "duration": 1731.553847,
   "end_time": "2022-01-09T15:15:06.987983",
   "environment_variables": {},
   "exception": null,
   "input_path": "__notebook__.ipynb",
   "output_path": "__notebook__.ipynb",
   "parameters": {},
   "start_time": "2022-01-09T14:46:15.434136",
   "version": "2.3.3"
  }
 },
 "nbformat": 4,
 "nbformat_minor": 5
}
